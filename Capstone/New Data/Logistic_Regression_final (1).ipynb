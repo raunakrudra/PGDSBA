{
 "cells": [
  {
   "cell_type": "code",
   "execution_count": 139,
   "metadata": {},
   "outputs": [],
   "source": [
    "import numpy as np\n",
    "import pandas as pd\n",
    "import matplotlib.pyplot as plt\n",
    "import imblearn as imblearn\n",
    "import warnings\n",
    "warnings.filterwarnings('ignore')"
   ]
  },
  {
   "cell_type": "code",
   "execution_count": 140,
   "metadata": {},
   "outputs": [],
   "source": [
    "train_data=pd.read_csv(\"G:\\\\Shraddha\\\\BABI\\\\Project\\\\NewData\\\\clean_data.csv\");"
   ]
  },
  {
   "cell_type": "code",
   "execution_count": 141,
   "metadata": {},
   "outputs": [],
   "source": [
    "test_data=pd.read_csv(\"G:\\\\Shraddha\\\\BABI\\\\Project\\\\NewData\\\\validation_data.csv\");"
   ]
  },
  {
   "cell_type": "code",
   "execution_count": 77,
   "metadata": {},
   "outputs": [
    {
     "data": {
      "text/html": [
       "<div>\n",
       "<style scoped>\n",
       "    .dataframe tbody tr th:only-of-type {\n",
       "        vertical-align: middle;\n",
       "    }\n",
       "\n",
       "    .dataframe tbody tr th {\n",
       "        vertical-align: top;\n",
       "    }\n",
       "\n",
       "    .dataframe thead th {\n",
       "        text-align: right;\n",
       "    }\n",
       "</style>\n",
       "<table border=\"1\" class=\"dataframe\">\n",
       "  <thead>\n",
       "    <tr style=\"text-align: right;\">\n",
       "      <th></th>\n",
       "      <th>Unnamed: 0</th>\n",
       "      <th>loan_amnt</th>\n",
       "      <th>term</th>\n",
       "      <th>int_rate</th>\n",
       "      <th>installment</th>\n",
       "      <th>grade</th>\n",
       "      <th>sub_grade</th>\n",
       "      <th>home_ownership</th>\n",
       "      <th>annual_inc</th>\n",
       "      <th>verification_status</th>\n",
       "      <th>...</th>\n",
       "      <th>delinq_2yrs</th>\n",
       "      <th>open_acc</th>\n",
       "      <th>pub_rec</th>\n",
       "      <th>revol_bal</th>\n",
       "      <th>total_acc</th>\n",
       "      <th>initial_list_status</th>\n",
       "      <th>application_type</th>\n",
       "      <th>mort_acc</th>\n",
       "      <th>loan_age</th>\n",
       "      <th>fico_value</th>\n",
       "    </tr>\n",
       "  </thead>\n",
       "  <tbody>\n",
       "    <tr>\n",
       "      <th>0</th>\n",
       "      <td>0</td>\n",
       "      <td>7500.0</td>\n",
       "      <td>36</td>\n",
       "      <td>13.75%</td>\n",
       "      <td>255.43</td>\n",
       "      <td>E</td>\n",
       "      <td>E2</td>\n",
       "      <td>OWN</td>\n",
       "      <td>22000.0</td>\n",
       "      <td>Not Verified</td>\n",
       "      <td>...</td>\n",
       "      <td>1.0</td>\n",
       "      <td>7.0</td>\n",
       "      <td>0.0</td>\n",
       "      <td>4175.0</td>\n",
       "      <td>8.0</td>\n",
       "      <td>f</td>\n",
       "      <td>Individual</td>\n",
       "      <td>0.0</td>\n",
       "      <td>5109</td>\n",
       "      <td>662.0</td>\n",
       "    </tr>\n",
       "    <tr>\n",
       "      <th>1</th>\n",
       "      <td>1</td>\n",
       "      <td>3500.0</td>\n",
       "      <td>36</td>\n",
       "      <td>10.28%</td>\n",
       "      <td>113.39</td>\n",
       "      <td>C</td>\n",
       "      <td>C1</td>\n",
       "      <td>RENT</td>\n",
       "      <td>20000.0</td>\n",
       "      <td>Not Verified</td>\n",
       "      <td>...</td>\n",
       "      <td>0.0</td>\n",
       "      <td>17.0</td>\n",
       "      <td>0.0</td>\n",
       "      <td>1882.0</td>\n",
       "      <td>18.0</td>\n",
       "      <td>f</td>\n",
       "      <td>Individual</td>\n",
       "      <td>0.0</td>\n",
       "      <td>5108</td>\n",
       "      <td>682.0</td>\n",
       "    </tr>\n",
       "    <tr>\n",
       "      <th>2</th>\n",
       "      <td>2</td>\n",
       "      <td>5750.0</td>\n",
       "      <td>36</td>\n",
       "      <td>7.43%</td>\n",
       "      <td>178.69</td>\n",
       "      <td>A</td>\n",
       "      <td>A2</td>\n",
       "      <td>MORTGAGE</td>\n",
       "      <td>125000.0</td>\n",
       "      <td>Not Verified</td>\n",
       "      <td>...</td>\n",
       "      <td>0.0</td>\n",
       "      <td>10.0</td>\n",
       "      <td>0.0</td>\n",
       "      <td>2817.0</td>\n",
       "      <td>16.0</td>\n",
       "      <td>f</td>\n",
       "      <td>Individual</td>\n",
       "      <td>0.0</td>\n",
       "      <td>5108</td>\n",
       "      <td>792.0</td>\n",
       "    </tr>\n",
       "    <tr>\n",
       "      <th>3</th>\n",
       "      <td>3</td>\n",
       "      <td>5000.0</td>\n",
       "      <td>36</td>\n",
       "      <td>7.43%</td>\n",
       "      <td>155.38</td>\n",
       "      <td>A</td>\n",
       "      <td>A2</td>\n",
       "      <td>RENT</td>\n",
       "      <td>40000.0</td>\n",
       "      <td>Not Verified</td>\n",
       "      <td>...</td>\n",
       "      <td>0.0</td>\n",
       "      <td>4.0</td>\n",
       "      <td>0.0</td>\n",
       "      <td>2562.0</td>\n",
       "      <td>7.0</td>\n",
       "      <td>f</td>\n",
       "      <td>Individual</td>\n",
       "      <td>0.0</td>\n",
       "      <td>5108</td>\n",
       "      <td>772.0</td>\n",
       "    </tr>\n",
       "    <tr>\n",
       "      <th>4</th>\n",
       "      <td>4</td>\n",
       "      <td>1200.0</td>\n",
       "      <td>36</td>\n",
       "      <td>11.54%</td>\n",
       "      <td>39.60</td>\n",
       "      <td>C</td>\n",
       "      <td>C5</td>\n",
       "      <td>RENT</td>\n",
       "      <td>20000.0</td>\n",
       "      <td>Not Verified</td>\n",
       "      <td>...</td>\n",
       "      <td>0.0</td>\n",
       "      <td>3.0</td>\n",
       "      <td>0.0</td>\n",
       "      <td>1153.0</td>\n",
       "      <td>4.0</td>\n",
       "      <td>f</td>\n",
       "      <td>Individual</td>\n",
       "      <td>0.0</td>\n",
       "      <td>5108</td>\n",
       "      <td>662.0</td>\n",
       "    </tr>\n",
       "  </tbody>\n",
       "</table>\n",
       "<p>5 rows × 24 columns</p>\n",
       "</div>"
      ],
      "text/plain": [
       "   Unnamed: 0  loan_amnt  term int_rate  installment grade sub_grade  \\\n",
       "0           0     7500.0    36   13.75%       255.43     E        E2   \n",
       "1           1     3500.0    36   10.28%       113.39     C        C1   \n",
       "2           2     5750.0    36    7.43%       178.69     A        A2   \n",
       "3           3     5000.0    36    7.43%       155.38     A        A2   \n",
       "4           4     1200.0    36   11.54%        39.60     C        C5   \n",
       "\n",
       "  home_ownership  annual_inc verification_status  ... delinq_2yrs open_acc  \\\n",
       "0            OWN     22000.0        Not Verified  ...         1.0      7.0   \n",
       "1           RENT     20000.0        Not Verified  ...         0.0     17.0   \n",
       "2       MORTGAGE    125000.0        Not Verified  ...         0.0     10.0   \n",
       "3           RENT     40000.0        Not Verified  ...         0.0      4.0   \n",
       "4           RENT     20000.0        Not Verified  ...         0.0      3.0   \n",
       "\n",
       "  pub_rec  revol_bal  total_acc  initial_list_status  application_type  \\\n",
       "0     0.0     4175.0        8.0                    f        Individual   \n",
       "1     0.0     1882.0       18.0                    f        Individual   \n",
       "2     0.0     2817.0       16.0                    f        Individual   \n",
       "3     0.0     2562.0        7.0                    f        Individual   \n",
       "4     0.0     1153.0        4.0                    f        Individual   \n",
       "\n",
       "   mort_acc  loan_age fico_value  \n",
       "0       0.0      5109      662.0  \n",
       "1       0.0      5108      682.0  \n",
       "2       0.0      5108      792.0  \n",
       "3       0.0      5108      772.0  \n",
       "4       0.0      5108      662.0  \n",
       "\n",
       "[5 rows x 24 columns]"
      ]
     },
     "execution_count": 77,
     "metadata": {},
     "output_type": "execute_result"
    }
   ],
   "source": [
    "train_data.head()"
   ]
  },
  {
   "cell_type": "code",
   "execution_count": 142,
   "metadata": {},
   "outputs": [],
   "source": [
    "#drop open_acc column since it has high correlation with total_acc 0.69%\n",
    "train_data.drop(['open_acc'], axis=1,inplace=True)\n",
    "test_data.drop(['open_acc'], axis=1,inplace=True)"
   ]
  },
  {
   "cell_type": "code",
   "execution_count": 143,
   "metadata": {},
   "outputs": [],
   "source": [
    "train_data.drop(['Unnamed: 0'], axis=1,inplace=True)\n",
    "test_data.drop(['Unnamed: 0'], axis=1,inplace=True)"
   ]
  },
  {
   "cell_type": "code",
   "execution_count": 144,
   "metadata": {},
   "outputs": [],
   "source": [
    "rows = train_data.shape[0] \n",
    "cols = train_data.shape[1] "
   ]
  },
  {
   "cell_type": "code",
   "execution_count": 81,
   "metadata": {},
   "outputs": [],
   "source": [
    "#remove home_ownership from test and train data\n",
    "#train_data.drop(['home_ownership'], axis=1,inplace=True)\n",
    "#test_data.drop(['home_ownership'], axis=1,inplace=True)"
   ]
  },
  {
   "cell_type": "code",
   "execution_count": 82,
   "metadata": {},
   "outputs": [],
   "source": [
    "#remove home_ownership from test and train data\n",
    "#train_data.drop(['application_type'], axis=1,inplace=True)\n",
    "#test_data.drop(['application_type'], axis=1,inplace=True)"
   ]
  },
  {
   "cell_type": "code",
   "execution_count": 83,
   "metadata": {},
   "outputs": [],
   "source": [
    "\n",
    "#remove home_ownership from test and train data\n",
    "#train_data.drop(['initial_list_status'], axis=1,inplace=True)\n",
    "#test_data.drop(['initial_list_status'], axis=1,inplace=True)"
   ]
  },
  {
   "cell_type": "code",
   "execution_count": 145,
   "metadata": {},
   "outputs": [],
   "source": [
    "train_data.drop(['int_rate'], axis=1,inplace=True)\n",
    "test_data.drop(['int_rate'], axis=1,inplace=True)"
   ]
  },
  {
   "cell_type": "code",
   "execution_count": 146,
   "metadata": {},
   "outputs": [],
   "source": [
    "#try dropping sub grade column\n",
    "train_data.drop(['sub_grade'], axis=1,inplace=True)\n",
    "test_data.drop(['sub_grade'], axis=1,inplace=True)"
   ]
  },
  {
   "cell_type": "code",
   "execution_count": 159,
   "metadata": {},
   "outputs": [
    {
     "ename": "AttributeError",
     "evalue": "Can only use .str accessor with string values!",
     "output_type": "error",
     "traceback": [
      "\u001b[1;31m---------------------------------------------------------------------------\u001b[0m",
      "\u001b[1;31mAttributeError\u001b[0m                            Traceback (most recent call last)",
      "\u001b[1;32m<ipython-input-159-071bc9876066>\u001b[0m in \u001b[0;36m<module>\u001b[1;34m\u001b[0m\n\u001b[1;32m----> 1\u001b[1;33m \u001b[0mtrain_data\u001b[0m\u001b[1;33m[\u001b[0m\u001b[1;34m'loan_status'\u001b[0m\u001b[1;33m]\u001b[0m \u001b[1;33m=\u001b[0m \u001b[0mtrain_data\u001b[0m\u001b[1;33m[\u001b[0m\u001b[1;34m'loan_status'\u001b[0m\u001b[1;33m]\u001b[0m\u001b[1;33m.\u001b[0m\u001b[0mstr\u001b[0m\u001b[1;33m.\u001b[0m\u001b[0mreplace\u001b[0m\u001b[1;33m(\u001b[0m\u001b[1;34m'Fully Paid'\u001b[0m\u001b[1;33m,\u001b[0m\u001b[1;34m'0'\u001b[0m\u001b[1;33m)\u001b[0m\u001b[1;33m\u001b[0m\u001b[1;33m\u001b[0m\u001b[0m\n\u001b[0m\u001b[0;32m      2\u001b[0m \u001b[0mtrain_data\u001b[0m\u001b[1;33m[\u001b[0m\u001b[1;34m'loan_status'\u001b[0m\u001b[1;33m]\u001b[0m \u001b[1;33m=\u001b[0m \u001b[0mtrain_data\u001b[0m\u001b[1;33m[\u001b[0m\u001b[1;34m'loan_status'\u001b[0m\u001b[1;33m]\u001b[0m\u001b[1;33m.\u001b[0m\u001b[0mstr\u001b[0m\u001b[1;33m.\u001b[0m\u001b[0mreplace\u001b[0m\u001b[1;33m(\u001b[0m\u001b[1;34m'Charged Off'\u001b[0m\u001b[1;33m,\u001b[0m\u001b[1;34m'1'\u001b[0m\u001b[1;33m)\u001b[0m\u001b[1;33m\u001b[0m\u001b[1;33m\u001b[0m\u001b[0m\n\u001b[0;32m      3\u001b[0m \u001b[0mtrain_data\u001b[0m\u001b[1;33m[\u001b[0m\u001b[1;34m'loan_status'\u001b[0m\u001b[1;33m]\u001b[0m\u001b[1;33m=\u001b[0m\u001b[0mtrain_data\u001b[0m\u001b[1;33m[\u001b[0m\u001b[1;34m'loan_status'\u001b[0m\u001b[1;33m]\u001b[0m\u001b[1;33m.\u001b[0m\u001b[0mastype\u001b[0m\u001b[1;33m(\u001b[0m\u001b[0mint\u001b[0m\u001b[1;33m)\u001b[0m\u001b[1;33m\u001b[0m\u001b[1;33m\u001b[0m\u001b[0m\n",
      "\u001b[1;32m~\\anaconda3\\lib\\site-packages\\pandas\\core\\generic.py\u001b[0m in \u001b[0;36m__getattr__\u001b[1;34m(self, name)\u001b[0m\n\u001b[0;32m   5133\u001b[0m             \u001b[1;32mor\u001b[0m \u001b[0mname\u001b[0m \u001b[1;32min\u001b[0m \u001b[0mself\u001b[0m\u001b[1;33m.\u001b[0m\u001b[0m_accessors\u001b[0m\u001b[1;33m\u001b[0m\u001b[1;33m\u001b[0m\u001b[0m\n\u001b[0;32m   5134\u001b[0m         ):\n\u001b[1;32m-> 5135\u001b[1;33m             \u001b[1;32mreturn\u001b[0m \u001b[0mobject\u001b[0m\u001b[1;33m.\u001b[0m\u001b[0m__getattribute__\u001b[0m\u001b[1;33m(\u001b[0m\u001b[0mself\u001b[0m\u001b[1;33m,\u001b[0m \u001b[0mname\u001b[0m\u001b[1;33m)\u001b[0m\u001b[1;33m\u001b[0m\u001b[1;33m\u001b[0m\u001b[0m\n\u001b[0m\u001b[0;32m   5136\u001b[0m         \u001b[1;32melse\u001b[0m\u001b[1;33m:\u001b[0m\u001b[1;33m\u001b[0m\u001b[1;33m\u001b[0m\u001b[0m\n\u001b[0;32m   5137\u001b[0m             \u001b[1;32mif\u001b[0m \u001b[0mself\u001b[0m\u001b[1;33m.\u001b[0m\u001b[0m_info_axis\u001b[0m\u001b[1;33m.\u001b[0m\u001b[0m_can_hold_identifiers_and_holds_name\u001b[0m\u001b[1;33m(\u001b[0m\u001b[0mname\u001b[0m\u001b[1;33m)\u001b[0m\u001b[1;33m:\u001b[0m\u001b[1;33m\u001b[0m\u001b[1;33m\u001b[0m\u001b[0m\n",
      "\u001b[1;32m~\\anaconda3\\lib\\site-packages\\pandas\\core\\accessor.py\u001b[0m in \u001b[0;36m__get__\u001b[1;34m(self, obj, cls)\u001b[0m\n\u001b[0;32m    185\u001b[0m             \u001b[1;31m# we're accessing the attribute of the class, i.e., Dataset.geo\u001b[0m\u001b[1;33m\u001b[0m\u001b[1;33m\u001b[0m\u001b[1;33m\u001b[0m\u001b[0m\n\u001b[0;32m    186\u001b[0m             \u001b[1;32mreturn\u001b[0m \u001b[0mself\u001b[0m\u001b[1;33m.\u001b[0m\u001b[0m_accessor\u001b[0m\u001b[1;33m\u001b[0m\u001b[1;33m\u001b[0m\u001b[0m\n\u001b[1;32m--> 187\u001b[1;33m         \u001b[0maccessor_obj\u001b[0m \u001b[1;33m=\u001b[0m \u001b[0mself\u001b[0m\u001b[1;33m.\u001b[0m\u001b[0m_accessor\u001b[0m\u001b[1;33m(\u001b[0m\u001b[0mobj\u001b[0m\u001b[1;33m)\u001b[0m\u001b[1;33m\u001b[0m\u001b[1;33m\u001b[0m\u001b[0m\n\u001b[0m\u001b[0;32m    188\u001b[0m         \u001b[1;31m# Replace the property with the accessor object. Inspired by:\u001b[0m\u001b[1;33m\u001b[0m\u001b[1;33m\u001b[0m\u001b[1;33m\u001b[0m\u001b[0m\n\u001b[0;32m    189\u001b[0m         \u001b[1;31m# https://www.pydanny.com/cached-property.html\u001b[0m\u001b[1;33m\u001b[0m\u001b[1;33m\u001b[0m\u001b[1;33m\u001b[0m\u001b[0m\n",
      "\u001b[1;32m~\\anaconda3\\lib\\site-packages\\pandas\\core\\strings.py\u001b[0m in \u001b[0;36m__init__\u001b[1;34m(self, data)\u001b[0m\n\u001b[0;32m   2098\u001b[0m \u001b[1;33m\u001b[0m\u001b[0m\n\u001b[0;32m   2099\u001b[0m     \u001b[1;32mdef\u001b[0m \u001b[0m__init__\u001b[0m\u001b[1;33m(\u001b[0m\u001b[0mself\u001b[0m\u001b[1;33m,\u001b[0m \u001b[0mdata\u001b[0m\u001b[1;33m)\u001b[0m\u001b[1;33m:\u001b[0m\u001b[1;33m\u001b[0m\u001b[1;33m\u001b[0m\u001b[0m\n\u001b[1;32m-> 2100\u001b[1;33m         \u001b[0mself\u001b[0m\u001b[1;33m.\u001b[0m\u001b[0m_inferred_dtype\u001b[0m \u001b[1;33m=\u001b[0m \u001b[0mself\u001b[0m\u001b[1;33m.\u001b[0m\u001b[0m_validate\u001b[0m\u001b[1;33m(\u001b[0m\u001b[0mdata\u001b[0m\u001b[1;33m)\u001b[0m\u001b[1;33m\u001b[0m\u001b[1;33m\u001b[0m\u001b[0m\n\u001b[0m\u001b[0;32m   2101\u001b[0m         \u001b[0mself\u001b[0m\u001b[1;33m.\u001b[0m\u001b[0m_is_categorical\u001b[0m \u001b[1;33m=\u001b[0m \u001b[0mis_categorical_dtype\u001b[0m\u001b[1;33m(\u001b[0m\u001b[0mdata\u001b[0m\u001b[1;33m.\u001b[0m\u001b[0mdtype\u001b[0m\u001b[1;33m)\u001b[0m\u001b[1;33m\u001b[0m\u001b[1;33m\u001b[0m\u001b[0m\n\u001b[0;32m   2102\u001b[0m         \u001b[0mself\u001b[0m\u001b[1;33m.\u001b[0m\u001b[0m_is_string\u001b[0m \u001b[1;33m=\u001b[0m \u001b[0mdata\u001b[0m\u001b[1;33m.\u001b[0m\u001b[0mdtype\u001b[0m\u001b[1;33m.\u001b[0m\u001b[0mname\u001b[0m \u001b[1;33m==\u001b[0m \u001b[1;34m\"string\"\u001b[0m\u001b[1;33m\u001b[0m\u001b[1;33m\u001b[0m\u001b[0m\n",
      "\u001b[1;32m~\\anaconda3\\lib\\site-packages\\pandas\\core\\strings.py\u001b[0m in \u001b[0;36m_validate\u001b[1;34m(data)\u001b[0m\n\u001b[0;32m   2155\u001b[0m \u001b[1;33m\u001b[0m\u001b[0m\n\u001b[0;32m   2156\u001b[0m         \u001b[1;32mif\u001b[0m \u001b[0minferred_dtype\u001b[0m \u001b[1;32mnot\u001b[0m \u001b[1;32min\u001b[0m \u001b[0mallowed_types\u001b[0m\u001b[1;33m:\u001b[0m\u001b[1;33m\u001b[0m\u001b[1;33m\u001b[0m\u001b[0m\n\u001b[1;32m-> 2157\u001b[1;33m             \u001b[1;32mraise\u001b[0m \u001b[0mAttributeError\u001b[0m\u001b[1;33m(\u001b[0m\u001b[1;34m\"Can only use .str accessor with string values!\"\u001b[0m\u001b[1;33m)\u001b[0m\u001b[1;33m\u001b[0m\u001b[1;33m\u001b[0m\u001b[0m\n\u001b[0m\u001b[0;32m   2158\u001b[0m         \u001b[1;32mreturn\u001b[0m \u001b[0minferred_dtype\u001b[0m\u001b[1;33m\u001b[0m\u001b[1;33m\u001b[0m\u001b[0m\n\u001b[0;32m   2159\u001b[0m \u001b[1;33m\u001b[0m\u001b[0m\n",
      "\u001b[1;31mAttributeError\u001b[0m: Can only use .str accessor with string values!"
     ]
    }
   ],
   "source": [
    "train_data['loan_status'] = train_data['loan_status'].str.replace('Fully Paid','0')\n",
    "train_data['loan_status'] = train_data['loan_status'].str.replace('Charged Off','1')\n",
    "train_data['loan_status']=train_data['loan_status'].astype(int)"
   ]
  },
  {
   "cell_type": "code",
   "execution_count": 148,
   "metadata": {},
   "outputs": [],
   "source": [
    "test_data['loan_status'] = test_data['loan_status'].str.replace('Fully Paid','0')\n",
    "test_data['loan_status'] = test_data['loan_status'].str.replace('Charged Off','1')\n",
    "test_data['loan_status']=test_data['loan_status'].astype(int)"
   ]
  },
  {
   "cell_type": "code",
   "execution_count": 88,
   "metadata": {},
   "outputs": [],
   "source": [
    "address=pd.DataFrame(train_data['addr_state'].value_counts())"
   ]
  },
  {
   "cell_type": "code",
   "execution_count": 149,
   "metadata": {},
   "outputs": [],
   "source": [
    "\n",
    "one_hot_train=pd.get_dummies(train_data, columns=[\"verification_status\", \"purpose\",\"addr_state\",\"application_type\",\"initial_list_status\",\"home_ownership\",\"grade\"], \n",
    "                             prefix=[\"verification_status.\", \"purpose.\",\"addr_state.\",\"application_type.\",\"initial_list_status.\",\"home_ownership.\",\"grade.\"])"
   ]
  },
  {
   "cell_type": "code",
   "execution_count": 150,
   "metadata": {},
   "outputs": [],
   "source": [
    "\n",
    "one_hot_test=pd.get_dummies(test_data, columns=[\"verification_status\", \"purpose\",\"addr_state\",\"application_type\",\"initial_list_status\",\"home_ownership\",\"grade\"], prefix=[\n",
    "    \"verification_status.\", \"purpose.\",\"addr_state.\",\"application_type.\",\"initial_list_status.\",\"home_ownership.\",\"grade.\"])"
   ]
  },
  {
   "cell_type": "code",
   "execution_count": 151,
   "metadata": {},
   "outputs": [],
   "source": [
    "one_hot_train['addr_state.west'] =sum([one_hot_train['addr_state._CA'],\n",
    "                                       one_hot_train['addr_state._AZ'],\n",
    "                                       one_hot_train['addr_state._WA'],\n",
    "                                       one_hot_train['addr_state._CO'],\n",
    "                                       one_hot_train['addr_state._NV'],\n",
    "                                       one_hot_train['addr_state._OR'],\n",
    "                                       one_hot_train['addr_state._UT'],\n",
    "                                       one_hot_train['addr_state._NM'],\n",
    "                                       one_hot_train['addr_state._HI'],\n",
    "                                       one_hot_train['addr_state._FL'],\n",
    "                                       one_hot_train['addr_state._AK'],\n",
    "                                       one_hot_train['addr_state._WY'],\n",
    "                                       one_hot_train['addr_state._ID']\n",
    "                                     ])\n",
    "one_hot_train['addr_state.Mid_West'] =sum([one_hot_train['addr_state._IL'],\n",
    "                                            one_hot_train['addr_state._OH'],\n",
    "                                            one_hot_train['addr_state._MI'],\n",
    "                                            one_hot_train['addr_state._MN'],\n",
    "                                            one_hot_train['addr_state._MO'],\n",
    "                                            one_hot_train['addr_state._IN'],\n",
    "                                            one_hot_train['addr_state._WI'],\n",
    "                                            one_hot_train['addr_state._KS'],\n",
    "                                            one_hot_train['addr_state._SD'],\n",
    "                                            one_hot_train['addr_state._NE'],\n",
    "                                            one_hot_train['addr_state._ND'],\n",
    "                                            one_hot_train['addr_state._IA']\n",
    "                                    ])\n",
    "one_hot_train['addr_state.North_East'] =sum([one_hot_train['addr_state._NY'],\n",
    "                                            one_hot_train['addr_state._NJ'],\n",
    "                                            one_hot_train['addr_state._PA'],\n",
    "                                            one_hot_train['addr_state._MA'],\n",
    "                                            one_hot_train['addr_state._CT'],\n",
    "                                            one_hot_train['addr_state._NH'],\n",
    "                                            one_hot_train['addr_state._RI'],\n",
    "                                            one_hot_train['addr_state._DE'],\n",
    "                                            one_hot_train['addr_state._DC'],\n",
    "                                            one_hot_train['addr_state._VT'],\n",
    "                                            one_hot_train['addr_state._ME']\n",
    "                                               ])\n",
    "one_hot_train['addr_state.South'] =sum([one_hot_train['addr_state._TX'],\n",
    "                                            one_hot_train['addr_state._FL'],\n",
    "                                            one_hot_train['addr_state._GA'],\n",
    "                                            one_hot_train['addr_state._VA'],\n",
    "                                            one_hot_train['addr_state._NC'],\n",
    "                                            one_hot_train['addr_state._MD'],\n",
    "                                            one_hot_train['addr_state._TN'],\n",
    "                                            one_hot_train['addr_state._AL'],\n",
    "                                            one_hot_train['addr_state._SC'],\n",
    "                                            one_hot_train['addr_state._LA'],\n",
    "                                            one_hot_train['addr_state._KY'],\n",
    "                                            one_hot_train['addr_state._OK'],\n",
    "                                            one_hot_train['addr_state._AR'],\n",
    "                                            one_hot_train['addr_state._WV'],\n",
    "                                            one_hot_train['addr_state._MS']  \n",
    "                                            ])\n"
   ]
  },
  {
   "cell_type": "code",
   "execution_count": 152,
   "metadata": {},
   "outputs": [],
   "source": [
    "one_hot_train.drop(['addr_state._AK','addr_state._AL','addr_state._AR','addr_state._AZ','addr_state._CO','addr_state._CT',\n",
    "'addr_state._DC','addr_state._DE','addr_state._FL','addr_state._GA','addr_state._HI','addr_state._IA','addr_state._ID',\n",
    "'addr_state._IL','addr_state._IN','addr_state._KS','addr_state._KY','addr_state._LA','addr_state._MA','addr_state._MD',\n",
    "'addr_state._ME','addr_state._MI','addr_state._MN','addr_state._MO','addr_state._MS','addr_state._MT','addr_state._NC',\n",
    "'addr_state._ND','addr_state._NE','addr_state._NH','addr_state._NJ','addr_state._NM','addr_state._NV','addr_state._NY',\n",
    "'addr_state._OH','addr_state._OK','addr_state._OR','addr_state._PA','addr_state._RI','addr_state._SC','addr_state._SD',\n",
    "'addr_state._TN','addr_state._TX','addr_state._UT','addr_state._VA','addr_state._VT','addr_state._WA','addr_state._WI',\n",
    "'addr_state._WV','addr_state._WY','addr_state._CA'], axis=1,inplace=True)"
   ]
  },
  {
   "cell_type": "code",
   "execution_count": 153,
   "metadata": {},
   "outputs": [],
   "source": [
    "one_hot_test['addr_state.west'] =sum([one_hot_test['addr_state._CA'],\n",
    "                                       one_hot_test['addr_state._AZ'],\n",
    "                                       one_hot_test['addr_state._WA'],\n",
    "                                       one_hot_test['addr_state._CO'],\n",
    "                                       one_hot_test['addr_state._NV'],\n",
    "                                       one_hot_test['addr_state._OR'],\n",
    "                                       one_hot_test['addr_state._UT'],\n",
    "                                       one_hot_test['addr_state._NM'],\n",
    "                                       one_hot_test['addr_state._HI'],\n",
    "                                       one_hot_test['addr_state._FL'],\n",
    "                                       one_hot_test['addr_state._AK'],\n",
    "                                       one_hot_test['addr_state._WY'],\n",
    "                                       one_hot_test['addr_state._ID']\n",
    "                                     ])\n",
    "one_hot_test['addr_state.Mid_West'] =sum([one_hot_test['addr_state._IL'],\n",
    "                                            one_hot_test['addr_state._OH'],\n",
    "                                            one_hot_test['addr_state._MI'],\n",
    "                                            one_hot_test['addr_state._MN'],\n",
    "                                            one_hot_test['addr_state._MO'],\n",
    "                                            one_hot_test['addr_state._IN'],\n",
    "                                            one_hot_test['addr_state._WI'],\n",
    "                                            one_hot_test['addr_state._KS'],\n",
    "                                            one_hot_test['addr_state._SD'],\n",
    "                                            one_hot_test['addr_state._NE'],\n",
    "                                            one_hot_test['addr_state._ND']\n",
    "                                           # one_hot_test['addr_state._IA']\n",
    "                                    ])\n",
    "one_hot_test['addr_state.North_East'] =sum([one_hot_test['addr_state._NY'],\n",
    "                                            one_hot_test['addr_state._NJ'],\n",
    "                                            one_hot_test['addr_state._PA'],\n",
    "                                            one_hot_test['addr_state._MA'],\n",
    "                                            one_hot_test['addr_state._CT'],\n",
    "                                            one_hot_test['addr_state._NH'],\n",
    "                                            one_hot_test['addr_state._RI'],\n",
    "                                            one_hot_test['addr_state._DE'],\n",
    "                                            one_hot_test['addr_state._DC'],\n",
    "                                            one_hot_test['addr_state._VT'],\n",
    "                                            one_hot_test['addr_state._ME']\n",
    "                                               ])\n",
    "one_hot_test['addr_state.South'] =sum([one_hot_test['addr_state._TX'],\n",
    "                                            one_hot_test['addr_state._FL'],\n",
    "                                            one_hot_test['addr_state._GA'],\n",
    "                                            one_hot_test['addr_state._VA'],\n",
    "                                            one_hot_test['addr_state._NC'],\n",
    "                                            one_hot_test['addr_state._MD'],\n",
    "                                            one_hot_test['addr_state._TN'],\n",
    "                                            one_hot_test['addr_state._AL'],\n",
    "                                            one_hot_test['addr_state._SC'],\n",
    "                                            one_hot_test['addr_state._LA'],\n",
    "                                            one_hot_test['addr_state._KY'],\n",
    "                                            one_hot_test['addr_state._OK'],\n",
    "                                            one_hot_test['addr_state._AR'],\n",
    "                                            one_hot_test['addr_state._WV'],\n",
    "                                            one_hot_test['addr_state._MS']  \n",
    "                                            ])\n"
   ]
  },
  {
   "cell_type": "code",
   "execution_count": 154,
   "metadata": {},
   "outputs": [],
   "source": [
    "one_hot_test.drop(['addr_state._AK','addr_state._AL','addr_state._AR','addr_state._AZ','addr_state._CO','addr_state._CT',\n",
    "'addr_state._DC','addr_state._DE','addr_state._FL','addr_state._GA','addr_state._HI','addr_state._ID',\n",
    "'addr_state._IL','addr_state._IN','addr_state._KS','addr_state._KY','addr_state._LA','addr_state._MA',\n",
    "'addr_state._MD','addr_state._ME','addr_state._MI','addr_state._MN','addr_state._MO','addr_state._MS',\n",
    "'addr_state._MT','addr_state._NC','addr_state._ND','addr_state._NE','addr_state._NH','addr_state._NJ',\n",
    "'addr_state._NM','addr_state._NV','addr_state._NY','addr_state._OH','addr_state._OK','addr_state._OR',\n",
    "'addr_state._PA','addr_state._RI','addr_state._SC','addr_state._SD','addr_state._TN','addr_state._TX',\n",
    "'addr_state._UT','addr_state._VA','addr_state._VT','addr_state._WA','addr_state._WI','addr_state._WV',\n",
    "'addr_state._WY','addr_state._CA'], axis=1,inplace=True)"
   ]
  },
  {
   "cell_type": "code",
   "execution_count": 95,
   "metadata": {},
   "outputs": [
    {
     "data": {
      "text/plain": [
       "(791870, 50)"
      ]
     },
     "execution_count": 95,
     "metadata": {},
     "output_type": "execute_result"
    }
   ],
   "source": [
    "one_hot_test.shape"
   ]
  },
  {
   "cell_type": "code",
   "execution_count": 160,
   "metadata": {},
   "outputs": [],
   "source": [
    "x_train=one_hot_train.drop(['loan_status'],axis=1) \n",
    "y_train=one_hot_train.loan_status"
   ]
  },
  {
   "cell_type": "code",
   "execution_count": 156,
   "metadata": {},
   "outputs": [],
   "source": [
    "x_test=one_hot_test.drop(['loan_status'],axis=1) \n",
    "y_test=one_hot_test.loan_status"
   ]
  },
  {
   "cell_type": "code",
   "execution_count": 98,
   "metadata": {},
   "outputs": [
    {
     "name": "stdout",
     "output_type": "stream",
     "text": [
      "['home_ownership._OTHER']\n"
     ]
    }
   ],
   "source": [
    "#compare train and test column names\n",
    "a = np.intersect1d(x_train.columns, x_test.columns)\n",
    "#print (a)\n",
    "b=x_train.columns\n",
    "#print(b)\n",
    "c=np.array(b)\n",
    "#type(c)\n",
    "print(np.setdiff1d(c,a))"
   ]
  },
  {
   "cell_type": "code",
   "execution_count": 99,
   "metadata": {},
   "outputs": [],
   "source": [
    "#it seems home_ownership._OTHER column is missing into test data so create it\n",
    "x_test['home_ownership._OTHER']=0"
   ]
  },
  {
   "cell_type": "code",
   "execution_count": 100,
   "metadata": {},
   "outputs": [
    {
     "data": {
      "text/plain": [
       "loan_amnt                               float64\n",
       "term                                      int64\n",
       "installment                             float64\n",
       "annual_inc                              float64\n",
       "dti                                     float64\n",
       "delinq_2yrs                             float64\n",
       "pub_rec                                 float64\n",
       "revol_bal                               float64\n",
       "total_acc                               float64\n",
       "mort_acc                                float64\n",
       "loan_age                                  int64\n",
       "fico_value                              float64\n",
       "verification_status._Not Verified         uint8\n",
       "verification_status._Source Verified      uint8\n",
       "verification_status._Verified             uint8\n",
       "purpose._car                              uint8\n",
       "purpose._credit_card                      uint8\n",
       "purpose._debt_consolidation               uint8\n",
       "purpose._educational                      uint8\n",
       "purpose._home_improvement                 uint8\n",
       "purpose._house                            uint8\n",
       "purpose._major_purchase                   uint8\n",
       "purpose._medical                          uint8\n",
       "purpose._moving                           uint8\n",
       "purpose._other                            uint8\n",
       "purpose._renewable_energy                 uint8\n",
       "purpose._small_business                   uint8\n",
       "purpose._vacation                         uint8\n",
       "purpose._wedding                          uint8\n",
       "application_type._Individual              uint8\n",
       "application_type._Joint App               uint8\n",
       "initial_list_status._f                    uint8\n",
       "initial_list_status._w                    uint8\n",
       "home_ownership._ANY                       uint8\n",
       "home_ownership._MORTGAGE                  uint8\n",
       "home_ownership._NONE                      uint8\n",
       "home_ownership._OTHER                     uint8\n",
       "home_ownership._OWN                       uint8\n",
       "home_ownership._RENT                      uint8\n",
       "grade._A                                  uint8\n",
       "grade._B                                  uint8\n",
       "grade._C                                  uint8\n",
       "grade._D                                  uint8\n",
       "grade._E                                  uint8\n",
       "grade._F                                  uint8\n",
       "grade._G                                  uint8\n",
       "addr_state.west                           uint8\n",
       "addr_state.Mid_West                       uint8\n",
       "addr_state.North_East                     uint8\n",
       "addr_state.South                          uint8\n",
       "dtype: object"
      ]
     },
     "execution_count": 100,
     "metadata": {},
     "output_type": "execute_result"
    }
   ],
   "source": [
    "x_train.dtypes"
   ]
  },
  {
   "cell_type": "code",
   "execution_count": 101,
   "metadata": {},
   "outputs": [
    {
     "data": {
      "text/plain": [
       "DecisionTreeClassifier(criterion='entropy', max_depth=18, random_state=15)"
      ]
     },
     "execution_count": 101,
     "metadata": {},
     "output_type": "execute_result"
    }
   ],
   "source": [
    "#get feature importance\n",
    "from sklearn.tree import DecisionTreeClassifier\n",
    "dt=DecisionTreeClassifier(random_state=15,criterion='entropy',max_depth=18)\n",
    "dt.fit(x_train,y_train)"
   ]
  },
  {
   "cell_type": "code",
   "execution_count": 102,
   "metadata": {},
   "outputs": [],
   "source": [
    "feature_importances = pd.DataFrame(dt.feature_importances_,\n",
    "                                   index = x_train.columns,\n",
    "                                    columns=['importance']).sort_values('importance',ascending=False)"
   ]
  },
  {
   "cell_type": "code",
   "execution_count": 103,
   "metadata": {},
   "outputs": [
    {
     "name": "stdout",
     "output_type": "stream",
     "text": [
      "                                      importance\n",
      "grade._A                                0.113877\n",
      "revol_bal                               0.107341\n",
      "dti                                     0.107262\n",
      "grade._B                                0.094051\n",
      "annual_inc                              0.084155\n",
      "installment                             0.075784\n",
      "total_acc                               0.064041\n",
      "loan_age                                0.062932\n",
      "fico_value                              0.047098\n",
      "grade._C                                0.038767\n",
      "loan_amnt                               0.033492\n",
      "mort_acc                                0.024769\n",
      "term                                    0.020012\n",
      "delinq_2yrs                             0.012172\n",
      "pub_rec                                 0.008938\n",
      "home_ownership._RENT                    0.008678\n",
      "addr_state.South                        0.007320\n",
      "addr_state.west                         0.007303\n",
      "verification_status._Verified           0.007027\n",
      "grade._D                                0.006776\n",
      "purpose._credit_card                    0.005962\n",
      "home_ownership._MORTGAGE                0.005765\n",
      "addr_state.Mid_West                     0.005579\n",
      "addr_state.North_East                   0.005461\n",
      "verification_status._Source Verified    0.004862\n",
      "purpose._debt_consolidation             0.004832\n",
      "verification_status._Not Verified       0.004766\n",
      "purpose._home_improvement               0.003938\n",
      "initial_list_status._w                  0.003584\n",
      "initial_list_status._f                  0.003519\n",
      "purpose._other                          0.003496\n",
      "purpose._small_business                 0.002893\n",
      "home_ownership._OWN                     0.002712\n",
      "grade._E                                0.001913\n",
      "purpose._major_purchase                 0.001805\n",
      "purpose._medical                        0.001414\n",
      "purpose._car                            0.001218\n",
      "purpose._house                          0.001099\n",
      "purpose._vacation                       0.000955\n",
      "purpose._moving                         0.000905\n",
      "grade._F                                0.000445\n",
      "grade._G                                0.000305\n",
      "purpose._educational                    0.000292\n",
      "purpose._wedding                        0.000212\n",
      "home_ownership._OTHER                   0.000103\n",
      "purpose._renewable_energy               0.000091\n",
      "home_ownership._NONE                    0.000061\n",
      "application_type._Individual            0.000017\n",
      "application_type._Joint App             0.000000\n",
      "home_ownership._ANY                     0.000000\n"
     ]
    }
   ],
   "source": [
    "pd.set_option('display.max_rows', feature_importances.shape[0]+1)\n",
    "print(feature_importances)"
   ]
  },
  {
   "cell_type": "code",
   "execution_count": 104,
   "metadata": {},
   "outputs": [
    {
     "data": {
      "text/plain": [
       "LogisticRegression(max_iter=1000)"
      ]
     },
     "execution_count": 104,
     "metadata": {},
     "output_type": "execute_result"
    }
   ],
   "source": [
    "#Import estimator object\n",
    "from sklearn.linear_model import LogisticRegression\n",
    "\n",
    "#create instance of estimator\n",
    "#logreg=LogisticRegression(C=1.0, class_weight=None, dual=False, fit_intercept=True,\n",
    " #                  intercept_scaling=1, l1_ratio=None, max_iter=1000,\n",
    "  #                 multi_class='auto', n_jobs=None, penalty='l2',\n",
    "   #                random_state=None, solver='lbfgs', tol=0.0001, verbose=0,\n",
    "    #               warm_start=False)\n",
    "logreg=LogisticRegression( max_iter=1000)\n",
    "#use traing data to train estimator\n",
    "logreg.fit(x_train,y_train)"
   ]
  },
  {
   "cell_type": "code",
   "execution_count": 105,
   "metadata": {},
   "outputs": [],
   "source": [
    "pred_test=logreg.predict(x_test)"
   ]
  },
  {
   "cell_type": "code",
   "execution_count": 106,
   "metadata": {},
   "outputs": [
    {
     "data": {
      "text/html": [
       "<div>\n",
       "<style scoped>\n",
       "    .dataframe tbody tr th:only-of-type {\n",
       "        vertical-align: middle;\n",
       "    }\n",
       "\n",
       "    .dataframe tbody tr th {\n",
       "        vertical-align: top;\n",
       "    }\n",
       "\n",
       "    .dataframe thead th {\n",
       "        text-align: right;\n",
       "    }\n",
       "</style>\n",
       "<table border=\"1\" class=\"dataframe\">\n",
       "  <thead>\n",
       "    <tr style=\"text-align: right;\">\n",
       "      <th>col_0</th>\n",
       "      <th>0</th>\n",
       "      <th>1</th>\n",
       "    </tr>\n",
       "    <tr>\n",
       "      <th>loan_status</th>\n",
       "      <th></th>\n",
       "      <th></th>\n",
       "    </tr>\n",
       "  </thead>\n",
       "  <tbody>\n",
       "    <tr>\n",
       "      <th>0</th>\n",
       "      <td>636354</td>\n",
       "      <td>5516</td>\n",
       "    </tr>\n",
       "    <tr>\n",
       "      <th>1</th>\n",
       "      <td>144415</td>\n",
       "      <td>5585</td>\n",
       "    </tr>\n",
       "  </tbody>\n",
       "</table>\n",
       "</div>"
      ],
      "text/plain": [
       "col_0             0     1\n",
       "loan_status              \n",
       "0            636354  5516\n",
       "1            144415  5585"
      ]
     },
     "execution_count": 106,
     "metadata": {},
     "output_type": "execute_result"
    }
   ],
   "source": [
    "pd.crosstab(y_test,pred_test)"
   ]
  },
  {
   "cell_type": "code",
   "execution_count": 107,
   "metadata": {},
   "outputs": [],
   "source": [
    "from sklearn.metrics import confusion_matrix\n",
    "from sklearn import metrics"
   ]
  },
  {
   "cell_type": "code",
   "execution_count": 108,
   "metadata": {},
   "outputs": [
    {
     "name": "stdout",
     "output_type": "stream",
     "text": [
      "[[636354   5516]\n",
      " [144415   5585]]\n"
     ]
    }
   ],
   "source": [
    "# Confusion matrix \n",
    "confusion = metrics.confusion_matrix(y_test, pred_test )\n",
    "print(confusion)"
   ]
  },
  {
   "cell_type": "code",
   "execution_count": 109,
   "metadata": {},
   "outputs": [],
   "source": [
    "TP = confusion[1,1] # true positive \n",
    "TN = confusion[0,0] # true negatives\n",
    "FP = confusion[0,1] # false positives\n",
    "FN = confusion[1,0] # false negatives"
   ]
  },
  {
   "cell_type": "code",
   "execution_count": 110,
   "metadata": {},
   "outputs": [
    {
     "name": "stdout",
     "output_type": "stream",
     "text": [
      "Accuracy=0.8106621036281207\n",
      "sensitivity=0.037233333333333334\n",
      "specificity=0.9914063595432097\n"
     ]
    }
   ],
   "source": [
    "accuracy=(TP+TN)/(TP+TN+FP+FN)\n",
    "sensitivity=TP / float(TP+FN)\n",
    "specificity=TN / float(TN+FP)\n",
    "print('Accuracy='+ str(accuracy)) \n",
    "print('sensitivity='+str(sensitivity))\n",
    "print('specificity='+str(specificity))"
   ]
  },
  {
   "cell_type": "code",
   "execution_count": 162,
   "metadata": {},
   "outputs": [
    {
     "data": {
      "text/plain": [
       "0    0.821211\n",
       "1    0.178789\n",
       "Name: loan_status, dtype: float64"
      ]
     },
     "execution_count": 162,
     "metadata": {},
     "output_type": "execute_result"
    }
   ],
   "source": [
    "#check class imbalance \n",
    "y_train.value_counts()/rows\n",
    "#class 0 (Fully Paid) as 82.12% and 1 (Charged off) has 17.87%"
   ]
  },
  {
   "cell_type": "code",
   "execution_count": 163,
   "metadata": {},
   "outputs": [],
   "source": [
    "\n",
    "# import library\n",
    "from imblearn.over_sampling import SMOTE\n",
    "\n",
    "smote = SMOTE()\n",
    "\n",
    "# fit predictor and target variable\n",
    "x_smote, y_smote = smote.fit_resample(x_train, y_train)"
   ]
  },
  {
   "cell_type": "code",
   "execution_count": 165,
   "metadata": {},
   "outputs": [],
   "source": [
    "smote_count=x_smote.shape[0] "
   ]
  },
  {
   "cell_type": "code",
   "execution_count": 166,
   "metadata": {},
   "outputs": [
    {
     "data": {
      "text/plain": [
       "1    0.5\n",
       "0    0.5\n",
       "Name: loan_status, dtype: float64"
      ]
     },
     "execution_count": 166,
     "metadata": {},
     "output_type": "execute_result"
    }
   ],
   "source": [
    "y_smote.value_counts()/smote_count"
   ]
  },
  {
   "cell_type": "code",
   "execution_count": 112,
   "metadata": {},
   "outputs": [
    {
     "data": {
      "text/plain": [
       "LogisticRegression(max_iter=1000)"
      ]
     },
     "execution_count": 112,
     "metadata": {},
     "output_type": "execute_result"
    }
   ],
   "source": [
    "logreg.fit(x_smote,y_smote)"
   ]
  },
  {
   "cell_type": "code",
   "execution_count": 113,
   "metadata": {},
   "outputs": [],
   "source": [
    "pred_test=logreg.predict(x_test)"
   ]
  },
  {
   "cell_type": "code",
   "execution_count": 114,
   "metadata": {},
   "outputs": [
    {
     "data": {
      "text/html": [
       "<div>\n",
       "<style scoped>\n",
       "    .dataframe tbody tr th:only-of-type {\n",
       "        vertical-align: middle;\n",
       "    }\n",
       "\n",
       "    .dataframe tbody tr th {\n",
       "        vertical-align: top;\n",
       "    }\n",
       "\n",
       "    .dataframe thead th {\n",
       "        text-align: right;\n",
       "    }\n",
       "</style>\n",
       "<table border=\"1\" class=\"dataframe\">\n",
       "  <thead>\n",
       "    <tr style=\"text-align: right;\">\n",
       "      <th>col_0</th>\n",
       "      <th>0</th>\n",
       "      <th>1</th>\n",
       "    </tr>\n",
       "    <tr>\n",
       "      <th>loan_status</th>\n",
       "      <th></th>\n",
       "      <th></th>\n",
       "    </tr>\n",
       "  </thead>\n",
       "  <tbody>\n",
       "    <tr>\n",
       "      <th>0</th>\n",
       "      <td>434717</td>\n",
       "      <td>207153</td>\n",
       "    </tr>\n",
       "    <tr>\n",
       "      <th>1</th>\n",
       "      <td>62689</td>\n",
       "      <td>87311</td>\n",
       "    </tr>\n",
       "  </tbody>\n",
       "</table>\n",
       "</div>"
      ],
      "text/plain": [
       "col_0             0       1\n",
       "loan_status                \n",
       "0            434717  207153\n",
       "1             62689   87311"
      ]
     },
     "execution_count": 114,
     "metadata": {},
     "output_type": "execute_result"
    }
   ],
   "source": [
    "pd.crosstab(y_test,pred_test)"
   ]
  },
  {
   "cell_type": "code",
   "execution_count": 115,
   "metadata": {},
   "outputs": [],
   "source": [
    "#from sklearn.metrics import confusion_matrix\n",
    "#from sklearn import metrics"
   ]
  },
  {
   "cell_type": "code",
   "execution_count": 116,
   "metadata": {},
   "outputs": [
    {
     "name": "stdout",
     "output_type": "stream",
     "text": [
      "[[434717 207153]\n",
      " [ 62689  87311]]\n"
     ]
    }
   ],
   "source": [
    "# Confusion matrix \n",
    "confusion = metrics.confusion_matrix(y_test,pred_test )\n",
    "print(confusion)"
   ]
  },
  {
   "cell_type": "code",
   "execution_count": 117,
   "metadata": {},
   "outputs": [],
   "source": [
    "TP = confusion[1,1] # true positive \n",
    "TN = confusion[0,0] # true negatives\n",
    "FP = confusion[0,1] # false positives\n",
    "FN = confusion[1,0] # false negatives"
   ]
  },
  {
   "cell_type": "code",
   "execution_count": 118,
   "metadata": {},
   "outputs": [
    {
     "name": "stdout",
     "output_type": "stream",
     "text": [
      "Accuracy=0.6592344703044691\n",
      "sensitivity=0.5820733333333333\n",
      "specificity=0.6772664246654307\n"
     ]
    }
   ],
   "source": [
    "accuracy=(TP+TN)/(TP+TN+FP+FN)\n",
    "sensitivity=TP / float(TP+FN)\n",
    "specificity=TN / float(TN+FP)\n",
    "print('Accuracy='+ str(accuracy)) \n",
    "print('sensitivity='+str(sensitivity))\n",
    "print('specificity='+str(specificity))"
   ]
  },
  {
   "cell_type": "code",
   "execution_count": 119,
   "metadata": {},
   "outputs": [
    {
     "data": {
      "text/plain": [
       "array([[-2.05735230e-04,  8.21791470e-02,  6.75519587e-03,\n",
       "        -3.33121075e-07,  3.71345303e-02,  1.26404741e-03,\n",
       "         1.51798385e-03, -5.98789896e-06, -8.95004513e-03,\n",
       "        -9.30062809e-03, -1.02786707e-04, -5.18803888e-03,\n",
       "        -6.65203743e-03, -5.48849183e-03, -4.62794082e-03,\n",
       "        -2.78946234e-04, -5.74509155e-03, -5.41812366e-03,\n",
       "        -7.10850493e-06, -1.48996700e-03, -1.01081473e-04,\n",
       "        -5.03140620e-04, -2.19631263e-04, -1.25612892e-04,\n",
       "        -1.01812159e-03, -1.33250003e-05, -1.86452857e-04,\n",
       "        -1.24936174e-04, -7.43901665e-05,  4.16261987e-04,\n",
       "        -1.69687356e-05, -5.98622217e-03, -6.71415118e-03,\n",
       "        -1.73348233e-07, -8.91376000e-03, -1.40729954e-06,\n",
       "        -3.77321728e-06, -2.42279223e-03, -3.76182209e-03,\n",
       "        -5.42501102e-03, -7.58179239e-03, -4.84957666e-03,\n",
       "        -2.19618226e-03, -9.37382681e-04, -3.14230253e-04,\n",
       "        -7.44229169e-05, -6.09991514e-03, -4.23415127e-03,\n",
       "        -4.39379200e-03, -6.12680064e-03]])"
      ]
     },
     "execution_count": 119,
     "metadata": {},
     "output_type": "execute_result"
    }
   ],
   "source": [
    "logreg.coef_"
   ]
  },
  {
   "cell_type": "code",
   "execution_count": 120,
   "metadata": {},
   "outputs": [],
   "source": [
    "pred1=logreg.predict_proba(x_test)# to get probabilities instead of classes"
   ]
  },
  {
   "cell_type": "code",
   "execution_count": 121,
   "metadata": {},
   "outputs": [
    {
     "data": {
      "text/plain": [
       "(-0.05, 1.05)"
      ]
     },
     "execution_count": 121,
     "metadata": {},
     "output_type": "execute_result"
    },
    {
     "data": {
      "image/png": "[encoded data removed]",
      "text/plain": [
       "<Figure size 432x288 with 1 Axes>"
      ]
     },
     "metadata": {
      "needs_background": "light"
     },
     "output_type": "display_data"
    }
   ],
   "source": [
    "#ROC Curv\n",
    "fpr, tpr, threshold= metrics.roc_curve(y_test, pred1[:,1]) #pass the actual test DV and \n",
    "#predicted probability (only P(y)=1)\n",
    "#**********DRAW ROC CURVE**************\n",
    "plt.plot(fpr, tpr, label='ROC curve', color='b')\n",
    "plt.axes().set_aspect('equal')\n",
    "plt.xlim([-0.05, 1.05])\n",
    "plt.ylim([-0.05, 1.05])"
   ]
  },
  {
   "cell_type": "code",
   "execution_count": 122,
   "metadata": {},
   "outputs": [
    {
     "name": "stdout",
     "output_type": "stream",
     "text": [
      "0.6802528468069858\n"
     ]
    }
   ],
   "source": [
    "AUC= metrics.auc(fpr,tpr) # to get the area under the Curve\n",
    "print (AUC) #69.03% which is good. this means model is covering 69.03% of the datapoints well. Best value is 1\n",
    "#worst is 0"
   ]
  },
  {
   "cell_type": "code",
   "execution_count": 136,
   "metadata": {},
   "outputs": [
    {
     "data": {
      "text/html": [
       "<div>\n",
       "<style scoped>\n",
       "    .dataframe tbody tr th:only-of-type {\n",
       "        vertical-align: middle;\n",
       "    }\n",
       "\n",
       "    .dataframe tbody tr th {\n",
       "        vertical-align: top;\n",
       "    }\n",
       "\n",
       "    .dataframe thead th {\n",
       "        text-align: right;\n",
       "    }\n",
       "</style>\n",
       "<table border=\"1\" class=\"dataframe\">\n",
       "  <thead>\n",
       "    <tr style=\"text-align: right;\">\n",
       "      <th>col_0</th>\n",
       "      <th>0</th>\n",
       "      <th>1</th>\n",
       "    </tr>\n",
       "    <tr>\n",
       "      <th>loan_status</th>\n",
       "      <th></th>\n",
       "      <th></th>\n",
       "    </tr>\n",
       "  </thead>\n",
       "  <tbody>\n",
       "    <tr>\n",
       "      <th>0</th>\n",
       "      <td>403942</td>\n",
       "      <td>237928</td>\n",
       "    </tr>\n",
       "    <tr>\n",
       "      <th>1</th>\n",
       "      <td>55506</td>\n",
       "      <td>94494</td>\n",
       "    </tr>\n",
       "  </tbody>\n",
       "</table>\n",
       "</div>"
      ],
      "text/plain": [
       "col_0             0       1\n",
       "loan_status                \n",
       "0            403942  237928\n",
       "1             55506   94494"
      ]
     },
     "execution_count": 136,
     "metadata": {},
     "output_type": "execute_result"
    }
   ],
   "source": [
    "#test for changing cut off\n",
    "x=[]\n",
    "for i in range(len(pred1[:,1])):\n",
    "    if (pred1[:,1][i]>=0.48):\n",
    "        x.append(1)\n",
    "    else:\n",
    "        x.append(0)\n",
    "x=np.array(x)\n",
    "pd.crosstab(y_test,x)"
   ]
  },
  {
   "cell_type": "code",
   "execution_count": 137,
   "metadata": {},
   "outputs": [
    {
     "name": "stdout",
     "output_type": "stream",
     "text": [
      "[[403942 237928]\n",
      " [ 55506  94494]]\n"
     ]
    }
   ],
   "source": [
    "confusion = metrics.confusion_matrix(y_test,x )\n",
    "print(confusion)\n",
    "TP = confusion[1,1] # true positive \n",
    "TN = confusion[0,0] # true negatives\n",
    "FP = confusion[0,1] # false positives\n",
    "FN = confusion[1,0] # false negatives"
   ]
  },
  {
   "cell_type": "code",
   "execution_count": 138,
   "metadata": {},
   "outputs": [
    {
     "name": "stdout",
     "output_type": "stream",
     "text": [
      "Accuracy=0.6294417012893531\n",
      "sensitivity=0.62996\n",
      "specificity=0.6293205789334289\n"
     ]
    }
   ],
   "source": [
    "accuracy=(TP+TN)/(TP+TN+FP+FN)\n",
    "sensitivity=TP / float(TP+FN)\n",
    "specificity=TN / float(TN+FP)\n",
    "print('Accuracy='+ str(accuracy)) \n",
    "print('sensitivity='+str(sensitivity))\n",
    "print('specificity='+str(specificity))"
   ]
  },
  {
   "cell_type": "code",
   "execution_count": 126,
   "metadata": {},
   "outputs": [],
   "source": [
    "#save model\n",
    "import pickle\n",
    "Pkl_Filename = \"G:\\\\Shraddha\\\\BABI\\\\Project\\\\NewData\\\\Pickle_LR_Model.pkl\"  \n",
    "with open(Pkl_Filename, 'wb') as file:  \n",
    "    pickle.dump(logreg, file)"
   ]
  }
 ],
 "metadata": {
  "kernelspec": {
   "display_name": "Python 3",
   "language": "python",
   "name": "python3"
  },
  "language_info": {
   "codemirror_mode": {
    "name": "ipython",
    "version": 3
   },
   "file_extension": ".py",
   "mimetype": "text/x-python",
   "name": "python",
   "nbconvert_exporter": "python",
   "pygments_lexer": "ipython3",
   "version": "3.7.6"
  }
 },
 "nbformat": 4,
 "nbformat_minor": 4
}
