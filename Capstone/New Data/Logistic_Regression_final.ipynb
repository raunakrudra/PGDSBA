{
 "cells": [
  {
   "cell_type": "code",
   "execution_count": 257,
   "metadata": {},
   "outputs": [],
   "source": [
    "import numpy as np\n",
    "import pandas as pd\n",
    "import matplotlib.pyplot as plt\n",
    "import imblearn as imblearn\n",
    "import warnings\n",
    "warnings.filterwarnings('ignore')"
   ]
  },
  {
   "cell_type": "code",
   "execution_count": 258,
   "metadata": {},
   "outputs": [],
   "source": [
    "train_data=pd.read_csv(\"G:\\\\Shraddha\\\\BABI\\\\Project\\\\NewData\\\\clean_data.csv\");"
   ]
  },
  {
   "cell_type": "code",
   "execution_count": 259,
   "metadata": {},
   "outputs": [],
   "source": [
    "test_data=pd.read_csv(\"G:\\\\Shraddha\\\\BABI\\\\Project\\\\NewData\\\\validation_data.csv\");"
   ]
  },
  {
   "cell_type": "code",
   "execution_count": 260,
   "metadata": {},
   "outputs": [
    {
     "data": {
      "text/html": [
       "<div>\n",
       "<style scoped>\n",
       "    .dataframe tbody tr th:only-of-type {\n",
       "        vertical-align: middle;\n",
       "    }\n",
       "\n",
       "    .dataframe tbody tr th {\n",
       "        vertical-align: top;\n",
       "    }\n",
       "\n",
       "    .dataframe thead th {\n",
       "        text-align: right;\n",
       "    }\n",
       "</style>\n",
       "<table border=\"1\" class=\"dataframe\">\n",
       "  <thead>\n",
       "    <tr style=\"text-align: right;\">\n",
       "      <th></th>\n",
       "      <th>Unnamed: 0</th>\n",
       "      <th>loan_amnt</th>\n",
       "      <th>term</th>\n",
       "      <th>installment</th>\n",
       "      <th>home_ownership</th>\n",
       "      <th>annual_inc</th>\n",
       "      <th>verification_status</th>\n",
       "      <th>loan_status</th>\n",
       "      <th>purpose</th>\n",
       "      <th>addr_state</th>\n",
       "      <th>...</th>\n",
       "      <th>delinq_2yrs</th>\n",
       "      <th>open_acc</th>\n",
       "      <th>pub_rec</th>\n",
       "      <th>revol_bal</th>\n",
       "      <th>total_acc</th>\n",
       "      <th>initial_list_status</th>\n",
       "      <th>application_type</th>\n",
       "      <th>mort_acc</th>\n",
       "      <th>loan_age</th>\n",
       "      <th>fico_value</th>\n",
       "    </tr>\n",
       "  </thead>\n",
       "  <tbody>\n",
       "    <tr>\n",
       "      <th>0</th>\n",
       "      <td>0</td>\n",
       "      <td>7500.0</td>\n",
       "      <td>36</td>\n",
       "      <td>255.43</td>\n",
       "      <td>OWN</td>\n",
       "      <td>22000.0</td>\n",
       "      <td>Not Verified</td>\n",
       "      <td>Fully Paid</td>\n",
       "      <td>debt_consolidation</td>\n",
       "      <td>MA</td>\n",
       "      <td>...</td>\n",
       "      <td>1.0</td>\n",
       "      <td>7.0</td>\n",
       "      <td>0.0</td>\n",
       "      <td>4175.0</td>\n",
       "      <td>8.0</td>\n",
       "      <td>f</td>\n",
       "      <td>Individual</td>\n",
       "      <td>0.0</td>\n",
       "      <td>5109</td>\n",
       "      <td>662.0</td>\n",
       "    </tr>\n",
       "    <tr>\n",
       "      <th>1</th>\n",
       "      <td>1</td>\n",
       "      <td>3500.0</td>\n",
       "      <td>36</td>\n",
       "      <td>113.39</td>\n",
       "      <td>RENT</td>\n",
       "      <td>20000.0</td>\n",
       "      <td>Not Verified</td>\n",
       "      <td>Fully Paid</td>\n",
       "      <td>moving</td>\n",
       "      <td>MA</td>\n",
       "      <td>...</td>\n",
       "      <td>0.0</td>\n",
       "      <td>17.0</td>\n",
       "      <td>0.0</td>\n",
       "      <td>1882.0</td>\n",
       "      <td>18.0</td>\n",
       "      <td>f</td>\n",
       "      <td>Individual</td>\n",
       "      <td>0.0</td>\n",
       "      <td>5108</td>\n",
       "      <td>682.0</td>\n",
       "    </tr>\n",
       "    <tr>\n",
       "      <th>2</th>\n",
       "      <td>2</td>\n",
       "      <td>5750.0</td>\n",
       "      <td>36</td>\n",
       "      <td>178.69</td>\n",
       "      <td>MORTGAGE</td>\n",
       "      <td>125000.0</td>\n",
       "      <td>Not Verified</td>\n",
       "      <td>Fully Paid</td>\n",
       "      <td>debt_consolidation</td>\n",
       "      <td>MA</td>\n",
       "      <td>...</td>\n",
       "      <td>0.0</td>\n",
       "      <td>10.0</td>\n",
       "      <td>0.0</td>\n",
       "      <td>2817.0</td>\n",
       "      <td>16.0</td>\n",
       "      <td>f</td>\n",
       "      <td>Individual</td>\n",
       "      <td>0.0</td>\n",
       "      <td>5108</td>\n",
       "      <td>792.0</td>\n",
       "    </tr>\n",
       "    <tr>\n",
       "      <th>3</th>\n",
       "      <td>3</td>\n",
       "      <td>5000.0</td>\n",
       "      <td>36</td>\n",
       "      <td>155.38</td>\n",
       "      <td>RENT</td>\n",
       "      <td>40000.0</td>\n",
       "      <td>Not Verified</td>\n",
       "      <td>Fully Paid</td>\n",
       "      <td>car</td>\n",
       "      <td>WI</td>\n",
       "      <td>...</td>\n",
       "      <td>0.0</td>\n",
       "      <td>4.0</td>\n",
       "      <td>0.0</td>\n",
       "      <td>2562.0</td>\n",
       "      <td>7.0</td>\n",
       "      <td>f</td>\n",
       "      <td>Individual</td>\n",
       "      <td>0.0</td>\n",
       "      <td>5108</td>\n",
       "      <td>772.0</td>\n",
       "    </tr>\n",
       "    <tr>\n",
       "      <th>4</th>\n",
       "      <td>4</td>\n",
       "      <td>1200.0</td>\n",
       "      <td>36</td>\n",
       "      <td>39.60</td>\n",
       "      <td>RENT</td>\n",
       "      <td>20000.0</td>\n",
       "      <td>Not Verified</td>\n",
       "      <td>Fully Paid</td>\n",
       "      <td>credit_card</td>\n",
       "      <td>ME</td>\n",
       "      <td>...</td>\n",
       "      <td>0.0</td>\n",
       "      <td>3.0</td>\n",
       "      <td>0.0</td>\n",
       "      <td>1153.0</td>\n",
       "      <td>4.0</td>\n",
       "      <td>f</td>\n",
       "      <td>Individual</td>\n",
       "      <td>0.0</td>\n",
       "      <td>5108</td>\n",
       "      <td>662.0</td>\n",
       "    </tr>\n",
       "  </tbody>\n",
       "</table>\n",
       "<p>5 rows × 21 columns</p>\n",
       "</div>"
      ],
      "text/plain": [
       "   Unnamed: 0  loan_amnt  term  installment home_ownership  annual_inc  \\\n",
       "0           0     7500.0    36       255.43            OWN     22000.0   \n",
       "1           1     3500.0    36       113.39           RENT     20000.0   \n",
       "2           2     5750.0    36       178.69       MORTGAGE    125000.0   \n",
       "3           3     5000.0    36       155.38           RENT     40000.0   \n",
       "4           4     1200.0    36        39.60           RENT     20000.0   \n",
       "\n",
       "  verification_status loan_status             purpose addr_state  ...  \\\n",
       "0        Not Verified  Fully Paid  debt_consolidation         MA  ...   \n",
       "1        Not Verified  Fully Paid              moving         MA  ...   \n",
       "2        Not Verified  Fully Paid  debt_consolidation         MA  ...   \n",
       "3        Not Verified  Fully Paid                 car         WI  ...   \n",
       "4        Not Verified  Fully Paid         credit_card         ME  ...   \n",
       "\n",
       "   delinq_2yrs  open_acc  pub_rec  revol_bal  total_acc  initial_list_status  \\\n",
       "0          1.0       7.0      0.0     4175.0        8.0                    f   \n",
       "1          0.0      17.0      0.0     1882.0       18.0                    f   \n",
       "2          0.0      10.0      0.0     2817.0       16.0                    f   \n",
       "3          0.0       4.0      0.0     2562.0        7.0                    f   \n",
       "4          0.0       3.0      0.0     1153.0        4.0                    f   \n",
       "\n",
       "  application_type mort_acc  loan_age  fico_value  \n",
       "0       Individual      0.0      5109       662.0  \n",
       "1       Individual      0.0      5108       682.0  \n",
       "2       Individual      0.0      5108       792.0  \n",
       "3       Individual      0.0      5108       772.0  \n",
       "4       Individual      0.0      5108       662.0  \n",
       "\n",
       "[5 rows x 21 columns]"
      ]
     },
     "execution_count": 260,
     "metadata": {},
     "output_type": "execute_result"
    }
   ],
   "source": [
    "train_data.head()"
   ]
  },
  {
   "cell_type": "code",
   "execution_count": 261,
   "metadata": {},
   "outputs": [],
   "source": [
    "#drop open_acc column since it has high correlation with total_acc 0.69%\n",
    "train_data.drop(['open_acc'], axis=1,inplace=True)\n",
    "test_data.drop(['open_acc'], axis=1,inplace=True)"
   ]
  },
  {
   "cell_type": "code",
   "execution_count": 262,
   "metadata": {},
   "outputs": [],
   "source": [
    "train_data.drop(['Unnamed: 0'], axis=1,inplace=True)\n",
    "test_data.drop(['Unnamed: 0'], axis=1,inplace=True)"
   ]
  },
  {
   "cell_type": "code",
   "execution_count": 263,
   "metadata": {},
   "outputs": [],
   "source": [
    "rows = train_data.shape[0] \n",
    "cols = train_data.shape[1] "
   ]
  },
  {
   "cell_type": "code",
   "execution_count": 264,
   "metadata": {},
   "outputs": [],
   "source": [
    "#remove home_ownership from test and train data\n",
    "#train_data.drop(['home_ownership'], axis=1,inplace=True)\n",
    "#test_data.drop(['home_ownership'], axis=1,inplace=True)"
   ]
  },
  {
   "cell_type": "code",
   "execution_count": 265,
   "metadata": {},
   "outputs": [],
   "source": [
    "#remove home_ownership from test and train data\n",
    "#train_data.drop(['application_type'], axis=1,inplace=True)\n",
    "#test_data.drop(['application_type'], axis=1,inplace=True)"
   ]
  },
  {
   "cell_type": "code",
   "execution_count": 266,
   "metadata": {},
   "outputs": [],
   "source": [
    "\n",
    "#remove home_ownership from test and train data\n",
    "#train_data.drop(['initial_list_status'], axis=1,inplace=True)\n",
    "#test_data.drop(['initial_list_status'], axis=1,inplace=True)"
   ]
  },
  {
   "cell_type": "code",
   "execution_count": 267,
   "metadata": {},
   "outputs": [],
   "source": [
    "train_data['loan_status'] = train_data['loan_status'].str.replace('Fully Paid','0')\n",
    "train_data['loan_status'] = train_data['loan_status'].str.replace('Charged Off','1')\n",
    "train_data['loan_status']=train_data['loan_status'].astype(int)"
   ]
  },
  {
   "cell_type": "code",
   "execution_count": 268,
   "metadata": {},
   "outputs": [],
   "source": [
    "test_data['loan_status'] = test_data['loan_status'].str.replace('Fully Paid','0')\n",
    "test_data['loan_status'] = test_data['loan_status'].str.replace('Charged Off','1')\n",
    "test_data['loan_status']=test_data['loan_status'].astype(int)"
   ]
  },
  {
   "cell_type": "code",
   "execution_count": 269,
   "metadata": {},
   "outputs": [],
   "source": [
    "address=pd.DataFrame(train_data['addr_state'].value_counts())"
   ]
  },
  {
   "cell_type": "code",
   "execution_count": 270,
   "metadata": {},
   "outputs": [],
   "source": [
    "\n",
    "one_hot_train=pd.get_dummies(train_data, columns=[\"verification_status\", \"purpose\",\"addr_state\",\"application_type\",\"initial_list_status\",\"home_ownership\"], \n",
    "                             prefix=[\"verification_status.\", \"purpose.\",\"addr_state.\",\"application_type.\",\"initial_list_status.\",\"home_ownership.\"])"
   ]
  },
  {
   "cell_type": "code",
   "execution_count": 271,
   "metadata": {},
   "outputs": [],
   "source": [
    "\n",
    "one_hot_test=pd.get_dummies(test_data, columns=[\"verification_status\", \"purpose\",\"addr_state\",\"application_type\",\"initial_list_status\",\"home_ownership\"], prefix=[\n",
    "    \"verification_status.\", \"purpose.\",\"addr_state.\",\"application_type.\",\"initial_list_status.\",\"home_ownership.\"])"
   ]
  },
  {
   "cell_type": "code",
   "execution_count": 272,
   "metadata": {},
   "outputs": [],
   "source": [
    "one_hot_train['addr_state.west'] =sum([one_hot_train['addr_state._CA'],\n",
    "                                       one_hot_train['addr_state._AZ'],\n",
    "                                       one_hot_train['addr_state._WA'],\n",
    "                                       one_hot_train['addr_state._CO'],\n",
    "                                       one_hot_train['addr_state._NV'],\n",
    "                                       one_hot_train['addr_state._OR'],\n",
    "                                       one_hot_train['addr_state._UT'],\n",
    "                                       one_hot_train['addr_state._NM'],\n",
    "                                       one_hot_train['addr_state._HI'],\n",
    "                                       one_hot_train['addr_state._FL'],\n",
    "                                       one_hot_train['addr_state._AK'],\n",
    "                                       one_hot_train['addr_state._WY'],\n",
    "                                       one_hot_train['addr_state._ID']\n",
    "                                     ])\n",
    "one_hot_train['addr_state.Mid_West'] =sum([one_hot_train['addr_state._IL'],\n",
    "                                            one_hot_train['addr_state._OH'],\n",
    "                                            one_hot_train['addr_state._MI'],\n",
    "                                            one_hot_train['addr_state._MN'],\n",
    "                                            one_hot_train['addr_state._MO'],\n",
    "                                            one_hot_train['addr_state._IN'],\n",
    "                                            one_hot_train['addr_state._WI'],\n",
    "                                            one_hot_train['addr_state._KS'],\n",
    "                                            one_hot_train['addr_state._SD'],\n",
    "                                            one_hot_train['addr_state._NE'],\n",
    "                                            one_hot_train['addr_state._ND'],\n",
    "                                            one_hot_train['addr_state._IA']\n",
    "                                    ])\n",
    "one_hot_train['addr_state.North_East'] =sum([one_hot_train['addr_state._NY'],\n",
    "                                            one_hot_train['addr_state._NJ'],\n",
    "                                            one_hot_train['addr_state._PA'],\n",
    "                                            one_hot_train['addr_state._MA'],\n",
    "                                            one_hot_train['addr_state._CT'],\n",
    "                                            one_hot_train['addr_state._NH'],\n",
    "                                            one_hot_train['addr_state._RI'],\n",
    "                                            one_hot_train['addr_state._DE'],\n",
    "                                            one_hot_train['addr_state._DC'],\n",
    "                                            one_hot_train['addr_state._VT'],\n",
    "                                            one_hot_train['addr_state._ME']\n",
    "                                               ])\n",
    "one_hot_train['addr_state.South'] =sum([one_hot_train['addr_state._TX'],\n",
    "                                            one_hot_train['addr_state._FL'],\n",
    "                                            one_hot_train['addr_state._GA'],\n",
    "                                            one_hot_train['addr_state._VA'],\n",
    "                                            one_hot_train['addr_state._NC'],\n",
    "                                            one_hot_train['addr_state._MD'],\n",
    "                                            one_hot_train['addr_state._TN'],\n",
    "                                            one_hot_train['addr_state._AL'],\n",
    "                                            one_hot_train['addr_state._SC'],\n",
    "                                            one_hot_train['addr_state._LA'],\n",
    "                                            one_hot_train['addr_state._KY'],\n",
    "                                            one_hot_train['addr_state._OK'],\n",
    "                                            one_hot_train['addr_state._AR'],\n",
    "                                            one_hot_train['addr_state._WV'],\n",
    "                                            one_hot_train['addr_state._MS']  \n",
    "                                            ])\n"
   ]
  },
  {
   "cell_type": "code",
   "execution_count": 273,
   "metadata": {},
   "outputs": [],
   "source": [
    "one_hot_train.drop(['addr_state._AK','addr_state._AL','addr_state._AR','addr_state._AZ','addr_state._CO','addr_state._CT',\n",
    "'addr_state._DC','addr_state._DE','addr_state._FL','addr_state._GA','addr_state._HI','addr_state._IA','addr_state._ID',\n",
    "'addr_state._IL','addr_state._IN','addr_state._KS','addr_state._KY','addr_state._LA','addr_state._MA','addr_state._MD',\n",
    "'addr_state._ME','addr_state._MI','addr_state._MN','addr_state._MO','addr_state._MS','addr_state._MT','addr_state._NC',\n",
    "'addr_state._ND','addr_state._NE','addr_state._NH','addr_state._NJ','addr_state._NM','addr_state._NV','addr_state._NY',\n",
    "'addr_state._OH','addr_state._OK','addr_state._OR','addr_state._PA','addr_state._RI','addr_state._SC','addr_state._SD',\n",
    "'addr_state._TN','addr_state._TX','addr_state._UT','addr_state._VA','addr_state._VT','addr_state._WA','addr_state._WI',\n",
    "'addr_state._WV','addr_state._WY','addr_state._CA'], axis=1,inplace=True)"
   ]
  },
  {
   "cell_type": "code",
   "execution_count": 274,
   "metadata": {},
   "outputs": [],
   "source": [
    "one_hot_test['addr_state.west'] =sum([one_hot_test['addr_state._CA'],\n",
    "                                       one_hot_test['addr_state._AZ'],\n",
    "                                       one_hot_test['addr_state._WA'],\n",
    "                                       one_hot_test['addr_state._CO'],\n",
    "                                       one_hot_test['addr_state._NV'],\n",
    "                                       one_hot_test['addr_state._OR'],\n",
    "                                       one_hot_test['addr_state._UT'],\n",
    "                                       one_hot_test['addr_state._NM'],\n",
    "                                       one_hot_test['addr_state._HI'],\n",
    "                                       one_hot_test['addr_state._FL'],\n",
    "                                       one_hot_test['addr_state._AK'],\n",
    "                                       one_hot_test['addr_state._WY'],\n",
    "                                       one_hot_test['addr_state._ID']\n",
    "                                     ])\n",
    "one_hot_test['addr_state.Mid_West'] =sum([one_hot_test['addr_state._IL'],\n",
    "                                            one_hot_test['addr_state._OH'],\n",
    "                                            one_hot_test['addr_state._MI'],\n",
    "                                            one_hot_test['addr_state._MN'],\n",
    "                                            one_hot_test['addr_state._MO'],\n",
    "                                            one_hot_test['addr_state._IN'],\n",
    "                                            one_hot_test['addr_state._WI'],\n",
    "                                            one_hot_test['addr_state._KS'],\n",
    "                                            one_hot_test['addr_state._SD'],\n",
    "                                            one_hot_test['addr_state._NE'],\n",
    "                                            one_hot_test['addr_state._ND']\n",
    "                                           # one_hot_test['addr_state._IA']\n",
    "                                    ])\n",
    "one_hot_test['addr_state.North_East'] =sum([one_hot_test['addr_state._NY'],\n",
    "                                            one_hot_test['addr_state._NJ'],\n",
    "                                            one_hot_test['addr_state._PA'],\n",
    "                                            one_hot_test['addr_state._MA'],\n",
    "                                            one_hot_test['addr_state._CT'],\n",
    "                                            one_hot_test['addr_state._NH'],\n",
    "                                            one_hot_test['addr_state._RI'],\n",
    "                                            one_hot_test['addr_state._DE'],\n",
    "                                            one_hot_test['addr_state._DC'],\n",
    "                                            one_hot_test['addr_state._VT'],\n",
    "                                            one_hot_test['addr_state._ME']\n",
    "                                               ])\n",
    "one_hot_test['addr_state.South'] =sum([one_hot_test['addr_state._TX'],\n",
    "                                            one_hot_test['addr_state._FL'],\n",
    "                                            one_hot_test['addr_state._GA'],\n",
    "                                            one_hot_test['addr_state._VA'],\n",
    "                                            one_hot_test['addr_state._NC'],\n",
    "                                            one_hot_test['addr_state._MD'],\n",
    "                                            one_hot_test['addr_state._TN'],\n",
    "                                            one_hot_test['addr_state._AL'],\n",
    "                                            one_hot_test['addr_state._SC'],\n",
    "                                            one_hot_test['addr_state._LA'],\n",
    "                                            one_hot_test['addr_state._KY'],\n",
    "                                            one_hot_test['addr_state._OK'],\n",
    "                                            one_hot_test['addr_state._AR'],\n",
    "                                            one_hot_test['addr_state._WV'],\n",
    "                                            one_hot_test['addr_state._MS']  \n",
    "                                            ])\n"
   ]
  },
  {
   "cell_type": "code",
   "execution_count": 275,
   "metadata": {},
   "outputs": [],
   "source": [
    "one_hot_test.drop(['addr_state._AK','addr_state._AL','addr_state._AR','addr_state._AZ','addr_state._CO','addr_state._CT',\n",
    "'addr_state._DC','addr_state._DE','addr_state._FL','addr_state._GA','addr_state._HI','addr_state._ID',\n",
    "'addr_state._IL','addr_state._IN','addr_state._KS','addr_state._KY','addr_state._LA','addr_state._MA',\n",
    "'addr_state._MD','addr_state._ME','addr_state._MI','addr_state._MN','addr_state._MO','addr_state._MS',\n",
    "'addr_state._MT','addr_state._NC','addr_state._ND','addr_state._NE','addr_state._NH','addr_state._NJ',\n",
    "'addr_state._NM','addr_state._NV','addr_state._NY','addr_state._OH','addr_state._OK','addr_state._OR',\n",
    "'addr_state._PA','addr_state._RI','addr_state._SC','addr_state._SD','addr_state._TN','addr_state._TX',\n",
    "'addr_state._UT','addr_state._VA','addr_state._VT','addr_state._WA','addr_state._WI','addr_state._WV',\n",
    "'addr_state._WY','addr_state._CA'], axis=1,inplace=True)"
   ]
  },
  {
   "cell_type": "code",
   "execution_count": 276,
   "metadata": {},
   "outputs": [
    {
     "data": {
      "text/plain": [
       "(791870, 43)"
      ]
     },
     "execution_count": 276,
     "metadata": {},
     "output_type": "execute_result"
    }
   ],
   "source": [
    "one_hot_test.shape"
   ]
  },
  {
   "cell_type": "code",
   "execution_count": 277,
   "metadata": {},
   "outputs": [],
   "source": [
    "x_train=one_hot_train.drop(['loan_status'],axis=1) \n",
    "y_train=one_hot_train.loan_status"
   ]
  },
  {
   "cell_type": "code",
   "execution_count": 278,
   "metadata": {},
   "outputs": [],
   "source": [
    "x_test=one_hot_test.drop(['loan_status'],axis=1) \n",
    "y_test=one_hot_test.loan_status"
   ]
  },
  {
   "cell_type": "code",
   "execution_count": 279,
   "metadata": {},
   "outputs": [
    {
     "name": "stdout",
     "output_type": "stream",
     "text": [
      "['home_ownership._OTHER']\n"
     ]
    }
   ],
   "source": [
    "#compare train and test column names\n",
    "a = np.intersect1d(x_train.columns, x_test.columns)\n",
    "#print (a)\n",
    "b=x_train.columns\n",
    "#print(b)\n",
    "c=np.array(b)\n",
    "#type(c)\n",
    "print(np.setdiff1d(c,a))"
   ]
  },
  {
   "cell_type": "code",
   "execution_count": 280,
   "metadata": {},
   "outputs": [],
   "source": [
    "#it seems home_ownership._OTHER column is missing into test data so create it\n",
    "x_test['home_ownership._OTHER']=0"
   ]
  },
  {
   "cell_type": "code",
   "execution_count": 281,
   "metadata": {},
   "outputs": [
    {
     "data": {
      "text/plain": [
       "loan_amnt                               float64\n",
       "term                                      int64\n",
       "installment                             float64\n",
       "annual_inc                              float64\n",
       "dti                                     float64\n",
       "delinq_2yrs                             float64\n",
       "pub_rec                                 float64\n",
       "revol_bal                               float64\n",
       "total_acc                               float64\n",
       "mort_acc                                float64\n",
       "loan_age                                  int64\n",
       "fico_value                              float64\n",
       "verification_status._Not Verified         uint8\n",
       "verification_status._Source Verified      uint8\n",
       "verification_status._Verified             uint8\n",
       "purpose._car                              uint8\n",
       "purpose._credit_card                      uint8\n",
       "purpose._debt_consolidation               uint8\n",
       "purpose._educational                      uint8\n",
       "purpose._home_improvement                 uint8\n",
       "purpose._house                            uint8\n",
       "purpose._major_purchase                   uint8\n",
       "purpose._medical                          uint8\n",
       "purpose._moving                           uint8\n",
       "purpose._other                            uint8\n",
       "purpose._renewable_energy                 uint8\n",
       "purpose._small_business                   uint8\n",
       "purpose._vacation                         uint8\n",
       "purpose._wedding                          uint8\n",
       "application_type._Individual              uint8\n",
       "application_type._Joint App               uint8\n",
       "initial_list_status._f                    uint8\n",
       "initial_list_status._w                    uint8\n",
       "home_ownership._ANY                       uint8\n",
       "home_ownership._MORTGAGE                  uint8\n",
       "home_ownership._NONE                      uint8\n",
       "home_ownership._OTHER                     uint8\n",
       "home_ownership._OWN                       uint8\n",
       "home_ownership._RENT                      uint8\n",
       "addr_state.west                           uint8\n",
       "addr_state.Mid_West                       uint8\n",
       "addr_state.North_East                     uint8\n",
       "addr_state.South                          uint8\n",
       "dtype: object"
      ]
     },
     "execution_count": 281,
     "metadata": {},
     "output_type": "execute_result"
    }
   ],
   "source": [
    "x_train.dtypes"
   ]
  },
  {
   "cell_type": "code",
   "execution_count": 282,
   "metadata": {},
   "outputs": [
    {
     "data": {
      "text/plain": [
       "DecisionTreeClassifier(criterion='entropy', max_depth=18, random_state=15)"
      ]
     },
     "execution_count": 282,
     "metadata": {},
     "output_type": "execute_result"
    }
   ],
   "source": [
    "#get feature importance\n",
    "from sklearn.tree import DecisionTreeClassifier\n",
    "dt=DecisionTreeClassifier(random_state=15,criterion='entropy',max_depth=18)\n",
    "dt.fit(x_train,y_train)"
   ]
  },
  {
   "cell_type": "code",
   "execution_count": 283,
   "metadata": {},
   "outputs": [],
   "source": [
    "feature_importances = pd.DataFrame(dt.feature_importances_,\n",
    "                                   index = x_train.columns,\n",
    "                                    columns=['importance']).sort_values('importance',ascending=False)"
   ]
  },
  {
   "cell_type": "code",
   "execution_count": 284,
   "metadata": {},
   "outputs": [
    {
     "name": "stdout",
     "output_type": "stream",
     "text": [
      "                                      importance\n",
      "dti                                     0.126007\n",
      "revol_bal                               0.121460\n",
      "installment                             0.115129\n",
      "annual_inc                              0.092161\n",
      "fico_value                              0.090532\n",
      "term                                    0.089729\n",
      "total_acc                               0.073116\n",
      "loan_age                                0.069107\n",
      "loan_amnt                               0.058325\n",
      "mort_acc                                0.033003\n",
      "delinq_2yrs                             0.012968\n",
      "pub_rec                                 0.009415\n",
      "home_ownership._MORTGAGE                0.007676\n",
      "addr_state.west                         0.007582\n",
      "addr_state.South                        0.007388\n",
      "addr_state.North_East                   0.007332\n",
      "verification_status._Verified           0.007253\n",
      "purpose._credit_card                    0.007093\n",
      "home_ownership._RENT                    0.006779\n",
      "purpose._debt_consolidation             0.006514\n",
      "verification_status._Source Verified    0.005971\n",
      "addr_state.Mid_West                     0.005607\n",
      "verification_status._Not Verified       0.005559\n",
      "purpose._small_business                 0.004773\n",
      "initial_list_status._f                  0.004615\n",
      "initial_list_status._w                  0.004496\n",
      "purpose._other                          0.003814\n",
      "purpose._home_improvement               0.003716\n",
      "home_ownership._OWN                     0.003531\n",
      "purpose._major_purchase                 0.002450\n",
      "purpose._medical                        0.001608\n",
      "purpose._vacation                       0.001248\n",
      "purpose._house                          0.000987\n",
      "purpose._moving                         0.000942\n",
      "purpose._car                            0.000846\n",
      "purpose._wedding                        0.000578\n",
      "purpose._renewable_energy               0.000344\n",
      "purpose._educational                    0.000187\n",
      "application_type._Individual            0.000073\n",
      "application_type._Joint App             0.000049\n",
      "home_ownership._OTHER                   0.000041\n",
      "home_ownership._NONE                    0.000000\n",
      "home_ownership._ANY                     0.000000\n"
     ]
    }
   ],
   "source": [
    "pd.set_option('display.max_rows', feature_importances.shape[0]+1)\n",
    "print(feature_importances)"
   ]
  },
  {
   "cell_type": "code",
   "execution_count": 285,
   "metadata": {},
   "outputs": [
    {
     "data": {
      "text/plain": [
       "LogisticRegression(max_iter=1000)"
      ]
     },
     "execution_count": 285,
     "metadata": {},
     "output_type": "execute_result"
    }
   ],
   "source": [
    "#Import estimator object\n",
    "from sklearn.linear_model import LogisticRegression\n",
    "\n",
    "#create instance of estimator\n",
    "#logreg=LogisticRegression(C=1.0, class_weight=None, dual=False, fit_intercept=True,\n",
    " #                  intercept_scaling=1, l1_ratio=None, max_iter=1000,\n",
    "  #                 multi_class='auto', n_jobs=None, penalty='l2',\n",
    "   #                random_state=None, solver='lbfgs', tol=0.0001, verbose=0,\n",
    "    #               warm_start=False)\n",
    "logreg=LogisticRegression( max_iter=1000)\n",
    "#use traing data to train estimator\n",
    "logreg.fit(x_train,y_train)"
   ]
  },
  {
   "cell_type": "code",
   "execution_count": 286,
   "metadata": {},
   "outputs": [],
   "source": [
    "pred_test=logreg.predict(x_test)"
   ]
  },
  {
   "cell_type": "code",
   "execution_count": 287,
   "metadata": {},
   "outputs": [
    {
     "data": {
      "text/html": [
       "<div>\n",
       "<style scoped>\n",
       "    .dataframe tbody tr th:only-of-type {\n",
       "        vertical-align: middle;\n",
       "    }\n",
       "\n",
       "    .dataframe tbody tr th {\n",
       "        vertical-align: top;\n",
       "    }\n",
       "\n",
       "    .dataframe thead th {\n",
       "        text-align: right;\n",
       "    }\n",
       "</style>\n",
       "<table border=\"1\" class=\"dataframe\">\n",
       "  <thead>\n",
       "    <tr style=\"text-align: right;\">\n",
       "      <th>col_0</th>\n",
       "      <th>0</th>\n",
       "      <th>1</th>\n",
       "    </tr>\n",
       "    <tr>\n",
       "      <th>loan_status</th>\n",
       "      <th></th>\n",
       "      <th></th>\n",
       "    </tr>\n",
       "  </thead>\n",
       "  <tbody>\n",
       "    <tr>\n",
       "      <th>0</th>\n",
       "      <td>636373</td>\n",
       "      <td>5497</td>\n",
       "    </tr>\n",
       "    <tr>\n",
       "      <th>1</th>\n",
       "      <td>144437</td>\n",
       "      <td>5563</td>\n",
       "    </tr>\n",
       "  </tbody>\n",
       "</table>\n",
       "</div>"
      ],
      "text/plain": [
       "col_0             0     1\n",
       "loan_status              \n",
       "0            636373  5497\n",
       "1            144437  5563"
      ]
     },
     "execution_count": 287,
     "metadata": {},
     "output_type": "execute_result"
    }
   ],
   "source": [
    "pd.crosstab(y_test,pred_test)"
   ]
  },
  {
   "cell_type": "code",
   "execution_count": 288,
   "metadata": {},
   "outputs": [],
   "source": [
    "from sklearn.metrics import confusion_matrix\n",
    "from sklearn import metrics"
   ]
  },
  {
   "cell_type": "code",
   "execution_count": 289,
   "metadata": {},
   "outputs": [
    {
     "name": "stdout",
     "output_type": "stream",
     "text": [
      "[[636373   5497]\n",
      " [144437   5563]]\n"
     ]
    }
   ],
   "source": [
    "# Confusion matrix \n",
    "confusion = metrics.confusion_matrix(y_test, pred_test )\n",
    "print(confusion)"
   ]
  },
  {
   "cell_type": "code",
   "execution_count": 290,
   "metadata": {},
   "outputs": [],
   "source": [
    "TP = confusion[1,1] # true positive \n",
    "TN = confusion[0,0] # true negatives\n",
    "FP = confusion[0,1] # false positives\n",
    "FN = confusion[1,0] # false negatives"
   ]
  },
  {
   "cell_type": "code",
   "execution_count": 291,
   "metadata": {},
   "outputs": [
    {
     "name": "stdout",
     "output_type": "stream",
     "text": [
      "Accuracy=0.8106583151274831\n",
      "sensitivity=0.037086666666666664\n",
      "specificity=0.99143596055276\n"
     ]
    }
   ],
   "source": [
    "accuracy=(TP+TN)/(TP+TN+FP+FN)\n",
    "sensitivity=TP / float(TP+FN)\n",
    "specificity=TN / float(TN+FP)\n",
    "print('Accuracy='+ str(accuracy)) \n",
    "print('sensitivity='+str(sensitivity))\n",
    "print('specificity='+str(specificity))"
   ]
  },
  {
   "cell_type": "code",
   "execution_count": 292,
   "metadata": {},
   "outputs": [],
   "source": [
    "\n",
    "# import library\n",
    "from imblearn.over_sampling import SMOTE\n",
    "\n",
    "smote = SMOTE()\n",
    "\n",
    "# fit predictor and target variable\n",
    "x_smote, y_smote = smote.fit_resample(x_train, y_train)"
   ]
  },
  {
   "cell_type": "code",
   "execution_count": 293,
   "metadata": {},
   "outputs": [
    {
     "data": {
      "text/plain": [
       "LogisticRegression(max_iter=1000)"
      ]
     },
     "execution_count": 293,
     "metadata": {},
     "output_type": "execute_result"
    }
   ],
   "source": [
    "logreg.fit(x_smote,y_smote)"
   ]
  },
  {
   "cell_type": "code",
   "execution_count": 294,
   "metadata": {},
   "outputs": [],
   "source": [
    "pred_test=logreg.predict(x_test)"
   ]
  },
  {
   "cell_type": "code",
   "execution_count": 295,
   "metadata": {},
   "outputs": [
    {
     "data": {
      "text/html": [
       "<div>\n",
       "<style scoped>\n",
       "    .dataframe tbody tr th:only-of-type {\n",
       "        vertical-align: middle;\n",
       "    }\n",
       "\n",
       "    .dataframe tbody tr th {\n",
       "        vertical-align: top;\n",
       "    }\n",
       "\n",
       "    .dataframe thead th {\n",
       "        text-align: right;\n",
       "    }\n",
       "</style>\n",
       "<table border=\"1\" class=\"dataframe\">\n",
       "  <thead>\n",
       "    <tr style=\"text-align: right;\">\n",
       "      <th>col_0</th>\n",
       "      <th>0</th>\n",
       "      <th>1</th>\n",
       "    </tr>\n",
       "    <tr>\n",
       "      <th>loan_status</th>\n",
       "      <th></th>\n",
       "      <th></th>\n",
       "    </tr>\n",
       "  </thead>\n",
       "  <tbody>\n",
       "    <tr>\n",
       "      <th>0</th>\n",
       "      <td>456839</td>\n",
       "      <td>185031</td>\n",
       "    </tr>\n",
       "    <tr>\n",
       "      <th>1</th>\n",
       "      <td>65740</td>\n",
       "      <td>84260</td>\n",
       "    </tr>\n",
       "  </tbody>\n",
       "</table>\n",
       "</div>"
      ],
      "text/plain": [
       "col_0             0       1\n",
       "loan_status                \n",
       "0            456839  185031\n",
       "1             65740   84260"
      ]
     },
     "execution_count": 295,
     "metadata": {},
     "output_type": "execute_result"
    }
   ],
   "source": [
    "pd.crosstab(y_test,pred_test)"
   ]
  },
  {
   "cell_type": "code",
   "execution_count": 296,
   "metadata": {},
   "outputs": [],
   "source": [
    "#from sklearn.metrics import confusion_matrix\n",
    "#from sklearn import metrics"
   ]
  },
  {
   "cell_type": "code",
   "execution_count": 297,
   "metadata": {},
   "outputs": [
    {
     "name": "stdout",
     "output_type": "stream",
     "text": [
      "[[456839 185031]\n",
      " [ 65740  84260]]\n"
     ]
    }
   ],
   "source": [
    "# Confusion matrix \n",
    "confusion = metrics.confusion_matrix(y_test,pred_test )\n",
    "print(confusion)"
   ]
  },
  {
   "cell_type": "code",
   "execution_count": 298,
   "metadata": {},
   "outputs": [],
   "source": [
    "TP = confusion[1,1] # true positive \n",
    "TN = confusion[0,0] # true negatives\n",
    "FP = confusion[0,1] # false positives\n",
    "FN = confusion[1,0] # false negatives"
   ]
  },
  {
   "cell_type": "code",
   "execution_count": 299,
   "metadata": {},
   "outputs": [
    {
     "name": "stdout",
     "output_type": "stream",
     "text": [
      "Accuracy=0.6833179688585248\n",
      "sensitivity=0.5617333333333333\n",
      "specificity=0.7117313474691137\n"
     ]
    }
   ],
   "source": [
    "accuracy=(TP+TN)/(TP+TN+FP+FN)\n",
    "sensitivity=TP / float(TP+FN)\n",
    "specificity=TN / float(TN+FP)\n",
    "print('Accuracy='+ str(accuracy)) \n",
    "print('sensitivity='+str(sensitivity))\n",
    "print('specificity='+str(specificity))"
   ]
  },
  {
   "cell_type": "code",
   "execution_count": 300,
   "metadata": {},
   "outputs": [
    {
     "data": {
      "text/plain": [
       "array([[-2.72228862e-04,  1.01334952e-01,  8.78082127e-03,\n",
       "        -2.25198709e-06,  9.90935605e-03,  2.91999674e-03,\n",
       "         3.87555847e-03, -2.75801838e-06,  2.72076572e-03,\n",
       "        -2.42437584e-02, -1.97720758e-04, -5.37469642e-03,\n",
       "        -2.01156647e-02, -1.87000206e-02, -1.60125230e-02,\n",
       "        -8.78189925e-04, -1.78768398e-02, -1.90219906e-02,\n",
       "        -1.51330116e-05, -4.70742430e-03, -3.34030553e-04,\n",
       "        -1.56965749e-03, -7.25728838e-04, -4.13077407e-04,\n",
       "        -3.43079655e-03, -4.40460524e-05, -6.22520470e-04,\n",
       "        -3.96707800e-04, -2.33672962e-04,  8.61165805e-04,\n",
       "        -6.18313842e-05, -1.94278909e-02, -2.20449286e-02,\n",
       "        -5.98857369e-07, -2.81723775e-02, -4.72657492e-06,\n",
       "        -1.02125867e-05, -7.88641940e-03, -1.32239774e-02,\n",
       "        -1.98844066e-02, -1.37888049e-02, -1.41608288e-02,\n",
       "        -2.02678420e-02]])"
      ]
     },
     "execution_count": 300,
     "metadata": {},
     "output_type": "execute_result"
    }
   ],
   "source": [
    "logreg.coef_"
   ]
  },
  {
   "cell_type": "code",
   "execution_count": 301,
   "metadata": {},
   "outputs": [],
   "source": [
    "pred1=logreg.predict_proba(x_test)# to get probabilities instead of classes"
   ]
  },
  {
   "cell_type": "code",
   "execution_count": 302,
   "metadata": {},
   "outputs": [
    {
     "data": {
      "text/plain": [
       "(-0.05, 1.05)"
      ]
     },
     "execution_count": 302,
     "metadata": {},
     "output_type": "execute_result"
    },
    {
     "data": {
      "image/png": "[encoded data removed]",
      "text/plain": [
       "<Figure size 432x288 with 1 Axes>"
      ]
     },
     "metadata": {
      "needs_background": "light"
     },
     "output_type": "display_data"
    }
   ],
   "source": [
    "#ROC Curv\n",
    "fpr, tpr, threshold= metrics.roc_curve(y_test, pred1[:,1]) #pass the actual test DV and \n",
    "#predicted probability (only P(y)=1)\n",
    "#**********DRAW ROC CURVE**************\n",
    "plt.plot(fpr, tpr, label='ROC curve', color='b')\n",
    "plt.axes().set_aspect('equal')\n",
    "plt.xlim([-0.05, 1.05])\n",
    "plt.ylim([-0.05, 1.05])"
   ]
  },
  {
   "cell_type": "code",
   "execution_count": 303,
   "metadata": {},
   "outputs": [
    {
     "name": "stdout",
     "output_type": "stream",
     "text": [
      "0.6902563792979887\n"
     ]
    }
   ],
   "source": [
    "AUC= metrics.auc(fpr,tpr) # to get the area under the Curve\n",
    "print (AUC) #69.03% which is good. this means model is covering 69.03% of the datapoints well. Best value is 1\n",
    "#worst is 0"
   ]
  },
  {
   "cell_type": "code",
   "execution_count": 327,
   "metadata": {},
   "outputs": [
    {
     "data": {
      "text/html": [
       "<div>\n",
       "<style scoped>\n",
       "    .dataframe tbody tr th:only-of-type {\n",
       "        vertical-align: middle;\n",
       "    }\n",
       "\n",
       "    .dataframe tbody tr th {\n",
       "        vertical-align: top;\n",
       "    }\n",
       "\n",
       "    .dataframe thead th {\n",
       "        text-align: right;\n",
       "    }\n",
       "</style>\n",
       "<table border=\"1\" class=\"dataframe\">\n",
       "  <thead>\n",
       "    <tr style=\"text-align: right;\">\n",
       "      <th>col_0</th>\n",
       "      <th>0</th>\n",
       "      <th>1</th>\n",
       "    </tr>\n",
       "    <tr>\n",
       "      <th>loan_status</th>\n",
       "      <th></th>\n",
       "      <th></th>\n",
       "    </tr>\n",
       "  </thead>\n",
       "  <tbody>\n",
       "    <tr>\n",
       "      <th>0</th>\n",
       "      <td>421695</td>\n",
       "      <td>220175</td>\n",
       "    </tr>\n",
       "    <tr>\n",
       "      <th>1</th>\n",
       "      <td>56803</td>\n",
       "      <td>93197</td>\n",
       "    </tr>\n",
       "  </tbody>\n",
       "</table>\n",
       "</div>"
      ],
      "text/plain": [
       "col_0             0       1\n",
       "loan_status                \n",
       "0            421695  220175\n",
       "1             56803   93197"
      ]
     },
     "execution_count": 327,
     "metadata": {},
     "output_type": "execute_result"
    }
   ],
   "source": [
    "#test for changing cut off\n",
    "x=[]\n",
    "for i in range(len(pred1[:,1])):\n",
    "    if (pred1[:,1][i]>=0.48):\n",
    "        x.append(1)\n",
    "    else:\n",
    "        x.append(0)\n",
    "x=np.array(x)\n",
    "pd.crosstab(y_test,x)"
   ]
  },
  {
   "cell_type": "code",
   "execution_count": 328,
   "metadata": {},
   "outputs": [
    {
     "name": "stdout",
     "output_type": "stream",
     "text": [
      "[[421695 220175]\n",
      " [ 56803  93197]]\n"
     ]
    }
   ],
   "source": [
    "confusion = metrics.confusion_matrix(y_test,x )\n",
    "print(confusion)\n",
    "TP = confusion[1,1] # true positive \n",
    "TN = confusion[0,0] # true negatives\n",
    "FP = confusion[0,1] # false positives\n",
    "FN = confusion[1,0] # false negatives"
   ]
  },
  {
   "cell_type": "code",
   "execution_count": 329,
   "metadata": {},
   "outputs": [
    {
     "name": "stdout",
     "output_type": "stream",
     "text": [
      "Accuracy=0.6502228901208532\n",
      "sensitivity=0.6213133333333334\n",
      "specificity=0.6569788274884323\n"
     ]
    }
   ],
   "source": [
    "accuracy=(TP+TN)/(TP+TN+FP+FN)\n",
    "sensitivity=TP / float(TP+FN)\n",
    "specificity=TN / float(TN+FP)\n",
    "print('Accuracy='+ str(accuracy)) \n",
    "print('sensitivity='+str(sensitivity))\n",
    "print('specificity='+str(specificity))"
   ]
  },
  {
   "cell_type": "code",
   "execution_count": 305,
   "metadata": {},
   "outputs": [],
   "source": [
    "#save model\n",
    "import pickle\n",
    "Pkl_Filename = \"G:\\\\Shraddha\\\\BABI\\\\Project\\\\NewData\\\\Pickle_LR_Model.pkl\"  \n",
    "with open(Pkl_Filename, 'wb') as file:  \n",
    "    pickle.dump(logreg, file)"
   ]
  }
 ],
 "metadata": {
  "kernelspec": {
   "display_name": "Python 3",
   "language": "python",
   "name": "python3"
  },
  "language_info": {
   "codemirror_mode": {
    "name": "ipython",
    "version": 3
   },
   "file_extension": ".py",
   "mimetype": "text/x-python",
   "name": "python",
   "nbconvert_exporter": "python",
   "pygments_lexer": "ipython3",
   "version": "3.7.6"
  }
 },
 "nbformat": 4,
 "nbformat_minor": 4
}
