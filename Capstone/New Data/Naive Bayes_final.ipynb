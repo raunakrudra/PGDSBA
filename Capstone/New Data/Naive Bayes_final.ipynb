{
 "cells": [
  {
   "cell_type": "code",
   "execution_count": 1,
   "metadata": {
    "ExecuteTime": {
     "end_time": "2021-03-21T11:07:36.055729Z",
     "start_time": "2021-03-21T11:07:31.712484Z"
    }
   },
   "outputs": [],
   "source": [
    "import numpy as np\n",
    "import pandas as pd\n",
    "import matplotlib.pyplot as plt\n",
    "import imblearn as imblearn\n",
    "import warnings\n",
    "warnings.filterwarnings('ignore')"
   ]
  },
  {
   "cell_type": "code",
   "execution_count": 2,
   "metadata": {
    "ExecuteTime": {
     "end_time": "2021-03-21T11:07:37.727243Z",
     "start_time": "2021-03-21T11:07:36.057671Z"
    }
   },
   "outputs": [],
   "source": [
    "train_data=pd.read_csv(\"C:\\\\Users\\\\SAURAV\\\\OneDrive\\\\Documents\\\\PGP-DSBA\\\\Capstone\\\\P2P Lending\\\\New Data\\\\Python Code\\\\clean_data.csv\")"
   ]
  },
  {
   "cell_type": "code",
   "execution_count": 3,
   "metadata": {
    "ExecuteTime": {
     "end_time": "2021-03-21T11:07:38.990448Z",
     "start_time": "2021-03-21T11:07:37.731306Z"
    }
   },
   "outputs": [],
   "source": [
    "test_data=pd.read_csv(\"C:\\\\Users\\\\SAURAV\\\\OneDrive\\\\Documents\\\\PGP-DSBA\\\\Capstone\\\\P2P Lending\\\\New Data\\\\Python Code\\\\validation_data.csv\")"
   ]
  },
  {
   "cell_type": "code",
   "execution_count": 4,
   "metadata": {
    "ExecuteTime": {
     "end_time": "2021-03-21T11:07:39.005261Z",
     "start_time": "2021-03-21T11:07:38.992293Z"
    }
   },
   "outputs": [
    {
     "data": {
      "text/plain": [
       "(883760, 21)"
      ]
     },
     "execution_count": 4,
     "metadata": {},
     "output_type": "execute_result"
    }
   ],
   "source": [
    "train_data.shape"
   ]
  },
  {
   "cell_type": "code",
   "execution_count": 5,
   "metadata": {
    "ExecuteTime": {
     "end_time": "2021-03-21T11:07:39.020294Z",
     "start_time": "2021-03-21T11:07:39.007260Z"
    }
   },
   "outputs": [
    {
     "data": {
      "text/plain": [
       "(791870, 21)"
      ]
     },
     "execution_count": 5,
     "metadata": {},
     "output_type": "execute_result"
    }
   ],
   "source": [
    "test_data.shape"
   ]
  },
  {
   "cell_type": "code",
   "execution_count": 6,
   "metadata": {
    "ExecuteTime": {
     "end_time": "2021-03-21T11:07:39.066540Z",
     "start_time": "2021-03-21T11:07:39.023277Z"
    }
   },
   "outputs": [
    {
     "data": {
      "text/html": [
       "<div>\n",
       "<style scoped>\n",
       "    .dataframe tbody tr th:only-of-type {\n",
       "        vertical-align: middle;\n",
       "    }\n",
       "\n",
       "    .dataframe tbody tr th {\n",
       "        vertical-align: top;\n",
       "    }\n",
       "\n",
       "    .dataframe thead th {\n",
       "        text-align: right;\n",
       "    }\n",
       "</style>\n",
       "<table border=\"1\" class=\"dataframe\">\n",
       "  <thead>\n",
       "    <tr style=\"text-align: right;\">\n",
       "      <th></th>\n",
       "      <th>Unnamed: 0</th>\n",
       "      <th>loan_amnt</th>\n",
       "      <th>term</th>\n",
       "      <th>installment</th>\n",
       "      <th>home_ownership</th>\n",
       "      <th>annual_inc</th>\n",
       "      <th>verification_status</th>\n",
       "      <th>loan_status</th>\n",
       "      <th>purpose</th>\n",
       "      <th>addr_state</th>\n",
       "      <th>...</th>\n",
       "      <th>delinq_2yrs</th>\n",
       "      <th>open_acc</th>\n",
       "      <th>pub_rec</th>\n",
       "      <th>revol_bal</th>\n",
       "      <th>total_acc</th>\n",
       "      <th>initial_list_status</th>\n",
       "      <th>application_type</th>\n",
       "      <th>mort_acc</th>\n",
       "      <th>loan_age</th>\n",
       "      <th>fico_value</th>\n",
       "    </tr>\n",
       "  </thead>\n",
       "  <tbody>\n",
       "    <tr>\n",
       "      <th>0</th>\n",
       "      <td>0</td>\n",
       "      <td>24000</td>\n",
       "      <td>60</td>\n",
       "      <td>533.75</td>\n",
       "      <td>MORTGAGE</td>\n",
       "      <td>105000.0</td>\n",
       "      <td>Source Verified</td>\n",
       "      <td>Fully Paid</td>\n",
       "      <td>debt_consolidation</td>\n",
       "      <td>WA</td>\n",
       "      <td>...</td>\n",
       "      <td>0</td>\n",
       "      <td>14</td>\n",
       "      <td>0</td>\n",
       "      <td>12028</td>\n",
       "      <td>22</td>\n",
       "      <td>w</td>\n",
       "      <td>Individual</td>\n",
       "      <td>2</td>\n",
       "      <td>1825</td>\n",
       "      <td>662.0</td>\n",
       "    </tr>\n",
       "    <tr>\n",
       "      <th>1</th>\n",
       "      <td>1</td>\n",
       "      <td>10000</td>\n",
       "      <td>36</td>\n",
       "      <td>306.45</td>\n",
       "      <td>RENT</td>\n",
       "      <td>65000.0</td>\n",
       "      <td>Source Verified</td>\n",
       "      <td>Fully Paid</td>\n",
       "      <td>debt_consolidation</td>\n",
       "      <td>CA</td>\n",
       "      <td>...</td>\n",
       "      <td>4</td>\n",
       "      <td>5</td>\n",
       "      <td>0</td>\n",
       "      <td>5667</td>\n",
       "      <td>28</td>\n",
       "      <td>w</td>\n",
       "      <td>Individual</td>\n",
       "      <td>3</td>\n",
       "      <td>1825</td>\n",
       "      <td>682.0</td>\n",
       "    </tr>\n",
       "    <tr>\n",
       "      <th>2</th>\n",
       "      <td>2</td>\n",
       "      <td>8000</td>\n",
       "      <td>36</td>\n",
       "      <td>245.16</td>\n",
       "      <td>OWN</td>\n",
       "      <td>38000.0</td>\n",
       "      <td>Not Verified</td>\n",
       "      <td>Fully Paid</td>\n",
       "      <td>credit_card</td>\n",
       "      <td>NC</td>\n",
       "      <td>...</td>\n",
       "      <td>0</td>\n",
       "      <td>9</td>\n",
       "      <td>0</td>\n",
       "      <td>10082</td>\n",
       "      <td>24</td>\n",
       "      <td>w</td>\n",
       "      <td>Individual</td>\n",
       "      <td>0</td>\n",
       "      <td>1825</td>\n",
       "      <td>687.0</td>\n",
       "    </tr>\n",
       "    <tr>\n",
       "      <th>3</th>\n",
       "      <td>3</td>\n",
       "      <td>30000</td>\n",
       "      <td>60</td>\n",
       "      <td>659.33</td>\n",
       "      <td>MORTGAGE</td>\n",
       "      <td>72000.0</td>\n",
       "      <td>Source Verified</td>\n",
       "      <td>Fully Paid</td>\n",
       "      <td>debt_consolidation</td>\n",
       "      <td>OH</td>\n",
       "      <td>...</td>\n",
       "      <td>0</td>\n",
       "      <td>13</td>\n",
       "      <td>0</td>\n",
       "      <td>23034</td>\n",
       "      <td>42</td>\n",
       "      <td>w</td>\n",
       "      <td>Individual</td>\n",
       "      <td>3</td>\n",
       "      <td>1825</td>\n",
       "      <td>702.0</td>\n",
       "    </tr>\n",
       "    <tr>\n",
       "      <th>4</th>\n",
       "      <td>5</td>\n",
       "      <td>19600</td>\n",
       "      <td>60</td>\n",
       "      <td>527.50</td>\n",
       "      <td>RENT</td>\n",
       "      <td>75000.0</td>\n",
       "      <td>Source Verified</td>\n",
       "      <td>Charged Off</td>\n",
       "      <td>debt_consolidation</td>\n",
       "      <td>PA</td>\n",
       "      <td>...</td>\n",
       "      <td>0</td>\n",
       "      <td>7</td>\n",
       "      <td>0</td>\n",
       "      <td>1584</td>\n",
       "      <td>15</td>\n",
       "      <td>w</td>\n",
       "      <td>Individual</td>\n",
       "      <td>0</td>\n",
       "      <td>1825</td>\n",
       "      <td>702.0</td>\n",
       "    </tr>\n",
       "  </tbody>\n",
       "</table>\n",
       "<p>5 rows × 21 columns</p>\n",
       "</div>"
      ],
      "text/plain": [
       "   Unnamed: 0  loan_amnt  term  installment home_ownership  annual_inc  \\\n",
       "0           0      24000    60       533.75       MORTGAGE    105000.0   \n",
       "1           1      10000    36       306.45           RENT     65000.0   \n",
       "2           2       8000    36       245.16            OWN     38000.0   \n",
       "3           3      30000    60       659.33       MORTGAGE     72000.0   \n",
       "4           5      19600    60       527.50           RENT     75000.0   \n",
       "\n",
       "  verification_status  loan_status             purpose addr_state  ...  \\\n",
       "0     Source Verified   Fully Paid  debt_consolidation         WA  ...   \n",
       "1     Source Verified   Fully Paid  debt_consolidation         CA  ...   \n",
       "2        Not Verified   Fully Paid         credit_card         NC  ...   \n",
       "3     Source Verified   Fully Paid  debt_consolidation         OH  ...   \n",
       "4     Source Verified  Charged Off  debt_consolidation         PA  ...   \n",
       "\n",
       "   delinq_2yrs  open_acc  pub_rec  revol_bal  total_acc  initial_list_status  \\\n",
       "0            0        14        0      12028         22                    w   \n",
       "1            4         5        0       5667         28                    w   \n",
       "2            0         9        0      10082         24                    w   \n",
       "3            0        13        0      23034         42                    w   \n",
       "4            0         7        0       1584         15                    w   \n",
       "\n",
       "  application_type mort_acc  loan_age  fico_value  \n",
       "0       Individual        2      1825       662.0  \n",
       "1       Individual        3      1825       682.0  \n",
       "2       Individual        0      1825       687.0  \n",
       "3       Individual        3      1825       702.0  \n",
       "4       Individual        0      1825       702.0  \n",
       "\n",
       "[5 rows x 21 columns]"
      ]
     },
     "execution_count": 6,
     "metadata": {},
     "output_type": "execute_result"
    }
   ],
   "source": [
    "test_data.head()"
   ]
  },
  {
   "cell_type": "code",
   "execution_count": 7,
   "metadata": {
    "ExecuteTime": {
     "end_time": "2021-03-21T11:07:39.241040Z",
     "start_time": "2021-03-21T11:07:39.067505Z"
    }
   },
   "outputs": [],
   "source": [
    "#drop open_acc column since it has high correlation with total_acc 0.69%\n",
    "train_data.drop(['open_acc'], axis=1,inplace=True)\n",
    "test_data.drop(['open_acc'], axis=1,inplace=True)"
   ]
  },
  {
   "cell_type": "code",
   "execution_count": 8,
   "metadata": {
    "ExecuteTime": {
     "end_time": "2021-03-21T11:07:39.413109Z",
     "start_time": "2021-03-21T11:07:39.243038Z"
    }
   },
   "outputs": [],
   "source": [
    "train_data.drop(['Unnamed: 0'], axis=1,inplace=True)\n",
    "test_data.drop(['Unnamed: 0'], axis=1,inplace=True)"
   ]
  },
  {
   "cell_type": "code",
   "execution_count": 9,
   "metadata": {
    "ExecuteTime": {
     "end_time": "2021-03-21T11:07:39.429044Z",
     "start_time": "2021-03-21T11:07:39.418042Z"
    }
   },
   "outputs": [],
   "source": [
    "rows = train_data.shape[0] \n",
    "cols = train_data.shape[1] "
   ]
  },
  {
   "cell_type": "code",
   "execution_count": 10,
   "metadata": {
    "ExecuteTime": {
     "end_time": "2021-03-21T11:07:39.445105Z",
     "start_time": "2021-03-21T11:07:39.433050Z"
    }
   },
   "outputs": [],
   "source": [
    "# remove home_ownership from test and train data\n",
    "# train_data.drop(['home_ownership'], axis=1,inplace=True)\n",
    "# test_data.drop(['home_ownership'], axis=1,inplace=True)"
   ]
  },
  {
   "cell_type": "code",
   "execution_count": 11,
   "metadata": {
    "ExecuteTime": {
     "end_time": "2021-03-21T11:07:40.360779Z",
     "start_time": "2021-03-21T11:07:39.447045Z"
    }
   },
   "outputs": [],
   "source": [
    "train_data['loan_status'] = train_data['loan_status'].str.replace('Fully Paid','0')\n",
    "train_data['loan_status'] = train_data['loan_status'].str.replace('Charged Off','1')\n",
    "train_data['loan_status']=train_data['loan_status'].astype(int)"
   ]
  },
  {
   "cell_type": "code",
   "execution_count": 12,
   "metadata": {
    "ExecuteTime": {
     "end_time": "2021-03-21T11:07:41.232045Z",
     "start_time": "2021-03-21T11:07:40.362779Z"
    }
   },
   "outputs": [],
   "source": [
    "test_data['loan_status'] = test_data['loan_status'].str.replace('Fully Paid','0')\n",
    "test_data['loan_status'] = test_data['loan_status'].str.replace('Charged Off','1')\n",
    "test_data['loan_status']=test_data['loan_status'].astype(int)"
   ]
  },
  {
   "cell_type": "code",
   "execution_count": 13,
   "metadata": {
    "ExecuteTime": {
     "end_time": "2021-03-21T11:07:41.391282Z",
     "start_time": "2021-03-21T11:07:41.233856Z"
    }
   },
   "outputs": [],
   "source": [
    "address=pd.DataFrame(train_data['addr_state'].value_counts())"
   ]
  },
  {
   "cell_type": "code",
   "execution_count": 14,
   "metadata": {
    "ExecuteTime": {
     "end_time": "2021-03-21T11:07:42.038714Z",
     "start_time": "2021-03-21T11:07:41.393311Z"
    }
   },
   "outputs": [],
   "source": [
    "\n",
    "one_hot_train=pd.get_dummies(train_data, columns=[\"verification_status\", \"purpose\",\"addr_state\",\"application_type\",\"initial_list_status\",\"home_ownership\"], \n",
    "                             prefix=[\"verification_status.\", \"purpose.\",\"addr_state.\",\"application_type.\",\"initial_list_status.\",\"home_ownership.\"])"
   ]
  },
  {
   "cell_type": "code",
   "execution_count": 15,
   "metadata": {
    "ExecuteTime": {
     "end_time": "2021-03-21T11:07:42.587889Z",
     "start_time": "2021-03-21T11:07:42.039777Z"
    }
   },
   "outputs": [],
   "source": [
    "\n",
    "one_hot_test=pd.get_dummies(test_data, columns=[\"verification_status\", \"purpose\",\"addr_state\",\"application_type\",\"initial_list_status\",\"home_ownership\"], prefix=[\n",
    "    \"verification_status.\", \"purpose.\",\"addr_state.\",\"application_type.\",\"initial_list_status.\",\"home_ownership.\"])"
   ]
  },
  {
   "cell_type": "code",
   "execution_count": 16,
   "metadata": {
    "ExecuteTime": {
     "end_time": "2021-03-21T11:07:42.666564Z",
     "start_time": "2021-03-21T11:07:42.589758Z"
    }
   },
   "outputs": [],
   "source": [
    "one_hot_train['addr_state.west'] =sum([one_hot_train['addr_state._CA'],\n",
    "                                       one_hot_train['addr_state._AZ'],\n",
    "                                       one_hot_train['addr_state._WA'],\n",
    "                                       one_hot_train['addr_state._CO'],\n",
    "                                       one_hot_train['addr_state._NV'],\n",
    "                                       one_hot_train['addr_state._OR'],\n",
    "                                       one_hot_train['addr_state._UT'],\n",
    "                                       one_hot_train['addr_state._NM'],\n",
    "                                       one_hot_train['addr_state._HI'],\n",
    "                                       one_hot_train['addr_state._FL'],\n",
    "                                       one_hot_train['addr_state._AK'],\n",
    "                                       one_hot_train['addr_state._WY'],\n",
    "                                       one_hot_train['addr_state._ID']\n",
    "                                     ])\n",
    "one_hot_train['addr_state.Mid_West'] =sum([one_hot_train['addr_state._IL'],\n",
    "                                            one_hot_train['addr_state._OH'],\n",
    "                                            one_hot_train['addr_state._MI'],\n",
    "                                            one_hot_train['addr_state._MN'],\n",
    "                                            one_hot_train['addr_state._MO'],\n",
    "                                            one_hot_train['addr_state._IN'],\n",
    "                                            one_hot_train['addr_state._WI'],\n",
    "                                            one_hot_train['addr_state._KS'],\n",
    "                                            one_hot_train['addr_state._SD'],\n",
    "                                            one_hot_train['addr_state._NE'],\n",
    "                                            one_hot_train['addr_state._ND'],\n",
    "                                            one_hot_train['addr_state._IA']\n",
    "                                    ])\n",
    "one_hot_train['addr_state.North_East'] =sum([one_hot_train['addr_state._NY'],\n",
    "                                            one_hot_train['addr_state._NJ'],\n",
    "                                            one_hot_train['addr_state._PA'],\n",
    "                                            one_hot_train['addr_state._MA'],\n",
    "                                            one_hot_train['addr_state._CT'],\n",
    "                                            one_hot_train['addr_state._NH'],\n",
    "                                            one_hot_train['addr_state._RI'],\n",
    "                                            one_hot_train['addr_state._DE'],\n",
    "                                            one_hot_train['addr_state._DC'],\n",
    "                                            one_hot_train['addr_state._VT'],\n",
    "                                            one_hot_train['addr_state._ME']\n",
    "                                               ])\n",
    "one_hot_train['addr_state.South'] =sum([one_hot_train['addr_state._TX'],\n",
    "                                            one_hot_train['addr_state._FL'],\n",
    "                                            one_hot_train['addr_state._GA'],\n",
    "                                            one_hot_train['addr_state._VA'],\n",
    "                                            one_hot_train['addr_state._NC'],\n",
    "                                            one_hot_train['addr_state._MD'],\n",
    "                                            one_hot_train['addr_state._TN'],\n",
    "                                            one_hot_train['addr_state._AL'],\n",
    "                                            one_hot_train['addr_state._SC'],\n",
    "                                            one_hot_train['addr_state._LA'],\n",
    "                                            one_hot_train['addr_state._KY'],\n",
    "                                            one_hot_train['addr_state._OK'],\n",
    "                                            one_hot_train['addr_state._AR'],\n",
    "                                            one_hot_train['addr_state._WV'],\n",
    "                                            one_hot_train['addr_state._MS']  \n",
    "                                            ])\n"
   ]
  },
  {
   "cell_type": "code",
   "execution_count": 17,
   "metadata": {
    "ExecuteTime": {
     "end_time": "2021-03-21T11:07:42.858408Z",
     "start_time": "2021-03-21T11:07:42.667347Z"
    }
   },
   "outputs": [],
   "source": [
    "one_hot_train.drop(['addr_state._AK','addr_state._AL','addr_state._AR','addr_state._AZ','addr_state._CO','addr_state._CT',\n",
    "'addr_state._DC','addr_state._DE','addr_state._FL','addr_state._GA','addr_state._HI','addr_state._IA','addr_state._ID',\n",
    "'addr_state._IL','addr_state._IN','addr_state._KS','addr_state._KY','addr_state._LA','addr_state._MA','addr_state._MD',\n",
    "'addr_state._ME','addr_state._MI','addr_state._MN','addr_state._MO','addr_state._MS','addr_state._MT','addr_state._NC',\n",
    "'addr_state._ND','addr_state._NE','addr_state._NH','addr_state._NJ','addr_state._NM','addr_state._NV','addr_state._NY',\n",
    "'addr_state._OH','addr_state._OK','addr_state._OR','addr_state._PA','addr_state._RI','addr_state._SC','addr_state._SD',\n",
    "'addr_state._TN','addr_state._TX','addr_state._UT','addr_state._VA','addr_state._VT','addr_state._WA','addr_state._WI',\n",
    "'addr_state._WV','addr_state._WY','addr_state._CA'], axis=1,inplace=True)"
   ]
  },
  {
   "cell_type": "code",
   "execution_count": 18,
   "metadata": {
    "ExecuteTime": {
     "end_time": "2021-03-21T11:07:42.905408Z",
     "start_time": "2021-03-21T11:07:42.859353Z"
    }
   },
   "outputs": [],
   "source": [
    "one_hot_test['addr_state.west'] =sum([one_hot_test['addr_state._CA'],\n",
    "                                       one_hot_test['addr_state._AZ'],\n",
    "                                       one_hot_test['addr_state._WA'],\n",
    "                                       one_hot_test['addr_state._CO'],\n",
    "                                       one_hot_test['addr_state._NV'],\n",
    "                                       one_hot_test['addr_state._OR'],\n",
    "                                       one_hot_test['addr_state._UT'],\n",
    "                                       one_hot_test['addr_state._NM'],\n",
    "                                       one_hot_test['addr_state._HI'],\n",
    "                                       one_hot_test['addr_state._FL'],\n",
    "                                       one_hot_test['addr_state._AK'],\n",
    "                                       one_hot_test['addr_state._WY'],\n",
    "                                       one_hot_test['addr_state._ID']\n",
    "                                     ])\n",
    "one_hot_test['addr_state.Mid_West'] =sum([one_hot_test['addr_state._IL'],\n",
    "                                            one_hot_test['addr_state._OH'],\n",
    "                                            one_hot_test['addr_state._MI'],\n",
    "                                            one_hot_test['addr_state._MN'],\n",
    "                                            one_hot_test['addr_state._MO'],\n",
    "                                            one_hot_test['addr_state._IN'],\n",
    "                                            one_hot_test['addr_state._WI'],\n",
    "                                            one_hot_test['addr_state._KS'],\n",
    "                                            one_hot_test['addr_state._SD'],\n",
    "                                            one_hot_test['addr_state._NE'],\n",
    "                                            one_hot_test['addr_state._ND']\n",
    "                                           # one_hot_test['addr_state._IA']\n",
    "                                    ])\n",
    "one_hot_test['addr_state.North_East'] =sum([one_hot_test['addr_state._NY'],\n",
    "                                            one_hot_test['addr_state._NJ'],\n",
    "                                            one_hot_test['addr_state._PA'],\n",
    "                                            one_hot_test['addr_state._MA'],\n",
    "                                            one_hot_test['addr_state._CT'],\n",
    "                                            one_hot_test['addr_state._NH'],\n",
    "                                            one_hot_test['addr_state._RI'],\n",
    "                                            one_hot_test['addr_state._DE'],\n",
    "                                            one_hot_test['addr_state._DC'],\n",
    "                                            one_hot_test['addr_state._VT'],\n",
    "                                            one_hot_test['addr_state._ME']\n",
    "                                               ])\n",
    "one_hot_test['addr_state.South'] =sum([one_hot_test['addr_state._TX'],\n",
    "                                            one_hot_test['addr_state._FL'],\n",
    "                                            one_hot_test['addr_state._GA'],\n",
    "                                            one_hot_test['addr_state._VA'],\n",
    "                                            one_hot_test['addr_state._NC'],\n",
    "                                            one_hot_test['addr_state._MD'],\n",
    "                                            one_hot_test['addr_state._TN'],\n",
    "                                            one_hot_test['addr_state._AL'],\n",
    "                                            one_hot_test['addr_state._SC'],\n",
    "                                            one_hot_test['addr_state._LA'],\n",
    "                                            one_hot_test['addr_state._KY'],\n",
    "                                            one_hot_test['addr_state._OK'],\n",
    "                                            one_hot_test['addr_state._AR'],\n",
    "                                            one_hot_test['addr_state._WV'],\n",
    "                                            one_hot_test['addr_state._MS']  \n",
    "                                            ])\n"
   ]
  },
  {
   "cell_type": "code",
   "execution_count": 19,
   "metadata": {
    "ExecuteTime": {
     "end_time": "2021-03-21T11:07:43.076351Z",
     "start_time": "2021-03-21T11:07:42.906351Z"
    }
   },
   "outputs": [],
   "source": [
    "one_hot_test.drop(['addr_state._AK','addr_state._AL','addr_state._AR','addr_state._AZ','addr_state._CO','addr_state._CT',\n",
    "'addr_state._DC','addr_state._DE','addr_state._FL','addr_state._GA','addr_state._HI','addr_state._ID',\n",
    "'addr_state._IL','addr_state._IN','addr_state._KS','addr_state._KY','addr_state._LA','addr_state._MA',\n",
    "'addr_state._MD','addr_state._ME','addr_state._MI','addr_state._MN','addr_state._MO','addr_state._MS',\n",
    "'addr_state._MT','addr_state._NC','addr_state._ND','addr_state._NE','addr_state._NH','addr_state._NJ',\n",
    "'addr_state._NM','addr_state._NV','addr_state._NY','addr_state._OH','addr_state._OK','addr_state._OR',\n",
    "'addr_state._PA','addr_state._RI','addr_state._SC','addr_state._SD','addr_state._TN','addr_state._TX',\n",
    "'addr_state._UT','addr_state._VA','addr_state._VT','addr_state._WA','addr_state._WI','addr_state._WV',\n",
    "'addr_state._WY','addr_state._CA'], axis=1,inplace=True)"
   ]
  },
  {
   "cell_type": "code",
   "execution_count": 20,
   "metadata": {
    "ExecuteTime": {
     "end_time": "2021-03-21T11:07:43.092351Z",
     "start_time": "2021-03-21T11:07:43.077351Z"
    }
   },
   "outputs": [
    {
     "data": {
      "text/plain": [
       "(791870, 43)"
      ]
     },
     "execution_count": 20,
     "metadata": {},
     "output_type": "execute_result"
    }
   ],
   "source": [
    "one_hot_test.shape"
   ]
  },
  {
   "cell_type": "code",
   "execution_count": 21,
   "metadata": {
    "ExecuteTime": {
     "end_time": "2021-03-21T11:07:43.156386Z",
     "start_time": "2021-03-21T11:07:43.094352Z"
    }
   },
   "outputs": [],
   "source": [
    "x_train=one_hot_train.drop(['loan_status'],axis=1) \n",
    "y_train=one_hot_train.loan_status"
   ]
  },
  {
   "cell_type": "code",
   "execution_count": 22,
   "metadata": {
    "ExecuteTime": {
     "end_time": "2021-03-21T11:07:43.204367Z",
     "start_time": "2021-03-21T11:07:43.157353Z"
    }
   },
   "outputs": [],
   "source": [
    "x_test=one_hot_test.drop(['loan_status'],axis=1) \n",
    "y_test=one_hot_test.loan_status"
   ]
  },
  {
   "cell_type": "code",
   "execution_count": 23,
   "metadata": {
    "ExecuteTime": {
     "end_time": "2021-03-21T11:07:43.220361Z",
     "start_time": "2021-03-21T11:07:43.207351Z"
    }
   },
   "outputs": [
    {
     "name": "stdout",
     "output_type": "stream",
     "text": [
      "['home_ownership._OTHER']\n"
     ]
    }
   ],
   "source": [
    "#compare train and test column names\n",
    "a = np.intersect1d(x_train.columns, x_test.columns)\n",
    "#print (a)\n",
    "b=x_train.columns\n",
    "#print(b)\n",
    "c=np.array(b)\n",
    "#type(c)\n",
    "print(np.setdiff1d(c,a))"
   ]
  },
  {
   "cell_type": "code",
   "execution_count": 24,
   "metadata": {
    "ExecuteTime": {
     "end_time": "2021-03-21T11:07:43.235680Z",
     "start_time": "2021-03-21T11:07:43.222352Z"
    }
   },
   "outputs": [],
   "source": [
    "#it seems home_ownership._OTHER column is missing into test data so create it\n",
    "x_test['home_ownership._OTHER']=0"
   ]
  },
  {
   "cell_type": "code",
   "execution_count": 25,
   "metadata": {
    "ExecuteTime": {
     "end_time": "2021-03-21T11:07:43.267110Z",
     "start_time": "2021-03-21T11:07:43.240761Z"
    }
   },
   "outputs": [
    {
     "data": {
      "text/plain": [
       "loan_amnt                               float64\n",
       "term                                      int64\n",
       "installment                             float64\n",
       "annual_inc                              float64\n",
       "dti                                     float64\n",
       "delinq_2yrs                             float64\n",
       "pub_rec                                 float64\n",
       "revol_bal                               float64\n",
       "total_acc                               float64\n",
       "mort_acc                                float64\n",
       "loan_age                                  int64\n",
       "fico_value                              float64\n",
       "verification_status._Not Verified         uint8\n",
       "verification_status._Source Verified      uint8\n",
       "verification_status._Verified             uint8\n",
       "purpose._car                              uint8\n",
       "purpose._credit_card                      uint8\n",
       "purpose._debt_consolidation               uint8\n",
       "purpose._educational                      uint8\n",
       "purpose._home_improvement                 uint8\n",
       "purpose._house                            uint8\n",
       "purpose._major_purchase                   uint8\n",
       "purpose._medical                          uint8\n",
       "purpose._moving                           uint8\n",
       "purpose._other                            uint8\n",
       "purpose._renewable_energy                 uint8\n",
       "purpose._small_business                   uint8\n",
       "purpose._vacation                         uint8\n",
       "purpose._wedding                          uint8\n",
       "application_type._Individual              uint8\n",
       "application_type._Joint App               uint8\n",
       "initial_list_status._f                    uint8\n",
       "initial_list_status._w                    uint8\n",
       "home_ownership._ANY                       uint8\n",
       "home_ownership._MORTGAGE                  uint8\n",
       "home_ownership._NONE                      uint8\n",
       "home_ownership._OTHER                     uint8\n",
       "home_ownership._OWN                       uint8\n",
       "home_ownership._RENT                      uint8\n",
       "addr_state.west                           uint8\n",
       "addr_state.Mid_West                       uint8\n",
       "addr_state.North_East                     uint8\n",
       "addr_state.South                          uint8\n",
       "dtype: object"
      ]
     },
     "execution_count": 25,
     "metadata": {},
     "output_type": "execute_result"
    }
   ],
   "source": [
    "x_train.dtypes"
   ]
  },
  {
   "cell_type": "code",
   "execution_count": 26,
   "metadata": {
    "ExecuteTime": {
     "end_time": "2021-03-21T11:07:43.283132Z",
     "start_time": "2021-03-21T11:07:43.273186Z"
    }
   },
   "outputs": [],
   "source": [
    "from sklearn.metrics import confusion_matrix\n",
    "from sklearn import metrics"
   ]
  },
  {
   "cell_type": "code",
   "execution_count": 27,
   "metadata": {
    "ExecuteTime": {
     "end_time": "2021-03-21T11:15:26.022450Z",
     "start_time": "2021-03-21T11:07:43.286168Z"
    }
   },
   "outputs": [],
   "source": [
    "\n",
    "# import library\n",
    "from imblearn.over_sampling import SMOTE\n",
    "\n",
    "smote = SMOTE()\n",
    "\n",
    "# fit predictor and target variable\n",
    "x_smote, y_smote = smote.fit_resample(x_train, y_train)"
   ]
  },
  {
   "cell_type": "code",
   "execution_count": 28,
   "metadata": {
    "ExecuteTime": {
     "end_time": "2021-03-21T11:15:26.051670Z",
     "start_time": "2021-03-21T11:15:26.032391Z"
    }
   },
   "outputs": [
    {
     "data": {
      "text/plain": [
       "(883760, 43)"
      ]
     },
     "execution_count": 28,
     "metadata": {},
     "output_type": "execute_result"
    }
   ],
   "source": [
    "x_train.shape"
   ]
  },
  {
   "cell_type": "code",
   "execution_count": 29,
   "metadata": {
    "ExecuteTime": {
     "end_time": "2021-03-21T11:15:26.066669Z",
     "start_time": "2021-03-21T11:15:26.053651Z"
    }
   },
   "outputs": [
    {
     "data": {
      "text/plain": [
       "(791870, 43)"
      ]
     },
     "execution_count": 29,
     "metadata": {},
     "output_type": "execute_result"
    }
   ],
   "source": [
    "x_test.shape"
   ]
  },
  {
   "cell_type": "code",
   "execution_count": 30,
   "metadata": {
    "ExecuteTime": {
     "end_time": "2021-03-21T11:15:26.082670Z",
     "start_time": "2021-03-21T11:15:26.067670Z"
    }
   },
   "outputs": [
    {
     "data": {
      "text/plain": [
       "(791870,)"
      ]
     },
     "execution_count": 30,
     "metadata": {},
     "output_type": "execute_result"
    }
   ],
   "source": [
    "y_test.shape"
   ]
  },
  {
   "cell_type": "code",
   "execution_count": 31,
   "metadata": {
    "ExecuteTime": {
     "end_time": "2021-03-21T11:15:26.114680Z",
     "start_time": "2021-03-21T11:15:26.084676Z"
    }
   },
   "outputs": [
    {
     "data": {
      "text/plain": [
       "0    0\n",
       "1    0\n",
       "2    0\n",
       "3    0\n",
       "4    1\n",
       "Name: loan_status, dtype: int32"
      ]
     },
     "execution_count": 31,
     "metadata": {},
     "output_type": "execute_result"
    }
   ],
   "source": [
    "y_test.head()"
   ]
  },
  {
   "cell_type": "code",
   "execution_count": 32,
   "metadata": {
    "ExecuteTime": {
     "end_time": "2021-03-21T11:15:27.571798Z",
     "start_time": "2021-03-21T11:15:26.117639Z"
    }
   },
   "outputs": [
    {
     "data": {
      "text/plain": [
       "GaussianNB()"
      ]
     },
     "execution_count": 32,
     "metadata": {},
     "output_type": "execute_result"
    }
   ],
   "source": [
    "from sklearn.naive_bayes import GaussianNB\n",
    "NBclassifier = GaussianNB()\n",
    "NBclassifier.fit(x_smote, y_smote)"
   ]
  },
  {
   "cell_type": "code",
   "execution_count": 33,
   "metadata": {
    "ExecuteTime": {
     "end_time": "2021-03-21T11:15:29.953072Z",
     "start_time": "2021-03-21T11:15:27.573791Z"
    }
   },
   "outputs": [
    {
     "name": "stdout",
     "output_type": "stream",
     "text": [
      "[[364024 277846]\n",
      " [ 54446  95554]]\n",
      "              precision    recall  f1-score   support\n",
      "\n",
      "           0       0.87      0.57      0.69    641870\n",
      "           1       0.26      0.64      0.37    150000\n",
      "\n",
      "    accuracy                           0.58    791870\n",
      "   macro avg       0.56      0.60      0.53    791870\n",
      "weighted avg       0.75      0.58      0.63    791870\n",
      "\n"
     ]
    }
   ],
   "source": [
    "from sklearn.metrics import classification_report,confusion_matrix\n",
    "y_pred = NBclassifier.predict(x_test)\n",
    "print(confusion_matrix(y_test,y_pred))\n",
    "print(classification_report(y_test,y_pred))"
   ]
  },
  {
   "cell_type": "code",
   "execution_count": 34,
   "metadata": {
    "ExecuteTime": {
     "end_time": "2021-03-21T11:15:31.035919Z",
     "start_time": "2021-03-21T11:15:29.955039Z"
    }
   },
   "outputs": [
    {
     "data": {
      "text/plain": [
       "[Text(0, 0.5, 'Default'), Text(0, 1.5, 'No Default')]"
      ]
     },
     "execution_count": 34,
     "metadata": {},
     "output_type": "execute_result"
    },
    {
     "data": {
      "image/png": "[encoded data removed]",
      "text/plain": [
       "<Figure size 720x720 with 2 Axes>"
      ]
     },
     "metadata": {
      "needs_background": "light"
     },
     "output_type": "display_data"
    }
   ],
   "source": [
    "import seaborn as sns\n",
    "labels = ['No Default', 'Default']\n",
    "cm = confusion_matrix(y_test,y_pred)\n",
    "plt.figure(figsize = (10,10))\n",
    "ax= plt.subplot()\n",
    "sns.heatmap(cm, annot=True, ax = ax,cmap=\"BuPu\"); \n",
    "\n",
    "# labels, title and ticks\n",
    "ax.set_xlabel('Predicted labels');ax.set_ylabel('True labels'); \n",
    "ax.set_title('Confusion Matrix'); \n",
    "ax.xaxis.set_ticklabels(['No Default', 'Default']); ax.yaxis.set_ticklabels(['Default', 'No Default'])"
   ]
  },
  {
   "cell_type": "code",
   "execution_count": 35,
   "metadata": {
    "ExecuteTime": {
     "end_time": "2021-03-21T11:15:31.051918Z",
     "start_time": "2021-03-21T11:15:31.037878Z"
    }
   },
   "outputs": [],
   "source": [
    "#save model\n",
    "import pickle\n",
    "Pkl_Filename = \"C:\\\\Users\\\\SAURAV\\\\OneDrive\\\\Documents\\\\PGP-DSBA\\\\Capstone\\\\P2P Lending\\\\New Data\\\\Python Code\\\\NaiveBayes.pkl\"  \n",
    "with open(Pkl_Filename, 'wb') as file:  \n",
    "    pickle.dump(NBclassifier, file)"
   ]
  },
  {
   "cell_type": "code",
   "execution_count": 36,
   "metadata": {
    "ExecuteTime": {
     "end_time": "2021-03-21T11:15:31.909881Z",
     "start_time": "2021-03-21T11:15:31.054903Z"
    }
   },
   "outputs": [],
   "source": [
    "pred1 = NBclassifier.predict_proba(x_test)"
   ]
  },
  {
   "cell_type": "code",
   "execution_count": 37,
   "metadata": {
    "ExecuteTime": {
     "end_time": "2021-03-21T11:15:32.285880Z",
     "start_time": "2021-03-21T11:15:31.910883Z"
    }
   },
   "outputs": [
    {
     "data": {
      "text/plain": [
       "(-0.05, 1.03)"
      ]
     },
     "execution_count": 37,
     "metadata": {},
     "output_type": "execute_result"
    },
    {
     "data": {
      "image/png": "[encoded data removed]",
      "text/plain": [
       "<Figure size 432x288 with 1 Axes>"
      ]
     },
     "metadata": {
      "needs_background": "light"
     },
     "output_type": "display_data"
    }
   ],
   "source": [
    "#ROC Curv\n",
    "fpr, tpr, threshold= metrics.roc_curve(y_test, pred1[:,1]) \n",
    "plt.plot(fpr, tpr, label='ROC curve', color='r')\n",
    "plt.plot([0, 1], [0, 1], linestyle='--')\n",
    "plt.axes().set_aspect('equal')\n",
    "plt.xlim([-0.05, 1.03])\n",
    "plt.ylim([-0.05, 1.03])"
   ]
  },
  {
   "cell_type": "code",
   "execution_count": 38,
   "metadata": {
    "ExecuteTime": {
     "end_time": "2021-03-21T11:15:32.301882Z",
     "start_time": "2021-03-21T11:15:32.287885Z"
    }
   },
   "outputs": [
    {
     "name": "stdout",
     "output_type": "stream",
     "text": [
      "64.7262326493942\n"
     ]
    }
   ],
   "source": [
    "AUC= metrics.auc(fpr,tpr) # to get the area under the Curve\n",
    "print (AUC*100)"
   ]
  },
  {
   "cell_type": "code",
   "execution_count": 40,
   "metadata": {
    "ExecuteTime": {
     "end_time": "2021-03-21T11:22:01.956464Z",
     "start_time": "2021-03-21T11:22:01.381430Z"
    }
   },
   "outputs": [
    {
     "data": {
      "text/html": [
       "<div>\n",
       "<style scoped>\n",
       "    .dataframe tbody tr th:only-of-type {\n",
       "        vertical-align: middle;\n",
       "    }\n",
       "\n",
       "    .dataframe tbody tr th {\n",
       "        vertical-align: top;\n",
       "    }\n",
       "\n",
       "    .dataframe thead th {\n",
       "        text-align: right;\n",
       "    }\n",
       "</style>\n",
       "<table border=\"1\" class=\"dataframe\">\n",
       "  <thead>\n",
       "    <tr style=\"text-align: right;\">\n",
       "      <th>col_0</th>\n",
       "      <th>0</th>\n",
       "      <th>1</th>\n",
       "    </tr>\n",
       "    <tr>\n",
       "      <th>loan_status</th>\n",
       "      <th></th>\n",
       "      <th></th>\n",
       "    </tr>\n",
       "  </thead>\n",
       "  <tbody>\n",
       "    <tr>\n",
       "      <th>0</th>\n",
       "      <td>364024</td>\n",
       "      <td>277846</td>\n",
       "    </tr>\n",
       "    <tr>\n",
       "      <th>1</th>\n",
       "      <td>54446</td>\n",
       "      <td>95554</td>\n",
       "    </tr>\n",
       "  </tbody>\n",
       "</table>\n",
       "</div>"
      ],
      "text/plain": [
       "col_0             0       1\n",
       "loan_status                \n",
       "0            364024  277846\n",
       "1             54446   95554"
      ]
     },
     "execution_count": 40,
     "metadata": {},
     "output_type": "execute_result"
    }
   ],
   "source": [
    "x=[]\n",
    "for i in range(len(pred1[:,1])):\n",
    "    if (pred1[:,1][i]>=0.50):\n",
    "        x.append(1)\n",
    "    else:\n",
    "        x.append(0)\n",
    "x=np.array(x)\n",
    "pd.crosstab(y_test,x)"
   ]
  },
  {
   "cell_type": "code",
   "execution_count": 41,
   "metadata": {
    "ExecuteTime": {
     "end_time": "2021-03-21T11:22:25.489156Z",
     "start_time": "2021-03-21T11:22:24.990730Z"
    }
   },
   "outputs": [
    {
     "name": "stdout",
     "output_type": "stream",
     "text": [
      "[[364024 277846]\n",
      " [ 54446  95554]]\n"
     ]
    }
   ],
   "source": [
    "confusion = metrics.confusion_matrix(y_test,x)\n",
    "print(confusion)\n",
    "TP = confusion[1,1] # true positive \n",
    "TN = confusion[0,0] # true negatives\n",
    "FP = confusion[0,1] # false positives\n",
    "FN = confusion[1,0] # false negatives"
   ]
  },
  {
   "cell_type": "code",
   "execution_count": 42,
   "metadata": {
    "ExecuteTime": {
     "end_time": "2021-03-21T11:22:33.158350Z",
     "start_time": "2021-03-21T11:22:33.144382Z"
    }
   },
   "outputs": [
    {
     "name": "stdout",
     "output_type": "stream",
     "text": [
      "Accuracy=0.58037051536237\n",
      "sensitivity=0.6370266666666666\n",
      "specificity=0.5671304158162868\n"
     ]
    }
   ],
   "source": [
    "accuracy=(TP+TN)/(TP+TN+FP+FN)\n",
    "sensitivity=TP / float(TP+FN)\n",
    "specificity=TN / float(TN+FP)\n",
    "print('Accuracy='+ str(accuracy)) \n",
    "print('sensitivity='+str(sensitivity))\n",
    "print('specificity='+str(specificity))"
   ]
  },
  {
   "cell_type": "code",
   "execution_count": null,
   "metadata": {},
   "outputs": [],
   "source": [
    "from sklearn.svm import SVC\n",
    "classifier = SVC(kernel = 'linear', random_state = 50)\n",
    "classifier.fit(X_smote, y_smote)"
   ]
  }
 ],
 "metadata": {
  "kernelspec": {
   "display_name": "Python 3",
   "language": "python",
   "name": "python3"
  },
  "language_info": {
   "codemirror_mode": {
    "name": "ipython",
    "version": 3
   },
   "file_extension": ".py",
   "mimetype": "text/x-python",
   "name": "python",
   "nbconvert_exporter": "python",
   "pygments_lexer": "ipython3",
   "version": "3.7.6"
  }
 },
 "nbformat": 4,
 "nbformat_minor": 4
}
