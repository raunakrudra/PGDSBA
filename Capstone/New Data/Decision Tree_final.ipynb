{
 "cells": [
  {
   "cell_type": "code",
   "execution_count": 1,
   "metadata": {
    "ExecuteTime": {
     "end_time": "2021-03-21T03:52:46.564828Z",
     "start_time": "2021-03-21T03:52:41.725872Z"
    }
   },
   "outputs": [],
   "source": [
    "import numpy as np\n",
    "import pandas as pd\n",
    "import matplotlib.pyplot as plt\n",
    "import imblearn as imblearn\n",
    "import warnings\n",
    "warnings.filterwarnings('ignore')"
   ]
  },
  {
   "cell_type": "code",
   "execution_count": 2,
   "metadata": {
    "ExecuteTime": {
     "end_time": "2021-03-21T03:52:48.223870Z",
     "start_time": "2021-03-21T03:52:46.566835Z"
    }
   },
   "outputs": [],
   "source": [
    "train_data=pd.read_csv(\"C:\\\\Users\\\\SAURAV\\\\OneDrive\\\\Documents\\\\PGP-DSBA\\\\Capstone\\\\P2P Lending\\\\New Data\\\\Python Code\\\\clean_data.csv\")"
   ]
  },
  {
   "cell_type": "code",
   "execution_count": 3,
   "metadata": {
    "ExecuteTime": {
     "end_time": "2021-03-21T03:52:49.861869Z",
     "start_time": "2021-03-21T03:52:48.225835Z"
    }
   },
   "outputs": [],
   "source": [
    "test_data=pd.read_csv(\"C:\\\\Users\\\\SAURAV\\\\OneDrive\\\\Documents\\\\PGP-DSBA\\\\Capstone\\\\P2P Lending\\\\New Data\\\\Python Code\\\\validation_data.csv\")"
   ]
  },
  {
   "cell_type": "code",
   "execution_count": 4,
   "metadata": {
    "ExecuteTime": {
     "end_time": "2021-03-21T03:52:49.877875Z",
     "start_time": "2021-03-21T03:52:49.863838Z"
    }
   },
   "outputs": [
    {
     "data": {
      "text/plain": [
       "(883760, 21)"
      ]
     },
     "execution_count": 4,
     "metadata": {},
     "output_type": "execute_result"
    }
   ],
   "source": [
    "train_data.shape"
   ]
  },
  {
   "cell_type": "code",
   "execution_count": 5,
   "metadata": {
    "ExecuteTime": {
     "end_time": "2021-03-21T03:52:49.893838Z",
     "start_time": "2021-03-21T03:52:49.879834Z"
    }
   },
   "outputs": [
    {
     "data": {
      "text/plain": [
       "(791870, 21)"
      ]
     },
     "execution_count": 5,
     "metadata": {},
     "output_type": "execute_result"
    }
   ],
   "source": [
    "test_data.shape"
   ]
  },
  {
   "cell_type": "code",
   "execution_count": 6,
   "metadata": {
    "ExecuteTime": {
     "end_time": "2021-03-21T03:52:49.957832Z",
     "start_time": "2021-03-21T03:52:49.895853Z"
    }
   },
   "outputs": [
    {
     "data": {
      "text/html": [
       "<div>\n",
       "<style scoped>\n",
       "    .dataframe tbody tr th:only-of-type {\n",
       "        vertical-align: middle;\n",
       "    }\n",
       "\n",
       "    .dataframe tbody tr th {\n",
       "        vertical-align: top;\n",
       "    }\n",
       "\n",
       "    .dataframe thead th {\n",
       "        text-align: right;\n",
       "    }\n",
       "</style>\n",
       "<table border=\"1\" class=\"dataframe\">\n",
       "  <thead>\n",
       "    <tr style=\"text-align: right;\">\n",
       "      <th></th>\n",
       "      <th>Unnamed: 0</th>\n",
       "      <th>loan_amnt</th>\n",
       "      <th>term</th>\n",
       "      <th>installment</th>\n",
       "      <th>home_ownership</th>\n",
       "      <th>annual_inc</th>\n",
       "      <th>verification_status</th>\n",
       "      <th>loan_status</th>\n",
       "      <th>purpose</th>\n",
       "      <th>addr_state</th>\n",
       "      <th>...</th>\n",
       "      <th>delinq_2yrs</th>\n",
       "      <th>open_acc</th>\n",
       "      <th>pub_rec</th>\n",
       "      <th>revol_bal</th>\n",
       "      <th>total_acc</th>\n",
       "      <th>initial_list_status</th>\n",
       "      <th>application_type</th>\n",
       "      <th>mort_acc</th>\n",
       "      <th>loan_age</th>\n",
       "      <th>fico_value</th>\n",
       "    </tr>\n",
       "  </thead>\n",
       "  <tbody>\n",
       "    <tr>\n",
       "      <th>0</th>\n",
       "      <td>0</td>\n",
       "      <td>24000</td>\n",
       "      <td>60</td>\n",
       "      <td>533.75</td>\n",
       "      <td>MORTGAGE</td>\n",
       "      <td>105000.0</td>\n",
       "      <td>Source Verified</td>\n",
       "      <td>Fully Paid</td>\n",
       "      <td>debt_consolidation</td>\n",
       "      <td>WA</td>\n",
       "      <td>...</td>\n",
       "      <td>0</td>\n",
       "      <td>14</td>\n",
       "      <td>0</td>\n",
       "      <td>12028</td>\n",
       "      <td>22</td>\n",
       "      <td>w</td>\n",
       "      <td>Individual</td>\n",
       "      <td>2</td>\n",
       "      <td>1825</td>\n",
       "      <td>662.0</td>\n",
       "    </tr>\n",
       "    <tr>\n",
       "      <th>1</th>\n",
       "      <td>1</td>\n",
       "      <td>10000</td>\n",
       "      <td>36</td>\n",
       "      <td>306.45</td>\n",
       "      <td>RENT</td>\n",
       "      <td>65000.0</td>\n",
       "      <td>Source Verified</td>\n",
       "      <td>Fully Paid</td>\n",
       "      <td>debt_consolidation</td>\n",
       "      <td>CA</td>\n",
       "      <td>...</td>\n",
       "      <td>4</td>\n",
       "      <td>5</td>\n",
       "      <td>0</td>\n",
       "      <td>5667</td>\n",
       "      <td>28</td>\n",
       "      <td>w</td>\n",
       "      <td>Individual</td>\n",
       "      <td>3</td>\n",
       "      <td>1825</td>\n",
       "      <td>682.0</td>\n",
       "    </tr>\n",
       "    <tr>\n",
       "      <th>2</th>\n",
       "      <td>2</td>\n",
       "      <td>8000</td>\n",
       "      <td>36</td>\n",
       "      <td>245.16</td>\n",
       "      <td>OWN</td>\n",
       "      <td>38000.0</td>\n",
       "      <td>Not Verified</td>\n",
       "      <td>Fully Paid</td>\n",
       "      <td>credit_card</td>\n",
       "      <td>NC</td>\n",
       "      <td>...</td>\n",
       "      <td>0</td>\n",
       "      <td>9</td>\n",
       "      <td>0</td>\n",
       "      <td>10082</td>\n",
       "      <td>24</td>\n",
       "      <td>w</td>\n",
       "      <td>Individual</td>\n",
       "      <td>0</td>\n",
       "      <td>1825</td>\n",
       "      <td>687.0</td>\n",
       "    </tr>\n",
       "    <tr>\n",
       "      <th>3</th>\n",
       "      <td>3</td>\n",
       "      <td>30000</td>\n",
       "      <td>60</td>\n",
       "      <td>659.33</td>\n",
       "      <td>MORTGAGE</td>\n",
       "      <td>72000.0</td>\n",
       "      <td>Source Verified</td>\n",
       "      <td>Fully Paid</td>\n",
       "      <td>debt_consolidation</td>\n",
       "      <td>OH</td>\n",
       "      <td>...</td>\n",
       "      <td>0</td>\n",
       "      <td>13</td>\n",
       "      <td>0</td>\n",
       "      <td>23034</td>\n",
       "      <td>42</td>\n",
       "      <td>w</td>\n",
       "      <td>Individual</td>\n",
       "      <td>3</td>\n",
       "      <td>1825</td>\n",
       "      <td>702.0</td>\n",
       "    </tr>\n",
       "    <tr>\n",
       "      <th>4</th>\n",
       "      <td>5</td>\n",
       "      <td>19600</td>\n",
       "      <td>60</td>\n",
       "      <td>527.50</td>\n",
       "      <td>RENT</td>\n",
       "      <td>75000.0</td>\n",
       "      <td>Source Verified</td>\n",
       "      <td>Charged Off</td>\n",
       "      <td>debt_consolidation</td>\n",
       "      <td>PA</td>\n",
       "      <td>...</td>\n",
       "      <td>0</td>\n",
       "      <td>7</td>\n",
       "      <td>0</td>\n",
       "      <td>1584</td>\n",
       "      <td>15</td>\n",
       "      <td>w</td>\n",
       "      <td>Individual</td>\n",
       "      <td>0</td>\n",
       "      <td>1825</td>\n",
       "      <td>702.0</td>\n",
       "    </tr>\n",
       "  </tbody>\n",
       "</table>\n",
       "<p>5 rows × 21 columns</p>\n",
       "</div>"
      ],
      "text/plain": [
       "   Unnamed: 0  loan_amnt  term  installment home_ownership  annual_inc  \\\n",
       "0           0      24000    60       533.75       MORTGAGE    105000.0   \n",
       "1           1      10000    36       306.45           RENT     65000.0   \n",
       "2           2       8000    36       245.16            OWN     38000.0   \n",
       "3           3      30000    60       659.33       MORTGAGE     72000.0   \n",
       "4           5      19600    60       527.50           RENT     75000.0   \n",
       "\n",
       "  verification_status  loan_status             purpose addr_state  ...  \\\n",
       "0     Source Verified   Fully Paid  debt_consolidation         WA  ...   \n",
       "1     Source Verified   Fully Paid  debt_consolidation         CA  ...   \n",
       "2        Not Verified   Fully Paid         credit_card         NC  ...   \n",
       "3     Source Verified   Fully Paid  debt_consolidation         OH  ...   \n",
       "4     Source Verified  Charged Off  debt_consolidation         PA  ...   \n",
       "\n",
       "   delinq_2yrs  open_acc  pub_rec  revol_bal  total_acc  initial_list_status  \\\n",
       "0            0        14        0      12028         22                    w   \n",
       "1            4         5        0       5667         28                    w   \n",
       "2            0         9        0      10082         24                    w   \n",
       "3            0        13        0      23034         42                    w   \n",
       "4            0         7        0       1584         15                    w   \n",
       "\n",
       "  application_type mort_acc  loan_age  fico_value  \n",
       "0       Individual        2      1825       662.0  \n",
       "1       Individual        3      1825       682.0  \n",
       "2       Individual        0      1825       687.0  \n",
       "3       Individual        3      1825       702.0  \n",
       "4       Individual        0      1825       702.0  \n",
       "\n",
       "[5 rows x 21 columns]"
      ]
     },
     "execution_count": 6,
     "metadata": {},
     "output_type": "execute_result"
    }
   ],
   "source": [
    "test_data.head()"
   ]
  },
  {
   "cell_type": "code",
   "execution_count": 7,
   "metadata": {
    "ExecuteTime": {
     "end_time": "2021-03-21T03:52:50.160646Z",
     "start_time": "2021-03-21T03:52:49.960835Z"
    }
   },
   "outputs": [],
   "source": [
    "#drop open_acc column since it has high correlation with total_acc 0.69%\n",
    "train_data.drop(['open_acc'], axis=1,inplace=True)\n",
    "test_data.drop(['open_acc'], axis=1,inplace=True)"
   ]
  },
  {
   "cell_type": "code",
   "execution_count": 8,
   "metadata": {
    "ExecuteTime": {
     "end_time": "2021-03-21T03:52:50.367642Z",
     "start_time": "2021-03-21T03:52:50.163643Z"
    }
   },
   "outputs": [],
   "source": [
    "train_data.drop(['Unnamed: 0'], axis=1,inplace=True)\n",
    "test_data.drop(['Unnamed: 0'], axis=1,inplace=True)"
   ]
  },
  {
   "cell_type": "code",
   "execution_count": 9,
   "metadata": {
    "ExecuteTime": {
     "end_time": "2021-03-21T03:52:50.383646Z",
     "start_time": "2021-03-21T03:52:50.369646Z"
    }
   },
   "outputs": [],
   "source": [
    "rows = train_data.shape[0] \n",
    "cols = train_data.shape[1] "
   ]
  },
  {
   "cell_type": "code",
   "execution_count": 10,
   "metadata": {
    "ExecuteTime": {
     "end_time": "2021-03-21T03:52:50.399643Z",
     "start_time": "2021-03-21T03:52:50.386645Z"
    }
   },
   "outputs": [],
   "source": [
    "# remove home_ownership from test and train data\n",
    "# train_data.drop(['home_ownership'], axis=1,inplace=True)\n",
    "# test_data.drop(['home_ownership'], axis=1,inplace=True)"
   ]
  },
  {
   "cell_type": "code",
   "execution_count": 11,
   "metadata": {
    "ExecuteTime": {
     "end_time": "2021-03-21T03:52:51.374819Z",
     "start_time": "2021-03-21T03:52:50.401649Z"
    }
   },
   "outputs": [],
   "source": [
    "train_data['loan_status'] = train_data['loan_status'].str.replace('Fully Paid','0')\n",
    "train_data['loan_status'] = train_data['loan_status'].str.replace('Charged Off','1')\n",
    "train_data['loan_status']=train_data['loan_status'].astype(int)"
   ]
  },
  {
   "cell_type": "code",
   "execution_count": 12,
   "metadata": {
    "ExecuteTime": {
     "end_time": "2021-03-21T03:52:52.234848Z",
     "start_time": "2021-03-21T03:52:51.375679Z"
    }
   },
   "outputs": [],
   "source": [
    "test_data['loan_status'] = test_data['loan_status'].str.replace('Fully Paid','0')\n",
    "test_data['loan_status'] = test_data['loan_status'].str.replace('Charged Off','1')\n",
    "test_data['loan_status']=test_data['loan_status'].astype(int)"
   ]
  },
  {
   "cell_type": "code",
   "execution_count": 13,
   "metadata": {
    "ExecuteTime": {
     "end_time": "2021-03-21T03:52:52.404113Z",
     "start_time": "2021-03-21T03:52:52.236643Z"
    }
   },
   "outputs": [],
   "source": [
    "address=pd.DataFrame(train_data['addr_state'].value_counts())"
   ]
  },
  {
   "cell_type": "code",
   "execution_count": 14,
   "metadata": {
    "ExecuteTime": {
     "end_time": "2021-03-21T03:52:53.130019Z",
     "start_time": "2021-03-21T03:52:52.406144Z"
    }
   },
   "outputs": [],
   "source": [
    "\n",
    "one_hot_train=pd.get_dummies(train_data, columns=[\"verification_status\", \"purpose\",\"addr_state\",\"application_type\",\"initial_list_status\",\"home_ownership\"], \n",
    "                             prefix=[\"verification_status.\", \"purpose.\",\"addr_state.\",\"application_type.\",\"initial_list_status.\",\"home_ownership.\"])"
   ]
  },
  {
   "cell_type": "code",
   "execution_count": 15,
   "metadata": {
    "ExecuteTime": {
     "end_time": "2021-03-21T03:52:53.702471Z",
     "start_time": "2021-03-21T03:52:53.131908Z"
    }
   },
   "outputs": [],
   "source": [
    "\n",
    "one_hot_test=pd.get_dummies(test_data, columns=[\"verification_status\", \"purpose\",\"addr_state\",\"application_type\",\"initial_list_status\",\"home_ownership\"], prefix=[\n",
    "    \"verification_status.\", \"purpose.\",\"addr_state.\",\"application_type.\",\"initial_list_status.\",\"home_ownership.\"])"
   ]
  },
  {
   "cell_type": "code",
   "execution_count": 16,
   "metadata": {
    "ExecuteTime": {
     "end_time": "2021-03-21T03:52:53.778903Z",
     "start_time": "2021-03-21T03:52:53.706472Z"
    }
   },
   "outputs": [],
   "source": [
    "one_hot_train['addr_state.west'] =sum([one_hot_train['addr_state._CA'],\n",
    "                                       one_hot_train['addr_state._AZ'],\n",
    "                                       one_hot_train['addr_state._WA'],\n",
    "                                       one_hot_train['addr_state._CO'],\n",
    "                                       one_hot_train['addr_state._NV'],\n",
    "                                       one_hot_train['addr_state._OR'],\n",
    "                                       one_hot_train['addr_state._UT'],\n",
    "                                       one_hot_train['addr_state._NM'],\n",
    "                                       one_hot_train['addr_state._HI'],\n",
    "                                       one_hot_train['addr_state._FL'],\n",
    "                                       one_hot_train['addr_state._AK'],\n",
    "                                       one_hot_train['addr_state._WY'],\n",
    "                                       one_hot_train['addr_state._ID']\n",
    "                                     ])\n",
    "one_hot_train['addr_state.Mid_West'] =sum([one_hot_train['addr_state._IL'],\n",
    "                                            one_hot_train['addr_state._OH'],\n",
    "                                            one_hot_train['addr_state._MI'],\n",
    "                                            one_hot_train['addr_state._MN'],\n",
    "                                            one_hot_train['addr_state._MO'],\n",
    "                                            one_hot_train['addr_state._IN'],\n",
    "                                            one_hot_train['addr_state._WI'],\n",
    "                                            one_hot_train['addr_state._KS'],\n",
    "                                            one_hot_train['addr_state._SD'],\n",
    "                                            one_hot_train['addr_state._NE'],\n",
    "                                            one_hot_train['addr_state._ND'],\n",
    "                                            one_hot_train['addr_state._IA']\n",
    "                                    ])\n",
    "one_hot_train['addr_state.North_East'] =sum([one_hot_train['addr_state._NY'],\n",
    "                                            one_hot_train['addr_state._NJ'],\n",
    "                                            one_hot_train['addr_state._PA'],\n",
    "                                            one_hot_train['addr_state._MA'],\n",
    "                                            one_hot_train['addr_state._CT'],\n",
    "                                            one_hot_train['addr_state._NH'],\n",
    "                                            one_hot_train['addr_state._RI'],\n",
    "                                            one_hot_train['addr_state._DE'],\n",
    "                                            one_hot_train['addr_state._DC'],\n",
    "                                            one_hot_train['addr_state._VT'],\n",
    "                                            one_hot_train['addr_state._ME']\n",
    "                                               ])\n",
    "one_hot_train['addr_state.South'] =sum([one_hot_train['addr_state._TX'],\n",
    "                                            one_hot_train['addr_state._FL'],\n",
    "                                            one_hot_train['addr_state._GA'],\n",
    "                                            one_hot_train['addr_state._VA'],\n",
    "                                            one_hot_train['addr_state._NC'],\n",
    "                                            one_hot_train['addr_state._MD'],\n",
    "                                            one_hot_train['addr_state._TN'],\n",
    "                                            one_hot_train['addr_state._AL'],\n",
    "                                            one_hot_train['addr_state._SC'],\n",
    "                                            one_hot_train['addr_state._LA'],\n",
    "                                            one_hot_train['addr_state._KY'],\n",
    "                                            one_hot_train['addr_state._OK'],\n",
    "                                            one_hot_train['addr_state._AR'],\n",
    "                                            one_hot_train['addr_state._WV'],\n",
    "                                            one_hot_train['addr_state._MS']  \n",
    "                                            ])\n"
   ]
  },
  {
   "cell_type": "code",
   "execution_count": 17,
   "metadata": {
    "ExecuteTime": {
     "end_time": "2021-03-21T03:52:54.031245Z",
     "start_time": "2021-03-21T03:52:53.782934Z"
    }
   },
   "outputs": [],
   "source": [
    "one_hot_train.drop(['addr_state._AK','addr_state._AL','addr_state._AR','addr_state._AZ','addr_state._CO','addr_state._CT',\n",
    "'addr_state._DC','addr_state._DE','addr_state._FL','addr_state._GA','addr_state._HI','addr_state._IA','addr_state._ID',\n",
    "'addr_state._IL','addr_state._IN','addr_state._KS','addr_state._KY','addr_state._LA','addr_state._MA','addr_state._MD',\n",
    "'addr_state._ME','addr_state._MI','addr_state._MN','addr_state._MO','addr_state._MS','addr_state._MT','addr_state._NC',\n",
    "'addr_state._ND','addr_state._NE','addr_state._NH','addr_state._NJ','addr_state._NM','addr_state._NV','addr_state._NY',\n",
    "'addr_state._OH','addr_state._OK','addr_state._OR','addr_state._PA','addr_state._RI','addr_state._SC','addr_state._SD',\n",
    "'addr_state._TN','addr_state._TX','addr_state._UT','addr_state._VA','addr_state._VT','addr_state._WA','addr_state._WI',\n",
    "'addr_state._WV','addr_state._WY','addr_state._CA'], axis=1,inplace=True)"
   ]
  },
  {
   "cell_type": "code",
   "execution_count": 18,
   "metadata": {
    "ExecuteTime": {
     "end_time": "2021-03-21T03:52:54.108241Z",
     "start_time": "2021-03-21T03:52:54.033554Z"
    }
   },
   "outputs": [],
   "source": [
    "one_hot_test['addr_state.west'] =sum([one_hot_test['addr_state._CA'],\n",
    "                                       one_hot_test['addr_state._AZ'],\n",
    "                                       one_hot_test['addr_state._WA'],\n",
    "                                       one_hot_test['addr_state._CO'],\n",
    "                                       one_hot_test['addr_state._NV'],\n",
    "                                       one_hot_test['addr_state._OR'],\n",
    "                                       one_hot_test['addr_state._UT'],\n",
    "                                       one_hot_test['addr_state._NM'],\n",
    "                                       one_hot_test['addr_state._HI'],\n",
    "                                       one_hot_test['addr_state._FL'],\n",
    "                                       one_hot_test['addr_state._AK'],\n",
    "                                       one_hot_test['addr_state._WY'],\n",
    "                                       one_hot_test['addr_state._ID']\n",
    "                                     ])\n",
    "one_hot_test['addr_state.Mid_West'] =sum([one_hot_test['addr_state._IL'],\n",
    "                                            one_hot_test['addr_state._OH'],\n",
    "                                            one_hot_test['addr_state._MI'],\n",
    "                                            one_hot_test['addr_state._MN'],\n",
    "                                            one_hot_test['addr_state._MO'],\n",
    "                                            one_hot_test['addr_state._IN'],\n",
    "                                            one_hot_test['addr_state._WI'],\n",
    "                                            one_hot_test['addr_state._KS'],\n",
    "                                            one_hot_test['addr_state._SD'],\n",
    "                                            one_hot_test['addr_state._NE'],\n",
    "                                            one_hot_test['addr_state._ND']\n",
    "                                           # one_hot_test['addr_state._IA']\n",
    "                                    ])\n",
    "one_hot_test['addr_state.North_East'] =sum([one_hot_test['addr_state._NY'],\n",
    "                                            one_hot_test['addr_state._NJ'],\n",
    "                                            one_hot_test['addr_state._PA'],\n",
    "                                            one_hot_test['addr_state._MA'],\n",
    "                                            one_hot_test['addr_state._CT'],\n",
    "                                            one_hot_test['addr_state._NH'],\n",
    "                                            one_hot_test['addr_state._RI'],\n",
    "                                            one_hot_test['addr_state._DE'],\n",
    "                                            one_hot_test['addr_state._DC'],\n",
    "                                            one_hot_test['addr_state._VT'],\n",
    "                                            one_hot_test['addr_state._ME']\n",
    "                                               ])\n",
    "one_hot_test['addr_state.South'] =sum([one_hot_test['addr_state._TX'],\n",
    "                                            one_hot_test['addr_state._FL'],\n",
    "                                            one_hot_test['addr_state._GA'],\n",
    "                                            one_hot_test['addr_state._VA'],\n",
    "                                            one_hot_test['addr_state._NC'],\n",
    "                                            one_hot_test['addr_state._MD'],\n",
    "                                            one_hot_test['addr_state._TN'],\n",
    "                                            one_hot_test['addr_state._AL'],\n",
    "                                            one_hot_test['addr_state._SC'],\n",
    "                                            one_hot_test['addr_state._LA'],\n",
    "                                            one_hot_test['addr_state._KY'],\n",
    "                                            one_hot_test['addr_state._OK'],\n",
    "                                            one_hot_test['addr_state._AR'],\n",
    "                                            one_hot_test['addr_state._WV'],\n",
    "                                            one_hot_test['addr_state._MS']  \n",
    "                                            ])\n"
   ]
  },
  {
   "cell_type": "code",
   "execution_count": 19,
   "metadata": {
    "ExecuteTime": {
     "end_time": "2021-03-21T03:52:54.310927Z",
     "start_time": "2021-03-21T03:52:54.110140Z"
    }
   },
   "outputs": [],
   "source": [
    "one_hot_test.drop(['addr_state._AK','addr_state._AL','addr_state._AR','addr_state._AZ','addr_state._CO','addr_state._CT',\n",
    "'addr_state._DC','addr_state._DE','addr_state._FL','addr_state._GA','addr_state._HI','addr_state._ID',\n",
    "'addr_state._IL','addr_state._IN','addr_state._KS','addr_state._KY','addr_state._LA','addr_state._MA',\n",
    "'addr_state._MD','addr_state._ME','addr_state._MI','addr_state._MN','addr_state._MO','addr_state._MS',\n",
    "'addr_state._MT','addr_state._NC','addr_state._ND','addr_state._NE','addr_state._NH','addr_state._NJ',\n",
    "'addr_state._NM','addr_state._NV','addr_state._NY','addr_state._OH','addr_state._OK','addr_state._OR',\n",
    "'addr_state._PA','addr_state._RI','addr_state._SC','addr_state._SD','addr_state._TN','addr_state._TX',\n",
    "'addr_state._UT','addr_state._VA','addr_state._VT','addr_state._WA','addr_state._WI','addr_state._WV',\n",
    "'addr_state._WY','addr_state._CA'], axis=1,inplace=True)"
   ]
  },
  {
   "cell_type": "code",
   "execution_count": 20,
   "metadata": {
    "ExecuteTime": {
     "end_time": "2021-03-21T03:52:54.326764Z",
     "start_time": "2021-03-21T03:52:54.311735Z"
    }
   },
   "outputs": [
    {
     "data": {
      "text/plain": [
       "(791870, 43)"
      ]
     },
     "execution_count": 20,
     "metadata": {},
     "output_type": "execute_result"
    }
   ],
   "source": [
    "one_hot_test.shape"
   ]
  },
  {
   "cell_type": "code",
   "execution_count": 21,
   "metadata": {
    "ExecuteTime": {
     "end_time": "2021-03-21T03:52:54.404503Z",
     "start_time": "2021-03-21T03:52:54.328732Z"
    }
   },
   "outputs": [],
   "source": [
    "x_train=one_hot_train.drop(['loan_status'],axis=1) \n",
    "y_train=one_hot_train.loan_status"
   ]
  },
  {
   "cell_type": "code",
   "execution_count": 22,
   "metadata": {
    "ExecuteTime": {
     "end_time": "2021-03-21T03:52:54.468595Z",
     "start_time": "2021-03-21T03:52:54.405548Z"
    }
   },
   "outputs": [],
   "source": [
    "x_test=one_hot_test.drop(['loan_status'],axis=1) \n",
    "y_test=one_hot_test.loan_status"
   ]
  },
  {
   "cell_type": "code",
   "execution_count": 23,
   "metadata": {
    "ExecuteTime": {
     "end_time": "2021-03-21T03:52:54.484448Z",
     "start_time": "2021-03-21T03:52:54.472448Z"
    }
   },
   "outputs": [
    {
     "name": "stdout",
     "output_type": "stream",
     "text": [
      "['home_ownership._OTHER']\n"
     ]
    }
   ],
   "source": [
    "#compare train and test column names\n",
    "a = np.intersect1d(x_train.columns, x_test.columns)\n",
    "#print (a)\n",
    "b=x_train.columns\n",
    "#print(b)\n",
    "c=np.array(b)\n",
    "#type(c)\n",
    "print(np.setdiff1d(c,a))"
   ]
  },
  {
   "cell_type": "code",
   "execution_count": 24,
   "metadata": {
    "ExecuteTime": {
     "end_time": "2021-03-21T03:52:54.500456Z",
     "start_time": "2021-03-21T03:52:54.486453Z"
    }
   },
   "outputs": [],
   "source": [
    "#it seems home_ownership._OTHER column is missing into test data so create it\n",
    "x_test['home_ownership._OTHER']=0"
   ]
  },
  {
   "cell_type": "code",
   "execution_count": 25,
   "metadata": {
    "ExecuteTime": {
     "end_time": "2021-03-21T03:52:54.515473Z",
     "start_time": "2021-03-21T03:52:54.501471Z"
    }
   },
   "outputs": [
    {
     "data": {
      "text/plain": [
       "loan_amnt                               float64\n",
       "term                                      int64\n",
       "installment                             float64\n",
       "annual_inc                              float64\n",
       "dti                                     float64\n",
       "delinq_2yrs                             float64\n",
       "pub_rec                                 float64\n",
       "revol_bal                               float64\n",
       "total_acc                               float64\n",
       "mort_acc                                float64\n",
       "loan_age                                  int64\n",
       "fico_value                              float64\n",
       "verification_status._Not Verified         uint8\n",
       "verification_status._Source Verified      uint8\n",
       "verification_status._Verified             uint8\n",
       "purpose._car                              uint8\n",
       "purpose._credit_card                      uint8\n",
       "purpose._debt_consolidation               uint8\n",
       "purpose._educational                      uint8\n",
       "purpose._home_improvement                 uint8\n",
       "purpose._house                            uint8\n",
       "purpose._major_purchase                   uint8\n",
       "purpose._medical                          uint8\n",
       "purpose._moving                           uint8\n",
       "purpose._other                            uint8\n",
       "purpose._renewable_energy                 uint8\n",
       "purpose._small_business                   uint8\n",
       "purpose._vacation                         uint8\n",
       "purpose._wedding                          uint8\n",
       "application_type._Individual              uint8\n",
       "application_type._Joint App               uint8\n",
       "initial_list_status._f                    uint8\n",
       "initial_list_status._w                    uint8\n",
       "home_ownership._ANY                       uint8\n",
       "home_ownership._MORTGAGE                  uint8\n",
       "home_ownership._NONE                      uint8\n",
       "home_ownership._OTHER                     uint8\n",
       "home_ownership._OWN                       uint8\n",
       "home_ownership._RENT                      uint8\n",
       "addr_state.west                           uint8\n",
       "addr_state.Mid_West                       uint8\n",
       "addr_state.North_East                     uint8\n",
       "addr_state.South                          uint8\n",
       "dtype: object"
      ]
     },
     "execution_count": 25,
     "metadata": {},
     "output_type": "execute_result"
    }
   ],
   "source": [
    "x_train.dtypes"
   ]
  },
  {
   "cell_type": "code",
   "execution_count": 26,
   "metadata": {
    "ExecuteTime": {
     "end_time": "2021-03-21T03:53:11.178032Z",
     "start_time": "2021-03-21T03:52:54.517479Z"
    }
   },
   "outputs": [
    {
     "data": {
      "text/plain": [
       "DecisionTreeClassifier(criterion='entropy', max_depth=18, random_state=15)"
      ]
     },
     "execution_count": 26,
     "metadata": {},
     "output_type": "execute_result"
    }
   ],
   "source": [
    "#get feature importance\n",
    "from sklearn.tree import DecisionTreeClassifier\n",
    "dt=DecisionTreeClassifier(random_state=15,criterion='entropy',max_depth=18)\n",
    "dt.fit(x_train,y_train)"
   ]
  },
  {
   "cell_type": "code",
   "execution_count": 27,
   "metadata": {
    "ExecuteTime": {
     "end_time": "2021-03-21T03:53:11.193074Z",
     "start_time": "2021-03-21T03:53:11.179854Z"
    }
   },
   "outputs": [],
   "source": [
    "feature_importances = pd.DataFrame(dt.feature_importances_,\n",
    "                                   index = x_train.columns,\n",
    "                                    columns=['importance']).sort_values('importance',ascending=False)"
   ]
  },
  {
   "cell_type": "code",
   "execution_count": 28,
   "metadata": {
    "ExecuteTime": {
     "end_time": "2021-03-21T03:53:11.209021Z",
     "start_time": "2021-03-21T03:53:11.194855Z"
    }
   },
   "outputs": [
    {
     "name": "stdout",
     "output_type": "stream",
     "text": [
      "                                      importance\n",
      "dti                                     0.126007\n",
      "revol_bal                               0.121460\n",
      "installment                             0.115129\n",
      "annual_inc                              0.092161\n",
      "fico_value                              0.090532\n",
      "term                                    0.089729\n",
      "total_acc                               0.073116\n",
      "loan_age                                0.069107\n",
      "loan_amnt                               0.058325\n",
      "mort_acc                                0.033003\n",
      "delinq_2yrs                             0.012968\n",
      "pub_rec                                 0.009415\n",
      "home_ownership._MORTGAGE                0.007676\n",
      "addr_state.west                         0.007582\n",
      "addr_state.South                        0.007388\n",
      "addr_state.North_East                   0.007332\n",
      "verification_status._Verified           0.007253\n",
      "purpose._credit_card                    0.007093\n",
      "home_ownership._RENT                    0.006779\n",
      "purpose._debt_consolidation             0.006514\n",
      "verification_status._Source Verified    0.005971\n",
      "addr_state.Mid_West                     0.005607\n",
      "verification_status._Not Verified       0.005559\n",
      "purpose._small_business                 0.004773\n",
      "initial_list_status._f                  0.004615\n",
      "initial_list_status._w                  0.004496\n",
      "purpose._other                          0.003814\n",
      "purpose._home_improvement               0.003716\n",
      "home_ownership._OWN                     0.003531\n",
      "purpose._major_purchase                 0.002450\n",
      "purpose._medical                        0.001608\n",
      "purpose._vacation                       0.001248\n",
      "purpose._house                          0.000987\n",
      "purpose._moving                         0.000942\n",
      "purpose._car                            0.000846\n",
      "purpose._wedding                        0.000578\n",
      "purpose._renewable_energy               0.000344\n",
      "purpose._educational                    0.000187\n",
      "application_type._Individual            0.000073\n",
      "application_type._Joint App             0.000049\n",
      "home_ownership._OTHER                   0.000041\n",
      "home_ownership._NONE                    0.000000\n",
      "home_ownership._ANY                     0.000000\n"
     ]
    }
   ],
   "source": [
    "pd.set_option('display.max_rows', feature_importances.shape[0]+1)\n",
    "print(feature_importances)"
   ]
  },
  {
   "cell_type": "code",
   "execution_count": 29,
   "metadata": {
    "ExecuteTime": {
     "end_time": "2021-03-21T03:53:11.225373Z",
     "start_time": "2021-03-21T03:53:11.210073Z"
    }
   },
   "outputs": [],
   "source": [
    "from sklearn.metrics import confusion_matrix\n",
    "from sklearn import metrics"
   ]
  },
  {
   "cell_type": "code",
   "execution_count": 30,
   "metadata": {
    "ExecuteTime": {
     "end_time": "2021-03-21T04:02:01.928399Z",
     "start_time": "2021-03-21T03:53:11.226383Z"
    }
   },
   "outputs": [],
   "source": [
    "\n",
    "# import library\n",
    "from imblearn.over_sampling import SMOTE\n",
    "\n",
    "smote = SMOTE()\n",
    "\n",
    "# fit predictor and target variable\n",
    "x_smote, y_smote = smote.fit_resample(x_train, y_train)"
   ]
  },
  {
   "cell_type": "code",
   "execution_count": 31,
   "metadata": {
    "ExecuteTime": {
     "end_time": "2021-03-21T04:02:01.985666Z",
     "start_time": "2021-03-21T04:02:01.945069Z"
    }
   },
   "outputs": [
    {
     "data": {
      "text/plain": [
       "(883760, 43)"
      ]
     },
     "execution_count": 31,
     "metadata": {},
     "output_type": "execute_result"
    }
   ],
   "source": [
    "x_train.shape"
   ]
  },
  {
   "cell_type": "code",
   "execution_count": 32,
   "metadata": {
    "ExecuteTime": {
     "end_time": "2021-03-21T04:02:02.001661Z",
     "start_time": "2021-03-21T04:02:01.989665Z"
    }
   },
   "outputs": [
    {
     "data": {
      "text/plain": [
       "(791870, 43)"
      ]
     },
     "execution_count": 32,
     "metadata": {},
     "output_type": "execute_result"
    }
   ],
   "source": [
    "x_test.shape"
   ]
  },
  {
   "cell_type": "code",
   "execution_count": 33,
   "metadata": {
    "ExecuteTime": {
     "end_time": "2021-03-21T04:02:02.017660Z",
     "start_time": "2021-03-21T04:02:02.003661Z"
    }
   },
   "outputs": [
    {
     "data": {
      "text/plain": [
       "(791870,)"
      ]
     },
     "execution_count": 33,
     "metadata": {},
     "output_type": "execute_result"
    }
   ],
   "source": [
    "y_test.shape"
   ]
  },
  {
   "cell_type": "code",
   "execution_count": 34,
   "metadata": {
    "ExecuteTime": {
     "end_time": "2021-03-21T04:02:02.049735Z",
     "start_time": "2021-03-21T04:02:02.021667Z"
    }
   },
   "outputs": [
    {
     "data": {
      "text/plain": [
       "0    0\n",
       "1    0\n",
       "2    0\n",
       "3    0\n",
       "4    1\n",
       "Name: loan_status, dtype: int32"
      ]
     },
     "execution_count": 34,
     "metadata": {},
     "output_type": "execute_result"
    }
   ],
   "source": [
    "y_test.head()"
   ]
  },
  {
   "cell_type": "code",
   "execution_count": 35,
   "metadata": {
    "ExecuteTime": {
     "end_time": "2021-03-21T04:02:32.383937Z",
     "start_time": "2021-03-21T04:02:02.051735Z"
    }
   },
   "outputs": [
    {
     "data": {
      "text/plain": [
       "DecisionTreeClassifier(criterion='entropy', max_depth=18, random_state=15)"
      ]
     },
     "execution_count": 35,
     "metadata": {},
     "output_type": "execute_result"
    }
   ],
   "source": [
    "#get feature importance\n",
    "from sklearn.tree import DecisionTreeClassifier\n",
    "dt=DecisionTreeClassifier(random_state=15,criterion='entropy',max_depth=18)\n",
    "dt.fit(x_smote,y_smote)"
   ]
  },
  {
   "cell_type": "code",
   "execution_count": 36,
   "metadata": {
    "ExecuteTime": {
     "end_time": "2021-03-21T04:02:35.252952Z",
     "start_time": "2021-03-21T04:02:32.384936Z"
    }
   },
   "outputs": [
    {
     "name": "stdout",
     "output_type": "stream",
     "text": [
      "[[579692  62178]\n",
      " [126925  23075]]\n",
      "              precision    recall  f1-score   support\n",
      "\n",
      "           0       0.82      0.90      0.86    641870\n",
      "           1       0.27      0.15      0.20    150000\n",
      "\n",
      "    accuracy                           0.76    791870\n",
      "   macro avg       0.55      0.53      0.53    791870\n",
      "weighted avg       0.72      0.76      0.73    791870\n",
      "\n"
     ]
    }
   ],
   "source": [
    "from sklearn.metrics import classification_report,confusion_matrix\n",
    "y_pred = dt.predict(x_test)\n",
    "print(confusion_matrix(y_test,y_pred))\n",
    "print(classification_report(y_test,y_pred))"
   ]
  },
  {
   "cell_type": "code",
   "execution_count": 37,
   "metadata": {
    "ExecuteTime": {
     "end_time": "2021-03-21T04:02:36.621944Z",
     "start_time": "2021-03-21T04:02:35.255047Z"
    }
   },
   "outputs": [
    {
     "data": {
      "text/plain": [
       "[Text(0, 0.5, 'Default'), Text(0, 1.5, 'No Default')]"
      ]
     },
     "execution_count": 37,
     "metadata": {},
     "output_type": "execute_result"
    },
    {
     "data": {
      "image/png": "[encoded data removed]",
      "text/plain": [
       "<Figure size 720x720 with 2 Axes>"
      ]
     },
     "metadata": {
      "needs_background": "light"
     },
     "output_type": "display_data"
    }
   ],
   "source": [
    "import seaborn as sns\n",
    "labels = ['No Default', 'Default']\n",
    "cm = confusion_matrix(y_test,y_pred)\n",
    "plt.figure(figsize = (10,10))\n",
    "ax= plt.subplot()\n",
    "sns.heatmap(cm, annot=True, ax = ax,cmap=\"BuPu\"); \n",
    "\n",
    "# labels, title and ticks\n",
    "ax.set_xlabel('Predicted labels');ax.set_ylabel('True labels'); \n",
    "ax.set_title('Confusion Matrix'); \n",
    "ax.xaxis.set_ticklabels(['No Default', 'Default']); ax.yaxis.set_ticklabels(['Default', 'No Default'])"
   ]
  },
  {
   "cell_type": "code",
   "execution_count": 38,
   "metadata": {
    "ExecuteTime": {
     "end_time": "2021-03-21T04:02:36.636800Z",
     "start_time": "2021-03-21T04:02:36.623779Z"
    }
   },
   "outputs": [],
   "source": [
    "#save model\n",
    "import pickle\n",
    "Pkl_Filename = \"C:\\\\Users\\\\SAURAV\\\\OneDrive\\\\Documents\\\\PGP-DSBA\\\\Capstone\\\\P2P Lending\\\\New Data\\\\Python Code\\\\DecisionTree.pkl\"  \n",
    "with open(Pkl_Filename, 'wb') as file:  \n",
    "    pickle.dump(dt, file)"
   ]
  },
  {
   "cell_type": "code",
   "execution_count": 39,
   "metadata": {
    "ExecuteTime": {
     "end_time": "2021-03-21T04:02:37.151634Z",
     "start_time": "2021-03-21T04:02:36.638789Z"
    }
   },
   "outputs": [],
   "source": [
    "pred1 = dt.predict_proba(x_test)"
   ]
  },
  {
   "cell_type": "code",
   "execution_count": 40,
   "metadata": {
    "ExecuteTime": {
     "end_time": "2021-03-21T04:02:37.477830Z",
     "start_time": "2021-03-21T04:02:37.153644Z"
    }
   },
   "outputs": [
    {
     "data": {
      "text/plain": [
       "(-0.05, 1.03)"
      ]
     },
     "execution_count": 40,
     "metadata": {},
     "output_type": "execute_result"
    },
    {
     "data": {
      "image/png": "[encoded data removed]",
      "text/plain": [
       "<Figure size 432x288 with 1 Axes>"
      ]
     },
     "metadata": {
      "needs_background": "light"
     },
     "output_type": "display_data"
    }
   ],
   "source": [
    "#ROC Curv\n",
    "fpr, tpr, threshold= metrics.roc_curve(y_test, pred1[:,1]) \n",
    "plt.plot(fpr, tpr, label='ROC curve', color='g')\n",
    "plt.plot([0, 1], [0, 1], linestyle='--')\n",
    "plt.axes().set_aspect('equal')\n",
    "plt.xlim([-0.05, 1.03])\n",
    "plt.ylim([-0.05, 1.03])"
   ]
  },
  {
   "cell_type": "code",
   "execution_count": 41,
   "metadata": {
    "ExecuteTime": {
     "end_time": "2021-03-21T04:02:37.492878Z",
     "start_time": "2021-03-21T04:02:37.478866Z"
    }
   },
   "outputs": [
    {
     "name": "stdout",
     "output_type": "stream",
     "text": [
      "59.97666053769974\n"
     ]
    }
   ],
   "source": [
    "AUC= metrics.auc(fpr,tpr) # to get the area under the Curve\n",
    "print (AUC*100)"
   ]
  },
  {
   "cell_type": "code",
   "execution_count": 48,
   "metadata": {
    "ExecuteTime": {
     "end_time": "2021-03-21T05:15:17.858088Z",
     "start_time": "2021-03-21T05:15:17.313054Z"
    }
   },
   "outputs": [
    {
     "data": {
      "text/html": [
       "<div>\n",
       "<style scoped>\n",
       "    .dataframe tbody tr th:only-of-type {\n",
       "        vertical-align: middle;\n",
       "    }\n",
       "\n",
       "    .dataframe tbody tr th {\n",
       "        vertical-align: top;\n",
       "    }\n",
       "\n",
       "    .dataframe thead th {\n",
       "        text-align: right;\n",
       "    }\n",
       "</style>\n",
       "<table border=\"1\" class=\"dataframe\">\n",
       "  <thead>\n",
       "    <tr style=\"text-align: right;\">\n",
       "      <th>col_0</th>\n",
       "      <th>0</th>\n",
       "      <th>1</th>\n",
       "    </tr>\n",
       "    <tr>\n",
       "      <th>loan_status</th>\n",
       "      <th></th>\n",
       "      <th></th>\n",
       "    </tr>\n",
       "  </thead>\n",
       "  <tbody>\n",
       "    <tr>\n",
       "      <th>0</th>\n",
       "      <td>574179</td>\n",
       "      <td>67691</td>\n",
       "    </tr>\n",
       "    <tr>\n",
       "      <th>1</th>\n",
       "      <td>124514</td>\n",
       "      <td>25486</td>\n",
       "    </tr>\n",
       "  </tbody>\n",
       "</table>\n",
       "</div>"
      ],
      "text/plain": [
       "col_0             0      1\n",
       "loan_status               \n",
       "0            574179  67691\n",
       "1            124514  25486"
      ]
     },
     "execution_count": 48,
     "metadata": {},
     "output_type": "execute_result"
    }
   ],
   "source": [
    "#test for changing cut off\n",
    "x=[]\n",
    "for i in range(len(pred1[:,1])):\n",
    "    if (pred1[:,1][i]>=0.45):\n",
    "        x.append(1)\n",
    "    else:\n",
    "        x.append(0)\n",
    "x=np.array(x)\n",
    "pd.crosstab(y_test,x)"
   ]
  },
  {
   "cell_type": "code",
   "execution_count": 49,
   "metadata": {
    "ExecuteTime": {
     "end_time": "2021-03-21T05:15:21.217749Z",
     "start_time": "2021-03-21T05:15:20.690753Z"
    }
   },
   "outputs": [
    {
     "name": "stdout",
     "output_type": "stream",
     "text": [
      "[[574179  67691]\n",
      " [124514  25486]]\n"
     ]
    }
   ],
   "source": [
    "confusion = metrics.confusion_matrix(y_test,x )\n",
    "print(confusion)\n",
    "TP = confusion[1,1] # true positive \n",
    "TN = confusion[0,0] # true negatives\n",
    "FP = confusion[0,1] # false positives\n",
    "FN = confusion[1,0] # false negatives"
   ]
  },
  {
   "cell_type": "code",
   "execution_count": 50,
   "metadata": {
    "ExecuteTime": {
     "end_time": "2021-03-21T05:15:23.905882Z",
     "start_time": "2021-03-21T05:15:23.900883Z"
    }
   },
   "outputs": [
    {
     "name": "stdout",
     "output_type": "stream",
     "text": [
      "Accuracy=0.7572770783083081\n",
      "sensitivity=0.16990666666666668\n",
      "specificity=0.8945409506597909\n"
     ]
    }
   ],
   "source": [
    "accuracy=(TP+TN)/(TP+TN+FP+FN)\n",
    "sensitivity=TP / float(TP+FN)\n",
    "specificity=TN / float(TN+FP)\n",
    "print('Accuracy='+ str(accuracy)) \n",
    "print('sensitivity='+str(sensitivity))\n",
    "print('specificity='+str(specificity))"
   ]
  },
  {
   "cell_type": "code",
   "execution_count": null,
   "metadata": {},
   "outputs": [],
   "source": []
  }
 ],
 "metadata": {
  "kernelspec": {
   "display_name": "Python 3",
   "language": "python",
   "name": "python3"
  },
  "language_info": {
   "codemirror_mode": {
    "name": "ipython",
    "version": 3
   },
   "file_extension": ".py",
   "mimetype": "text/x-python",
   "name": "python",
   "nbconvert_exporter": "python",
   "pygments_lexer": "ipython3",
   "version": "3.7.6"
  }
 },
 "nbformat": 4,
 "nbformat_minor": 4
}
