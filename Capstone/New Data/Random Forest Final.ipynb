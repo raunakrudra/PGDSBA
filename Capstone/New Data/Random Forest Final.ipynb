{
 "cells": [
  {
   "cell_type": "code",
   "execution_count": 4,
   "metadata": {
    "ExecuteTime": {
     "end_time": "2021-02-24T18:07:04.765170Z",
     "start_time": "2021-02-24T18:07:03.375478Z"
    }
   },
   "outputs": [],
   "source": [
    "import numpy as np\n",
    "import pandas as pd\n",
    "import matplotlib.pyplot as plt\n",
    "import warnings\n",
    "warnings.filterwarnings('ignore')"
   ]
  },
  {
   "cell_type": "code",
   "execution_count": 5,
   "metadata": {
    "ExecuteTime": {
     "end_time": "2021-02-24T18:08:14.013581Z",
     "start_time": "2021-02-24T18:08:11.172611Z"
    }
   },
   "outputs": [],
   "source": [
    "train_data=pd.read_csv(\"C:\\\\Users\\\\joych\\\\OneDrive\\\\Desktop\\\\Great Learning\\\\Capstone\\\\New Data\\\\clean_data.csv\",index_col =0)"
   ]
  },
  {
   "cell_type": "code",
   "execution_count": 6,
   "metadata": {
    "ExecuteTime": {
     "end_time": "2021-02-24T18:09:24.049759Z",
     "start_time": "2021-02-24T18:09:21.501747Z"
    }
   },
   "outputs": [],
   "source": [
    "test_data=pd.read_csv(\"C:\\\\Users\\\\joych\\\\OneDrive\\\\Desktop\\\\Great Learning\\\\Capstone\\\\New Data\\\\validation_data.csv\",index_col =0);"
   ]
  },
  {
   "cell_type": "code",
   "execution_count": 7,
   "metadata": {
    "ExecuteTime": {
     "end_time": "2021-02-24T18:09:27.328910Z",
     "start_time": "2021-02-24T18:09:27.014897Z"
    }
   },
   "outputs": [
    {
     "name": "stdout",
     "output_type": "stream",
     "text": [
      "<class 'pandas.core.frame.DataFrame'>\n",
      "Int64Index: 883760 entries, 0 to 887441\n",
      "Data columns (total 20 columns):\n",
      "loan_amnt              883760 non-null float64\n",
      "term                   883760 non-null int64\n",
      "installment            883760 non-null float64\n",
      "home_ownership         883760 non-null object\n",
      "annual_inc             883760 non-null float64\n",
      "verification_status    883760 non-null object\n",
      "loan_status            883760 non-null object\n",
      "purpose                883760 non-null object\n",
      "addr_state             883760 non-null object\n",
      "dti                    883760 non-null float64\n",
      "delinq_2yrs            883760 non-null float64\n",
      "open_acc               883760 non-null float64\n",
      "pub_rec                883760 non-null float64\n",
      "revol_bal              883760 non-null float64\n",
      "total_acc              883760 non-null float64\n",
      "initial_list_status    883760 non-null object\n",
      "application_type       883760 non-null object\n",
      "mort_acc               883760 non-null float64\n",
      "loan_age               883760 non-null int64\n",
      "fico_value             883760 non-null float64\n",
      "dtypes: float64(11), int64(2), object(7)\n",
      "memory usage: 141.6+ MB\n"
     ]
    }
   ],
   "source": [
    "train_data.info()"
   ]
  },
  {
   "cell_type": "code",
   "execution_count": 8,
   "metadata": {
    "ExecuteTime": {
     "end_time": "2021-02-24T18:09:36.701058Z",
     "start_time": "2021-02-24T18:09:36.695056Z"
    }
   },
   "outputs": [
    {
     "name": "stdout",
     "output_type": "stream",
     "text": [
      "loan_amnt\n",
      "term\n",
      "installment\n",
      "home_ownership\n",
      "annual_inc\n",
      "verification_status\n",
      "loan_status\n",
      "purpose\n",
      "addr_state\n",
      "dti\n",
      "delinq_2yrs\n",
      "open_acc\n",
      "pub_rec\n",
      "revol_bal\n",
      "total_acc\n",
      "initial_list_status\n",
      "application_type\n",
      "mort_acc\n",
      "loan_age\n",
      "fico_value\n"
     ]
    }
   ],
   "source": [
    "for column in test_data:\n",
    "    print(column)"
   ]
  },
  {
   "cell_type": "code",
   "execution_count": 9,
   "metadata": {
    "ExecuteTime": {
     "end_time": "2021-02-24T18:09:39.979782Z",
     "start_time": "2021-02-24T18:09:39.975781Z"
    }
   },
   "outputs": [
    {
     "data": {
      "text/plain": [
       "(883760, 20)"
      ]
     },
     "execution_count": 9,
     "metadata": {},
     "output_type": "execute_result"
    }
   ],
   "source": [
    "train_data.shape"
   ]
  },
  {
   "cell_type": "code",
   "execution_count": 10,
   "metadata": {
    "ExecuteTime": {
     "end_time": "2021-02-24T18:09:42.059450Z",
     "start_time": "2021-02-24T18:09:42.054486Z"
    }
   },
   "outputs": [
    {
     "name": "stdout",
     "output_type": "stream",
     "text": [
      "loan_amnt\n",
      "term\n",
      "installment\n",
      "home_ownership\n",
      "annual_inc\n",
      "verification_status\n",
      "loan_status\n",
      "purpose\n",
      "addr_state\n",
      "dti\n",
      "delinq_2yrs\n",
      "open_acc\n",
      "pub_rec\n",
      "revol_bal\n",
      "total_acc\n",
      "initial_list_status\n",
      "application_type\n",
      "mort_acc\n",
      "loan_age\n",
      "fico_value\n"
     ]
    }
   ],
   "source": [
    "for column in train_data:\n",
    "    print(column)"
   ]
  },
  {
   "cell_type": "code",
   "execution_count": 11,
   "metadata": {
    "ExecuteTime": {
     "end_time": "2021-02-24T18:09:45.842090Z",
     "start_time": "2021-02-24T18:09:45.120053Z"
    }
   },
   "outputs": [
    {
     "data": {
      "text/html": [
       "<div>\n",
       "<style scoped>\n",
       "    .dataframe tbody tr th:only-of-type {\n",
       "        vertical-align: middle;\n",
       "    }\n",
       "\n",
       "    .dataframe tbody tr th {\n",
       "        vertical-align: top;\n",
       "    }\n",
       "\n",
       "    .dataframe thead th {\n",
       "        text-align: right;\n",
       "    }\n",
       "</style>\n",
       "<table border=\"1\" class=\"dataframe\">\n",
       "  <thead>\n",
       "    <tr style=\"text-align: right;\">\n",
       "      <th></th>\n",
       "      <th>loan_amnt</th>\n",
       "      <th>term</th>\n",
       "      <th>installment</th>\n",
       "      <th>annual_inc</th>\n",
       "      <th>dti</th>\n",
       "      <th>delinq_2yrs</th>\n",
       "      <th>open_acc</th>\n",
       "      <th>pub_rec</th>\n",
       "      <th>revol_bal</th>\n",
       "      <th>total_acc</th>\n",
       "      <th>mort_acc</th>\n",
       "      <th>loan_age</th>\n",
       "      <th>fico_value</th>\n",
       "    </tr>\n",
       "  </thead>\n",
       "  <tbody>\n",
       "    <tr>\n",
       "      <th>count</th>\n",
       "      <td>883760.000000</td>\n",
       "      <td>883760.000000</td>\n",
       "      <td>883760.000000</td>\n",
       "      <td>8.837600e+05</td>\n",
       "      <td>883760.000000</td>\n",
       "      <td>883760.000000</td>\n",
       "      <td>883760.000000</td>\n",
       "      <td>883760.000000</td>\n",
       "      <td>8.837600e+05</td>\n",
       "      <td>883760.000000</td>\n",
       "      <td>883760.000000</td>\n",
       "      <td>883760.000000</td>\n",
       "      <td>883760.000000</td>\n",
       "    </tr>\n",
       "    <tr>\n",
       "      <th>mean</th>\n",
       "      <td>14731.919724</td>\n",
       "      <td>43.131266</td>\n",
       "      <td>436.515979</td>\n",
       "      <td>7.499028e+04</td>\n",
       "      <td>18.120789</td>\n",
       "      <td>0.314170</td>\n",
       "      <td>11.543626</td>\n",
       "      <td>0.195315</td>\n",
       "      <td>1.689510e+04</td>\n",
       "      <td>25.266962</td>\n",
       "      <td>1.659818</td>\n",
       "      <td>2544.660686</td>\n",
       "      <td>696.949143</td>\n",
       "    </tr>\n",
       "    <tr>\n",
       "      <th>std</th>\n",
       "      <td>8431.959984</td>\n",
       "      <td>10.967934</td>\n",
       "      <td>244.386965</td>\n",
       "      <td>6.472353e+04</td>\n",
       "      <td>8.407760</td>\n",
       "      <td>0.861878</td>\n",
       "      <td>5.314401</td>\n",
       "      <td>0.581381</td>\n",
       "      <td>2.239845e+04</td>\n",
       "      <td>11.841671</td>\n",
       "      <td>2.067023</td>\n",
       "      <td>461.002825</td>\n",
       "      <td>30.503467</td>\n",
       "    </tr>\n",
       "    <tr>\n",
       "      <th>min</th>\n",
       "      <td>500.000000</td>\n",
       "      <td>36.000000</td>\n",
       "      <td>4.930000</td>\n",
       "      <td>1.200000e+03</td>\n",
       "      <td>0.000000</td>\n",
       "      <td>0.000000</td>\n",
       "      <td>0.000000</td>\n",
       "      <td>0.000000</td>\n",
       "      <td>0.000000e+00</td>\n",
       "      <td>1.000000</td>\n",
       "      <td>0.000000</td>\n",
       "      <td>2181.000000</td>\n",
       "      <td>612.000000</td>\n",
       "    </tr>\n",
       "    <tr>\n",
       "      <th>25%</th>\n",
       "      <td>8000.000000</td>\n",
       "      <td>36.000000</td>\n",
       "      <td>260.460000</td>\n",
       "      <td>4.500000e+04</td>\n",
       "      <td>11.900000</td>\n",
       "      <td>0.000000</td>\n",
       "      <td>8.000000</td>\n",
       "      <td>0.000000</td>\n",
       "      <td>6.433000e+03</td>\n",
       "      <td>17.000000</td>\n",
       "      <td>0.000000</td>\n",
       "      <td>2186.000000</td>\n",
       "      <td>672.000000</td>\n",
       "    </tr>\n",
       "    <tr>\n",
       "      <th>50%</th>\n",
       "      <td>13000.000000</td>\n",
       "      <td>36.000000</td>\n",
       "      <td>382.550000</td>\n",
       "      <td>6.480000e+04</td>\n",
       "      <td>17.640000</td>\n",
       "      <td>0.000000</td>\n",
       "      <td>11.000000</td>\n",
       "      <td>0.000000</td>\n",
       "      <td>1.185600e+04</td>\n",
       "      <td>24.000000</td>\n",
       "      <td>1.000000</td>\n",
       "      <td>2547.000000</td>\n",
       "      <td>692.000000</td>\n",
       "    </tr>\n",
       "    <tr>\n",
       "      <th>75%</th>\n",
       "      <td>20000.000000</td>\n",
       "      <td>60.000000</td>\n",
       "      <td>572.400000</td>\n",
       "      <td>9.000000e+04</td>\n",
       "      <td>23.930000</td>\n",
       "      <td>0.000000</td>\n",
       "      <td>14.000000</td>\n",
       "      <td>0.000000</td>\n",
       "      <td>2.079700e+04</td>\n",
       "      <td>32.000000</td>\n",
       "      <td>3.000000</td>\n",
       "      <td>2911.000000</td>\n",
       "      <td>712.000000</td>\n",
       "    </tr>\n",
       "    <tr>\n",
       "      <th>max</th>\n",
       "      <td>35000.000000</td>\n",
       "      <td>60.000000</td>\n",
       "      <td>1445.460000</td>\n",
       "      <td>9.500000e+06</td>\n",
       "      <td>999.000000</td>\n",
       "      <td>39.000000</td>\n",
       "      <td>90.000000</td>\n",
       "      <td>86.000000</td>\n",
       "      <td>2.904836e+06</td>\n",
       "      <td>169.000000</td>\n",
       "      <td>52.000000</td>\n",
       "      <td>5109.000000</td>\n",
       "      <td>847.500000</td>\n",
       "    </tr>\n",
       "  </tbody>\n",
       "</table>\n",
       "</div>"
      ],
      "text/plain": [
       "           loan_amnt           term    installment    annual_inc  \\\n",
       "count  883760.000000  883760.000000  883760.000000  8.837600e+05   \n",
       "mean    14731.919724      43.131266     436.515979  7.499028e+04   \n",
       "std      8431.959984      10.967934     244.386965  6.472353e+04   \n",
       "min       500.000000      36.000000       4.930000  1.200000e+03   \n",
       "25%      8000.000000      36.000000     260.460000  4.500000e+04   \n",
       "50%     13000.000000      36.000000     382.550000  6.480000e+04   \n",
       "75%     20000.000000      60.000000     572.400000  9.000000e+04   \n",
       "max     35000.000000      60.000000    1445.460000  9.500000e+06   \n",
       "\n",
       "                 dti    delinq_2yrs       open_acc        pub_rec  \\\n",
       "count  883760.000000  883760.000000  883760.000000  883760.000000   \n",
       "mean       18.120789       0.314170      11.543626       0.195315   \n",
       "std         8.407760       0.861878       5.314401       0.581381   \n",
       "min         0.000000       0.000000       0.000000       0.000000   \n",
       "25%        11.900000       0.000000       8.000000       0.000000   \n",
       "50%        17.640000       0.000000      11.000000       0.000000   \n",
       "75%        23.930000       0.000000      14.000000       0.000000   \n",
       "max       999.000000      39.000000      90.000000      86.000000   \n",
       "\n",
       "          revol_bal      total_acc       mort_acc       loan_age  \\\n",
       "count  8.837600e+05  883760.000000  883760.000000  883760.000000   \n",
       "mean   1.689510e+04      25.266962       1.659818    2544.660686   \n",
       "std    2.239845e+04      11.841671       2.067023     461.002825   \n",
       "min    0.000000e+00       1.000000       0.000000    2181.000000   \n",
       "25%    6.433000e+03      17.000000       0.000000    2186.000000   \n",
       "50%    1.185600e+04      24.000000       1.000000    2547.000000   \n",
       "75%    2.079700e+04      32.000000       3.000000    2911.000000   \n",
       "max    2.904836e+06     169.000000      52.000000    5109.000000   \n",
       "\n",
       "          fico_value  \n",
       "count  883760.000000  \n",
       "mean      696.949143  \n",
       "std        30.503467  \n",
       "min       612.000000  \n",
       "25%       672.000000  \n",
       "50%       692.000000  \n",
       "75%       712.000000  \n",
       "max       847.500000  "
      ]
     },
     "execution_count": 11,
     "metadata": {},
     "output_type": "execute_result"
    }
   ],
   "source": [
    "train_data.describe()"
   ]
  },
  {
   "cell_type": "code",
   "execution_count": 12,
   "metadata": {
    "ExecuteTime": {
     "end_time": "2021-02-24T18:09:48.832074Z",
     "start_time": "2021-02-24T18:09:48.537069Z"
    }
   },
   "outputs": [
    {
     "name": "stdout",
     "output_type": "stream",
     "text": [
      "<class 'pandas.core.frame.DataFrame'>\n",
      "Int64Index: 883760 entries, 0 to 887441\n",
      "Data columns (total 20 columns):\n",
      "loan_amnt              883760 non-null float64\n",
      "term                   883760 non-null int64\n",
      "installment            883760 non-null float64\n",
      "home_ownership         883760 non-null object\n",
      "annual_inc             883760 non-null float64\n",
      "verification_status    883760 non-null object\n",
      "loan_status            883760 non-null object\n",
      "purpose                883760 non-null object\n",
      "addr_state             883760 non-null object\n",
      "dti                    883760 non-null float64\n",
      "delinq_2yrs            883760 non-null float64\n",
      "open_acc               883760 non-null float64\n",
      "pub_rec                883760 non-null float64\n",
      "revol_bal              883760 non-null float64\n",
      "total_acc              883760 non-null float64\n",
      "initial_list_status    883760 non-null object\n",
      "application_type       883760 non-null object\n",
      "mort_acc               883760 non-null float64\n",
      "loan_age               883760 non-null int64\n",
      "fico_value             883760 non-null float64\n",
      "dtypes: float64(11), int64(2), object(7)\n",
      "memory usage: 141.6+ MB\n"
     ]
    }
   ],
   "source": [
    "train_data.info()"
   ]
  },
  {
   "cell_type": "code",
   "execution_count": 13,
   "metadata": {
    "ExecuteTime": {
     "end_time": "2021-02-24T18:09:51.697890Z",
     "start_time": "2021-02-24T18:09:51.626928Z"
    }
   },
   "outputs": [
    {
     "data": {
      "text/plain": [
       "Fully Paid     725753\n",
       "Charged Off    158007\n",
       "Name: loan_status, dtype: int64"
      ]
     },
     "execution_count": 13,
     "metadata": {},
     "output_type": "execute_result"
    }
   ],
   "source": [
    "train_data['loan_status'].value_counts()"
   ]
  },
  {
   "cell_type": "code",
   "execution_count": 14,
   "metadata": {
    "ExecuteTime": {
     "end_time": "2021-02-24T18:10:03.399694Z",
     "start_time": "2021-02-24T18:10:02.530662Z"
    }
   },
   "outputs": [],
   "source": [
    "train_data['loan_status'] = train_data['loan_status'].str.replace('Fully Paid','1')\n",
    "train_data['loan_status'] = train_data['loan_status'].str.replace('Charged Off','0')"
   ]
  },
  {
   "cell_type": "code",
   "execution_count": 15,
   "metadata": {
    "ExecuteTime": {
     "end_time": "2021-02-24T18:10:06.461149Z",
     "start_time": "2021-02-24T18:10:05.681046Z"
    }
   },
   "outputs": [],
   "source": [
    "test_data['loan_status'] = test_data['loan_status'].str.replace('Fully Paid','1')\n",
    "test_data['loan_status'] = test_data['loan_status'].str.replace('Charged Off','0')"
   ]
  },
  {
   "cell_type": "code",
   "execution_count": 16,
   "metadata": {
    "ExecuteTime": {
     "end_time": "2021-02-24T18:10:07.919880Z",
     "start_time": "2021-02-24T18:10:07.834704Z"
    }
   },
   "outputs": [],
   "source": [
    "train_data['loan_status']=train_data['loan_status'].astype(int)"
   ]
  },
  {
   "cell_type": "code",
   "execution_count": 17,
   "metadata": {
    "ExecuteTime": {
     "end_time": "2021-02-24T18:10:09.564600Z",
     "start_time": "2021-02-24T18:10:09.491401Z"
    }
   },
   "outputs": [],
   "source": [
    "test_data['loan_status']=test_data['loan_status'].astype(int)"
   ]
  },
  {
   "cell_type": "code",
   "execution_count": 18,
   "metadata": {
    "ExecuteTime": {
     "end_time": "2021-02-24T18:10:13.127738Z",
     "start_time": "2021-02-24T18:10:12.207737Z"
    }
   },
   "outputs": [],
   "source": [
    "\n",
    "one_hot_data=pd.get_dummies(train_data, columns=[\"home_ownership\",\"verification_status\", \"purpose\",\"addr_state\",\"initial_list_status\",\"application_type\"], prefix=[\"home\", 'verification', 'purpose', 'addr','initial_','appli'])"
   ]
  },
  {
   "cell_type": "code",
   "execution_count": 19,
   "metadata": {
    "ExecuteTime": {
     "end_time": "2021-02-24T18:10:15.619195Z",
     "start_time": "2021-02-24T18:10:14.832194Z"
    }
   },
   "outputs": [],
   "source": [
    "\n",
    "one_hot_test=pd.get_dummies(test_data, columns=[\"home_ownership\",\"verification_status\", \"purpose\",\"addr_state\",\"initial_list_status\",\"application_type\"], prefix=[\"home\", 'verification', 'purpose', 'addr','initial_','appli'])"
   ]
  },
  {
   "cell_type": "code",
   "execution_count": 20,
   "metadata": {
    "ExecuteTime": {
     "end_time": "2021-02-24T18:10:22.408689Z",
     "start_time": "2021-02-24T18:10:22.402715Z"
    }
   },
   "outputs": [
    {
     "data": {
      "text/plain": [
       "(791870, 90)"
      ]
     },
     "execution_count": 20,
     "metadata": {},
     "output_type": "execute_result"
    }
   ],
   "source": [
    "one_hot_test.shape"
   ]
  },
  {
   "cell_type": "code",
   "execution_count": 21,
   "metadata": {
    "ExecuteTime": {
     "end_time": "2021-02-24T18:10:37.776235Z",
     "start_time": "2021-02-24T18:10:37.771277Z"
    }
   },
   "outputs": [
    {
     "data": {
      "text/plain": [
       "(883760, 92)"
      ]
     },
     "execution_count": 21,
     "metadata": {},
     "output_type": "execute_result"
    }
   ],
   "source": [
    "one_hot_data.shape"
   ]
  },
  {
   "cell_type": "code",
   "execution_count": 22,
   "metadata": {
    "ExecuteTime": {
     "end_time": "2021-02-24T18:11:26.423722Z",
     "start_time": "2021-02-24T18:11:25.832754Z"
    }
   },
   "outputs": [],
   "source": [
    "one_hot_data.drop(['home_OTHER'],axis =1,inplace =True)\n",
    "one_hot_data.drop(['addr_IA'],axis =1,inplace =True)"
   ]
  },
  {
   "cell_type": "code",
   "execution_count": 23,
   "metadata": {
    "ExecuteTime": {
     "end_time": "2021-02-24T18:11:45.702427Z",
     "start_time": "2021-02-24T18:11:45.561465Z"
    }
   },
   "outputs": [],
   "source": [
    "X_train=one_hot_data.drop(['loan_status'],axis=1) \n",
    "y_train=one_hot_data.loan_status"
   ]
  },
  {
   "cell_type": "code",
   "execution_count": 24,
   "metadata": {
    "ExecuteTime": {
     "end_time": "2021-02-24T18:11:53.657488Z",
     "start_time": "2021-02-24T18:11:53.310483Z"
    }
   },
   "outputs": [],
   "source": [
    "X_test=one_hot_test.drop(['loan_status'],axis=1) \n",
    "y_test=one_hot_test.loan_status"
   ]
  },
  {
   "cell_type": "code",
   "execution_count": 25,
   "metadata": {},
   "outputs": [
    {
     "data": {
      "text/plain": [
       "RandomForestClassifier(bootstrap=True, class_weight=None, criterion='gini',\n",
       "                       max_depth=None, max_features='auto', max_leaf_nodes=None,\n",
       "                       min_impurity_decrease=0.0, min_impurity_split=None,\n",
       "                       min_samples_leaf=1, min_samples_split=2,\n",
       "                       min_weight_fraction_leaf=0.0, n_estimators=10,\n",
       "                       n_jobs=None, oob_score=False, random_state=None,\n",
       "                       verbose=0, warm_start=False)"
      ]
     },
     "execution_count": 25,
     "metadata": {},
     "output_type": "execute_result"
    }
   ],
   "source": [
    "from sklearn.ensemble import RandomForestClassifier\n",
    "dfor = RandomForestClassifier()\n",
    "dfor.fit(X_train, y_train)"
   ]
  },
  {
   "cell_type": "code",
   "execution_count": 26,
   "metadata": {},
   "outputs": [],
   "source": [
    "y_pred = dfor.predict(X_test)"
   ]
  },
  {
   "cell_type": "code",
   "execution_count": 30,
   "metadata": {},
   "outputs": [
    {
     "name": "stdout",
     "output_type": "stream",
     "text": [
      "[[ 22509 127491]\n",
      " [ 40925 600945]]\n",
      "              precision    recall  f1-score   support\n",
      "\n",
      "           0       0.35      0.15      0.21    150000\n",
      "           1       0.82      0.94      0.88    641870\n",
      "\n",
      "    accuracy                           0.79    791870\n",
      "   macro avg       0.59      0.54      0.54    791870\n",
      "weighted avg       0.74      0.79      0.75    791870\n",
      "\n",
      "0.7873186255319686\n"
     ]
    }
   ],
   "source": [
    "from sklearn.metrics import classification_report, confusion_matrix, accuracy_score\n",
    "\n",
    "print(confusion_matrix(y_test,y_pred))\n",
    "print(classification_report(y_test,y_pred))\n",
    "print(accuracy_score(y_test, y_pred))"
   ]
  },
  {
   "cell_type": "code",
   "execution_count": 32,
   "metadata": {},
   "outputs": [
    {
     "name": "stdout",
     "output_type": "stream",
     "text": [
      "[[ 22509 127491]\n",
      " [ 40925 600945]]\n"
     ]
    }
   ],
   "source": [
    "# Confusion matrix \n",
    "from sklearn import metrics\n",
    "confusion = metrics.confusion_matrix(y_test, y_pred)\n",
    "print(confusion)"
   ]
  },
  {
   "cell_type": "code",
   "execution_count": 33,
   "metadata": {},
   "outputs": [],
   "source": [
    "TP = confusion[1,1] # true positive \n",
    "TN = confusion[0,0] # true negatives\n",
    "FP = confusion[0,1] # false positives\n",
    "FN = confusion[1,0] # false negatives"
   ]
  },
  {
   "cell_type": "code",
   "execution_count": 34,
   "metadata": {
    "scrolled": true
   },
   "outputs": [
    {
     "name": "stdout",
     "output_type": "stream",
     "text": [
      "Accuracy=0.7873186255319686\n",
      "sensitivity=0.9362409833766963\n",
      "specificity=0.15006\n"
     ]
    }
   ],
   "source": [
    "accuracy=(TP+TN)/(TP+TN+FP+FN)\n",
    "sensitivity=TP / float(TP+FN)\n",
    "specificity=TN / float(TN+FP)\n",
    "print('Accuracy='+ str(accuracy)) \n",
    "print('sensitivity='+str(sensitivity))\n",
    "print('specificity='+str(specificity))"
   ]
  }
 ],
 "metadata": {
  "kernelspec": {
   "display_name": "Python 3",
   "language": "python",
   "name": "python3"
  },
  "language_info": {
   "codemirror_mode": {
    "name": "ipython",
    "version": 3
   },
   "file_extension": ".py",
   "mimetype": "text/x-python",
   "name": "python",
   "nbconvert_exporter": "python",
   "pygments_lexer": "ipython3",
   "version": "3.7.6"
  }
 },
 "nbformat": 4,
 "nbformat_minor": 4
}
